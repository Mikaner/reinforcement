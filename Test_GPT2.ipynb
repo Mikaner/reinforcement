{
  "nbformat": 4,
  "nbformat_minor": 0,
  "metadata": {
    "colab": {
      "name": "Test-GPT2.ipynb",
      "provenance": [],
      "mount_file_id": "1BE-c5TP4p3AA2Kfd1i8oRKPfy82n2hZg",
      "authorship_tag": "ABX9TyPrCZppVTh/+H126wCTmKd0",
      "include_colab_link": true
    },
    "kernelspec": {
      "name": "python3",
      "display_name": "Python 3"
    },
    "language_info": {
      "name": "python"
    }
  },
  "cells": [
    {
      "cell_type": "markdown",
      "metadata": {
        "id": "view-in-github",
        "colab_type": "text"
      },
      "source": [
        "<a href=\"https://colab.research.google.com/github/Mikaner/reinforcement/blob/main/Test_GPT2.ipynb\" target=\"_parent\"><img src=\"https://colab.research.google.com/assets/colab-badge.svg\" alt=\"Open In Colab\"/></a>"
      ]
    },
    {
      "cell_type": "code",
      "metadata": {
        "id": "IritQNiqCckW"
      },
      "source": [
        "cd /content/drive/My Drive/Programs/Research"
      ],
      "execution_count": null,
      "outputs": []
    },
    {
      "cell_type": "code",
      "metadata": {
        "colab": {
          "base_uri": "https://localhost:8080/"
        },
        "id": "f-jSM5fFAyf3",
        "outputId": "7c0077b7-afda-43ff-cf81-a87385ec0457"
      },
      "source": [
        "!git clone https://github.com/graykode/gpt-2-Pytorch.git"
      ],
      "execution_count": 8,
      "outputs": [
        {
          "output_type": "stream",
          "name": "stdout",
          "text": [
            "/bin/bash: line 0: cd: too many arguments\n",
            "Cloning into 'gpt-2-Pytorch'...\n",
            "remote: Enumerating objects: 130, done.\u001b[K\n",
            "remote: Total 130 (delta 0), reused 0 (delta 0), pack-reused 130\u001b[K\n",
            "Receiving objects: 100% (130/130), 2.39 MiB | 7.81 MiB/s, done.\n",
            "Resolving deltas: 100% (48/48), done.\n"
          ]
        }
      ]
    },
    {
      "cell_type": "code",
      "metadata": {
        "colab": {
          "base_uri": "https://localhost:8080/"
        },
        "id": "b9-0KEJ0BmfY",
        "outputId": "f72eb7ef-dd26-4d96-d968-444000898bd3"
      },
      "source": [
        "cd /content/drive/My Drive/Programs/Research/gpt-2-Pytorch"
      ],
      "execution_count": 15,
      "outputs": [
        {
          "output_type": "stream",
          "name": "stdout",
          "text": [
            "/content/drive/My Drive/Programs/Research/gpt-2-Pytorch\n"
          ]
        }
      ]
    },
    {
      "cell_type": "code",
      "metadata": {
        "colab": {
          "base_uri": "https://localhost:8080/",
          "height": 35
        },
        "id": "hdVxnVOeCkOX",
        "outputId": "450d075a-bbaf-4044-ac15-3fa1a7616f1a"
      },
      "source": [
        "pwd"
      ],
      "execution_count": 16,
      "outputs": [
        {
          "output_type": "execute_result",
          "data": {
            "application/vnd.google.colaboratory.intrinsic+json": {
              "type": "string"
            },
            "text/plain": [
              "'/content/drive/My Drive/Programs/Research/gpt-2-Pytorch'"
            ]
          },
          "metadata": {},
          "execution_count": 16
        }
      ]
    },
    {
      "cell_type": "code",
      "metadata": {
        "colab": {
          "base_uri": "https://localhost:8080/"
        },
        "id": "tkEqpjoaBxZY",
        "outputId": "3b2df5f2-34c7-4f2e-b25e-d10f67b005e6"
      },
      "source": [
        "!curl --output gpt2-pytorch_model.bin https://s3.amazonaws.com/models.huggingface.co/bert/gpt2-pytorch_model.bin"
      ],
      "execution_count": 11,
      "outputs": [
        {
          "output_type": "stream",
          "name": "stdout",
          "text": [
            "  % Total    % Received % Xferd  Average Speed   Time    Time     Time  Current\n",
            "                                 Dload  Upload   Total   Spent    Left  Speed\n",
            "100  522M  100  522M    0     0  42.7M      0  0:00:12  0:00:12 --:--:-- 44.5M\n",
            "\u001b[31mERROR: Could not open requirements file: [Errno 2] No such file or directory: 'requirements.txt'\u001b[0m\n"
          ]
        }
      ]
    },
    {
      "cell_type": "code",
      "metadata": {
        "colab": {
          "base_uri": "https://localhost:8080/"
        },
        "id": "Lt-uva_2CKGP",
        "outputId": "a62aaf31-0815-414b-effe-cf8971e15663"
      },
      "source": [
        "ls"
      ],
      "execution_count": 20,
      "outputs": [
        {
          "output_type": "stream",
          "name": "stdout",
          "text": [
            "\u001b[0m\u001b[01;34mGPT2\u001b[0m/               gpt2-pytorch_model.bin  main.py    requirements.txt\n",
            "GPT2_Pytorch.ipynb  LICENSE                 README.md\n"
          ]
        }
      ]
    },
    {
      "cell_type": "code",
      "metadata": {
        "colab": {
          "base_uri": "https://localhost:8080/"
        },
        "id": "fRYoOpaLCQjn",
        "outputId": "cc034ffd-ff29-4ccc-c6b0-33fb6d912182"
      },
      "source": [
        "!pip install -r requirements.txt"
      ],
      "execution_count": 21,
      "outputs": [
        {
          "output_type": "stream",
          "name": "stdout",
          "text": [
            "Collecting regex==2017.4.5\n",
            "  Downloading regex-2017.04.05.tar.gz (601 kB)\n",
            "\u001b[?25l\r\u001b[K     |▌                               | 10 kB 22.9 MB/s eta 0:00:01\r\u001b[K     |█                               | 20 kB 26.1 MB/s eta 0:00:01\r\u001b[K     |█▋                              | 30 kB 11.7 MB/s eta 0:00:01\r\u001b[K     |██▏                             | 40 kB 9.9 MB/s eta 0:00:01\r\u001b[K     |██▊                             | 51 kB 5.4 MB/s eta 0:00:01\r\u001b[K     |███▎                            | 61 kB 6.0 MB/s eta 0:00:01\r\u001b[K     |███▉                            | 71 kB 5.7 MB/s eta 0:00:01\r\u001b[K     |████▍                           | 81 kB 6.4 MB/s eta 0:00:01\r\u001b[K     |█████                           | 92 kB 5.0 MB/s eta 0:00:01\r\u001b[K     |█████▌                          | 102 kB 5.3 MB/s eta 0:00:01\r\u001b[K     |██████                          | 112 kB 5.3 MB/s eta 0:00:01\r\u001b[K     |██████▌                         | 122 kB 5.3 MB/s eta 0:00:01\r\u001b[K     |███████                         | 133 kB 5.3 MB/s eta 0:00:01\r\u001b[K     |███████▋                        | 143 kB 5.3 MB/s eta 0:00:01\r\u001b[K     |████████▏                       | 153 kB 5.3 MB/s eta 0:00:01\r\u001b[K     |████████▊                       | 163 kB 5.3 MB/s eta 0:00:01\r\u001b[K     |█████████▎                      | 174 kB 5.3 MB/s eta 0:00:01\r\u001b[K     |█████████▉                      | 184 kB 5.3 MB/s eta 0:00:01\r\u001b[K     |██████████▍                     | 194 kB 5.3 MB/s eta 0:00:01\r\u001b[K     |███████████                     | 204 kB 5.3 MB/s eta 0:00:01\r\u001b[K     |███████████▍                    | 215 kB 5.3 MB/s eta 0:00:01\r\u001b[K     |████████████                    | 225 kB 5.3 MB/s eta 0:00:01\r\u001b[K     |████████████▌                   | 235 kB 5.3 MB/s eta 0:00:01\r\u001b[K     |█████████████                   | 245 kB 5.3 MB/s eta 0:00:01\r\u001b[K     |█████████████▋                  | 256 kB 5.3 MB/s eta 0:00:01\r\u001b[K     |██████████████▏                 | 266 kB 5.3 MB/s eta 0:00:01\r\u001b[K     |██████████████▊                 | 276 kB 5.3 MB/s eta 0:00:01\r\u001b[K     |███████████████▎                | 286 kB 5.3 MB/s eta 0:00:01\r\u001b[K     |███████████████▉                | 296 kB 5.3 MB/s eta 0:00:01\r\u001b[K     |████████████████▍               | 307 kB 5.3 MB/s eta 0:00:01\r\u001b[K     |████████████████▉               | 317 kB 5.3 MB/s eta 0:00:01\r\u001b[K     |█████████████████▍              | 327 kB 5.3 MB/s eta 0:00:01\r\u001b[K     |██████████████████              | 337 kB 5.3 MB/s eta 0:00:01\r\u001b[K     |██████████████████▌             | 348 kB 5.3 MB/s eta 0:00:01\r\u001b[K     |███████████████████             | 358 kB 5.3 MB/s eta 0:00:01\r\u001b[K     |███████████████████▋            | 368 kB 5.3 MB/s eta 0:00:01\r\u001b[K     |████████████████████▏           | 378 kB 5.3 MB/s eta 0:00:01\r\u001b[K     |████████████████████▊           | 389 kB 5.3 MB/s eta 0:00:01\r\u001b[K     |█████████████████████▎          | 399 kB 5.3 MB/s eta 0:00:01\r\u001b[K     |█████████████████████▉          | 409 kB 5.3 MB/s eta 0:00:01\r\u001b[K     |██████████████████████▎         | 419 kB 5.3 MB/s eta 0:00:01\r\u001b[K     |██████████████████████▉         | 430 kB 5.3 MB/s eta 0:00:01\r\u001b[K     |███████████████████████▍        | 440 kB 5.3 MB/s eta 0:00:01\r\u001b[K     |████████████████████████        | 450 kB 5.3 MB/s eta 0:00:01\r\u001b[K     |████████████████████████▌       | 460 kB 5.3 MB/s eta 0:00:01\r\u001b[K     |█████████████████████████       | 471 kB 5.3 MB/s eta 0:00:01\r\u001b[K     |█████████████████████████▋      | 481 kB 5.3 MB/s eta 0:00:01\r\u001b[K     |██████████████████████████▏     | 491 kB 5.3 MB/s eta 0:00:01\r\u001b[K     |██████████████████████████▊     | 501 kB 5.3 MB/s eta 0:00:01\r\u001b[K     |███████████████████████████▎    | 512 kB 5.3 MB/s eta 0:00:01\r\u001b[K     |███████████████████████████▊    | 522 kB 5.3 MB/s eta 0:00:01\r\u001b[K     |████████████████████████████▎   | 532 kB 5.3 MB/s eta 0:00:01\r\u001b[K     |████████████████████████████▉   | 542 kB 5.3 MB/s eta 0:00:01\r\u001b[K     |█████████████████████████████▍  | 552 kB 5.3 MB/s eta 0:00:01\r\u001b[K     |██████████████████████████████  | 563 kB 5.3 MB/s eta 0:00:01\r\u001b[K     |██████████████████████████████▌ | 573 kB 5.3 MB/s eta 0:00:01\r\u001b[K     |███████████████████████████████ | 583 kB 5.3 MB/s eta 0:00:01\r\u001b[K     |███████████████████████████████▋| 593 kB 5.3 MB/s eta 0:00:01\r\u001b[K     |████████████████████████████████| 601 kB 5.3 MB/s \n",
            "\u001b[?25hBuilding wheels for collected packages: regex\n",
            "  Building wheel for regex (setup.py) ... \u001b[?25l\u001b[?25hdone\n",
            "  Created wheel for regex: filename=regex-2017.4.5-cp37-cp37m-linux_x86_64.whl size=534442 sha256=f78f165520e2bd04093d783829c27a5ddfbc57d1285960254fbb1967a88e5d19\n",
            "  Stored in directory: /root/.cache/pip/wheels/3d/e8/a5/d4894e7ef29935f75c6074409ce8ca80a0271f0ce2a30da5d3\n",
            "Successfully built regex\n",
            "Installing collected packages: regex\n",
            "  Attempting uninstall: regex\n",
            "    Found existing installation: regex 2019.12.20\n",
            "    Uninstalling regex-2019.12.20:\n",
            "      Successfully uninstalled regex-2019.12.20\n",
            "Successfully installed regex-2017.4.5\n"
          ]
        }
      ]
    },
    {
      "cell_type": "code",
      "metadata": {
        "colab": {
          "base_uri": "https://localhost:8080/"
        },
        "id": "mFrnNi4aCsjI",
        "outputId": "f3b03ad7-3ed7-4391-d3be-b604e0469752"
      },
      "source": [
        "!python main.py --text \"A non-profit American AI (artificial intelligence) research company OpenAI, co-chaired by Mr. Eilon Mask, announced February 14 (local time) a language model GPT-2 that generates sentences of natural language.\""
      ],
      "execution_count": 24,
      "outputs": [
        {
          "output_type": "stream",
          "name": "stdout",
          "text": [
            "Namespace(batch_size=-1, length=-1, nsamples=1, quiet=False, temperature=0.7, text='A non-profit American AI (artificial intelligence) research company OpenAI, co-chaired by Mr. Eilon Mask, announced February 14 (local time) a language model GPT-2 that generates sentences of natural language.', top_k=40, unconditional=False)\n",
            "A non-profit American AI (artificial intelligence) research company OpenAI, co-chaired by Mr. Eilon Mask, announced February 14 (local time) a language model GPT-2 that generates sentences of natural language.\n",
            "100% 512/512 [00:10<00:00, 47.90it/s]\n",
            "======================================== SAMPLE 1 ========================================\n",
            " The test-based test has been in use for a year and a half, and it has received support from the AI community and from the government of China.\n",
            "\n",
            "The GPT-2 is a new system that can recognize words and sentences that have been written with a non-recognition recognition language like C or C++. \"We believe that this new language can provide a useful tool for speech recognition of languages and systems within languages,\" says Mr. Eilon.\n",
            "\n",
            "Mr. Eilon's system is based on a prototype, which is based on the GPT-2 but based on a full-fledged version of the GPT-1. \"It is a prototype that can be developed in a number of different ways,\" says Mr. Eilon. \"We believe it could be an exciting new way to develop a speech recognition algorithm that can be used in many complex situations.\"\n",
            "\n",
            "The GPT-2 is a \"proprietary software system\" developed by OpenAI. It uses a system called OpenAI's \"C++ language engine,\" which is available for the Android and iOS platforms.\n",
            "\n",
            "OpenAI has been developing software to work with C++ since the first version of the C++ standard was released in 1985, and it is now working with the language in many other languages. Mr. Eilon is a member of the development team of OpenAI.\n",
            "\n",
            "OpenAI supports many different languages, including C++, C#, Java, Scala, XML, Python, PHP, and many other languages. \"We have supported various languages in the past that have been used in our research, including Python, and we are very happy to work with them,\" Mr. Eilon says. \"The GPT-2 is a new way to work with languages.\"\n",
            "\n",
            "The GPT-2 is based on the GPT-1. It is based on the C++ standard, and is called the \"Proprietary C++ language engine\" by OpenAI. OpenAI has been developing software to work with C++ since the first version of the C++ standard was released in 1985, and it is now working with the language in many other languages.\n",
            "\n",
            "OpenAI is currently working on the GPT-2 for the ONN-0. This is the first time that the language has been used in a commercial project. Mr. Eilon says that the GPT-2 is \"a new way to work with languages\" and has \"more features\" than the GPT-1.\n"
          ]
        }
      ]
    },
    {
      "cell_type": "code",
      "metadata": {
        "colab": {
          "base_uri": "https://localhost:8080/"
        },
        "id": "iOwU08HwC91I",
        "outputId": "f7d5ccec-624d-4f28-fdcb-b25cb96dd2ee"
      },
      "source": [
        "!python main.py --text \"Why did the Neanderthal people be destroyed 40,000 years ago?It is difficult to find an accurate answer, but the epidemic and climate change theories have been strongly considered. However, the latest research published in the journal Science Academy Bulletin in February points out another possibility. It was said that there was no ability to compete with Homo sapiens who came to European continent about 45,000 years ago.\""
      ],
      "execution_count": 25,
      "outputs": [
        {
          "output_type": "stream",
          "name": "stdout",
          "text": [
            "Namespace(batch_size=-1, length=-1, nsamples=1, quiet=False, temperature=0.7, text='Why did the Neanderthal people be destroyed 40,000 years ago?It is difficult to find an accurate answer, but the epidemic and climate change theories have been strongly considered. However, the latest research published in the journal Science Academy Bulletin in February points out another possibility. It was said that there was no ability to compete with Homo sapiens who came to European continent about 45,000 years ago.', top_k=40, unconditional=False)\n",
            "Why did the Neanderthal people be destroyed 40,000 years ago?It is difficult to find an accurate answer, but the epidemic and climate change theories have been strongly considered. However, the latest research published in the journal Science Academy Bulletin in February points out another possibility. It was said that there was no ability to compete with Homo sapiens who came to European continent about 45,000 years ago.\n",
            "100% 512/512 [00:10<00:00, 48.81it/s]\n",
            "======================================== SAMPLE 1 ========================================\n",
            " In some parts of Europe, a Neanderthal had a long life span, meaning that it could survive in areas where it would have had trouble living. However, the findings have now been made public by the German Academy of Sciences and the European Society for the Study of Mammalian Evolution.The study, conducted on a group of male and female captive animals, shows that the Neanderthal Neanderthal was an extremely powerful species. It was also one of the best-suited to the task of hunting down and killing its prey. The study found that one of the Neanderthal's main weaknesses was that it was highly territorial. The researchers said that this was a natural weakness for a species with a high rate of extinction.The Neanderthal was also the only species in the world which had survived the end of the Pleistocene and the end of the Industrial Revolution. It had been extinct for over 4,000 years and was considered a social species by the last 10,000 years.The researchers explained that this was due to the fact that there were no predators in the area. This means that the Neanderthal would have been able to kill as many humans as possible. In other words, it was as if the Neanderthal had been able to survive for as long as possible. In other words, the Neanderthal was a very important species for our past.The researchers had reported that the Neanderthal was an extremely powerful species at around the time of the Industrial Revolution. The researchers believed that the Neanderthal was able to survive for a very long time and that there was still a very limited population of Neanderthal that lived in the area. However, they found that the Neanderthal was not as dominant in the area as previously thought because there were no predators in the area.\"The Neanderthal was very strong and able to hunt and kill its prey in a very short period of time,\" said lead researcher, Dr. Joachim J. Kollmer. \"It would have been very difficult for the Neanderthal to survive for hundreds of years because it had no predators. The Neanderthal had no ability to compete with the humans. However, the findings show that it is possible to compete with the humans and to get away with killing their prey.\"The authors think that the Neanderthal had a short life span so that it could survive for a very long time. They think that the Neanderthal is also very strong and able to hunt and kill its prey in a very short period of time.\"These findings have important implications for the development of the Homo sapiens species\n"
          ]
        }
      ]
    },
    {
      "cell_type": "code",
      "metadata": {
        "id": "0HXlY9W3DiqZ"
      },
      "source": [
        ""
      ],
      "execution_count": null,
      "outputs": []
    }
  ]
}