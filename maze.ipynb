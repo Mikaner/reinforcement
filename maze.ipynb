{
  "nbformat": 4,
  "nbformat_minor": 0,
  "metadata": {
    "colab": {
      "name": "maze.ipynb",
      "provenance": [],
      "collapsed_sections": [],
      "authorship_tag": "ABX9TyMSPAGETcYh0ADlhJrLtJtK",
      "include_colab_link": true
    },
    "kernelspec": {
      "name": "python3",
      "display_name": "Python 3"
    },
    "language_info": {
      "name": "python"
    }
  },
  "cells": [
    {
      "cell_type": "markdown",
      "metadata": {
        "id": "view-in-github",
        "colab_type": "text"
      },
      "source": [
        "<a href=\"https://colab.research.google.com/github/Mikaner/reinforcement/blob/main/maze.ipynb\" target=\"_parent\"><img src=\"https://colab.research.google.com/assets/colab-badge.svg\" alt=\"Open In Colab\"/></a>"
      ]
    },
    {
      "cell_type": "code",
      "metadata": {
        "id": "w7uKK3_n0JXt"
      },
      "source": [
        "import numpy as np\n",
        "import matplotlib.pyplot as plt\n",
        "%matplotlib inline"
      ],
      "execution_count": null,
      "outputs": []
    },
    {
      "cell_type": "code",
      "metadata": {
        "id": "hPJNX7lt0b7X",
        "colab": {
          "base_uri": "https://localhost:8080/",
          "height": 324
        },
        "outputId": "ebf7c609-6d9e-4fdb-c68e-92eb6c7da0b1"
      },
      "source": [
        "fig = plt.figure(figsize=(2,5))\n",
        "ax = plt.gca()\n",
        "\n",
        "# draw red wall\n",
        "plt.plot([1, 1], [0, 1], color='red', linewidth=2)\n",
        "plt.plot([1, 2], [2, 2], color='red', linewidth=2)\n",
        "plt.plot([2, 2], [2, 1], color='red', linewidth=2)\n",
        "plt.plot([2, 3], [1, 1], color='red', linewidth=2)\n",
        "\n",
        "# 状態を示す文字S0~S8\n",
        "plt.text(0.5, 2.5, 'S0', size=14, ha='center')\n",
        "plt.text(1.5, 2.5, 'S1', size=14, ha='center')\n",
        "plt.text(2.5, 2.5, 'S2', size=14, ha='center')\n",
        "plt.text(0.5, 1.5, 'S3', size=14, ha='center')\n",
        "plt.text(1.5, 1.5, 'S4', size=14, ha='center')\n",
        "plt.text(2.5, 1.5, 'S5', size=14, ha='center')\n",
        "plt.text(0.5, 0.5, 'S6', size=14, ha='center')\n",
        "plt.text(1.5, 0.5, 'S7', size=14, ha='center')\n",
        "plt.text(2.5, 0.5, 'S8', size=14, ha='center')\n",
        "plt.text(0.5, 2.3, 'START', ha='center')\n",
        "plt.text(2.5, 0.3, 'GOAL', ha='center')\n",
        "\n",
        "# 描画範囲の設定と目盛りを消す設定\n",
        "ax.set_xlim(0,3)\n",
        "ax.set_ylim(0,3)\n",
        "plt.tick_params(axis='both', which='both', bottom='off', top='off',\n",
        "               labelbottom='off', right='off', left='off', labelleft='off')\n",
        "\n",
        "# draw green circle for S0\n",
        "line, = ax.plot([0.5], [2.5], marker=\"o\", color='g', markersize=60)"
      ],
      "execution_count": null,
      "outputs": [
        {
          "output_type": "display_data",
          "data": {
            "image/png": "[encoded data removed]",
            "text/plain": [
              "<Figure size 144x360 with 1 Axes>"
            ]
          },
          "metadata": {
            "tags": [],
            "needs_background": "light"
          }
        }
      ]
    },
    {
      "cell_type": "code",
      "metadata": {
        "id": "8FMqdFWw7Se-"
      },
      "source": [
        ""
      ],
      "execution_count": null,
      "outputs": []
    },
    {
      "cell_type": "code",
      "metadata": {
        "id": "12M7RJCh5999"
      },
      "source": [
        "# 初期の方策を決定するパラメータtheta_0を設定\n",
        "\n",
        "# 行は状態0~7, 列は移動方向で↑，→，↓，←を指す\n",
        "theta_0 = np.array([[np.nan,      1,      1, np.nan], # S0\n",
        "                    [np.nan,      1, np.nan,      1], # S1\n",
        "                    [np.nan, np.nan,      1,      1], # S2\n",
        "                    [     1,      1,      1, np.nan], # S3\n",
        "                    [np.nan, np.nan,      1,      1], # S4\n",
        "                    [     1, np.nan, np.nan, np.nan], # S5\n",
        "                    [     1, np.nan, np.nan, np.nan], # S6\n",
        "                    [     1,      1, np.nan, np.nan], # S7 ※S8はゴールなので方策なし\n",
        "                    ])\n"
      ],
      "execution_count": null,
      "outputs": []
    },
    {
      "cell_type": "code",
      "metadata": {
        "id": "DEceOh8G-En2"
      },
      "source": [
        "# 方策パラメータthetaを行動方針piに変換する関数の定義\n",
        "def simple_convert_into_pi_from_theta(theta):\n",
        "    '''単純に割合を計算する'''\n",
        "    \n",
        "    [m, n] = theta.shape\n",
        "    print(theta.shape)\n",
        "    pi = np.zeros((m, n))\n",
        "    for i in range(0, m):\n",
        "        pi[i, :] = theta[i, :] / np.nansum(theta[i, :])\n",
        "        print(pi[i,:])\n",
        "\n",
        "    pi = np.nan_to_num(pi)\n",
        "\n",
        "    return pi"
      ],
      "execution_count": null,
      "outputs": []
    },
    {
      "cell_type": "code",
      "metadata": {
        "colab": {
          "base_uri": "https://localhost:8080/"
        },
        "id": "kQFwvvs9-h1U",
        "outputId": "9273d984-2ac7-4c4b-c150-baa377072f4c"
      },
      "source": [
        "pi_0 = simple_convert_into_pi_from_theta(theta_0)\n",
        "pi_0"
      ],
      "execution_count": null,
      "outputs": [
        {
          "output_type": "stream",
          "text": [
            "(8, 4)\n",
            "[nan 0.5 0.5 nan]\n",
            "[nan 0.5 nan 0.5]\n",
            "[nan nan 0.5 0.5]\n",
            "[0.33333333 0.33333333 0.33333333        nan]\n",
            "[nan nan 0.5 0.5]\n",
            "[ 1. nan nan nan]\n",
            "[ 1. nan nan nan]\n",
            "[0.5 0.5 nan nan]\n"
          ],
          "name": "stdout"
        },
        {
          "output_type": "execute_result",
          "data": {
            "text/plain": [
              "array([[0.        , 0.5       , 0.5       , 0.        ],\n",
              "       [0.        , 0.5       , 0.        , 0.5       ],\n",
              "       [0.        , 0.        , 0.5       , 0.5       ],\n",
              "       [0.33333333, 0.33333333, 0.33333333, 0.        ],\n",
              "       [0.        , 0.        , 0.5       , 0.5       ],\n",
              "       [1.        , 0.        , 0.        , 0.        ],\n",
              "       [1.        , 0.        , 0.        , 0.        ],\n",
              "       [0.5       , 0.5       , 0.        , 0.        ]])"
            ]
          },
          "metadata": {
            "tags": []
          },
          "execution_count": 26
        }
      ]
    }
  ]
}