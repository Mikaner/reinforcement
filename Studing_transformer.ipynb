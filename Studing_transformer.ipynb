{
  "nbformat": 4,
  "nbformat_minor": 0,
  "metadata": {
    "colab": {
      "name": "Studing_transformer.ipynb",
      "provenance": [],
      "collapsed_sections": [],
      "authorship_tag": "ABX9TyPJEninjrbYfViMu2B3eNJD",
      "include_colab_link": true
    },
    "kernelspec": {
      "name": "python3",
      "display_name": "Python 3"
    },
    "language_info": {
      "name": "python"
    },
    "widgets": {
      "application/vnd.jupyter.widget-state+json": {
        "df58a4900fc54b57994f1cb606eaf340": {
          "model_module": "@jupyter-widgets/controls",
          "model_name": "HBoxModel",
          "model_module_version": "1.5.0",
          "state": {
            "_view_name": "HBoxView",
            "_dom_classes": [],
            "_model_name": "HBoxModel",
            "_view_module": "@jupyter-widgets/controls",
            "_model_module_version": "1.5.0",
            "_view_count": null,
            "_view_module_version": "1.5.0",
            "box_style": "",
            "layout": "IPY_MODEL_879ec34beb3047f583d5459cc00d7afd",
            "_model_module": "@jupyter-widgets/controls",
            "children": [
              "IPY_MODEL_c84e654844f344a4bb59aa47f7f918e5",
              "IPY_MODEL_eb211aac1e294f649bc2cb1d1c1194c2",
              "IPY_MODEL_038d93e518fe4fce87978c9f500759f9"
            ]
          }
        },
        "879ec34beb3047f583d5459cc00d7afd": {
          "model_module": "@jupyter-widgets/base",
          "model_name": "LayoutModel",
          "model_module_version": "1.2.0",
          "state": {
            "_view_name": "LayoutView",
            "grid_template_rows": null,
            "right": null,
            "justify_content": null,
            "_view_module": "@jupyter-widgets/base",
            "overflow": null,
            "_model_module_version": "1.2.0",
            "_view_count": null,
            "flex_flow": null,
            "width": null,
            "min_width": null,
            "border": null,
            "align_items": null,
            "bottom": null,
            "_model_module": "@jupyter-widgets/base",
            "top": null,
            "grid_column": null,
            "overflow_y": null,
            "overflow_x": null,
            "grid_auto_flow": null,
            "grid_area": null,
            "grid_template_columns": null,
            "flex": null,
            "_model_name": "LayoutModel",
            "justify_items": null,
            "grid_row": null,
            "max_height": null,
            "align_content": null,
            "visibility": null,
            "align_self": null,
            "height": null,
            "min_height": null,
            "padding": null,
            "grid_auto_rows": null,
            "grid_gap": null,
            "max_width": null,
            "order": null,
            "_view_module_version": "1.2.0",
            "grid_template_areas": null,
            "object_position": null,
            "object_fit": null,
            "grid_auto_columns": null,
            "margin": null,
            "display": null,
            "left": null
          }
        },
        "c84e654844f344a4bb59aa47f7f918e5": {
          "model_module": "@jupyter-widgets/controls",
          "model_name": "HTMLModel",
          "model_module_version": "1.5.0",
          "state": {
            "_view_name": "HTMLView",
            "style": "IPY_MODEL_d365ea8338064726a56e2d177181c4cb",
            "_dom_classes": [],
            "description": "",
            "_model_name": "HTMLModel",
            "placeholder": "​",
            "_view_module": "@jupyter-widgets/controls",
            "_model_module_version": "1.5.0",
            "value": "Dl Completed...: 100%",
            "_view_count": null,
            "_view_module_version": "1.5.0",
            "description_tooltip": null,
            "_model_module": "@jupyter-widgets/controls",
            "layout": "IPY_MODEL_212345e29a3c48ff933ae7dcd999ef3e"
          }
        },
        "eb211aac1e294f649bc2cb1d1c1194c2": {
          "model_module": "@jupyter-widgets/controls",
          "model_name": "FloatProgressModel",
          "model_module_version": "1.5.0",
          "state": {
            "_view_name": "ProgressView",
            "style": "IPY_MODEL_32ff5dc76f1d42abb717b83328a44f06",
            "_dom_classes": [],
            "description": "",
            "_model_name": "FloatProgressModel",
            "bar_style": "success",
            "max": 1,
            "_view_module": "@jupyter-widgets/controls",
            "_model_module_version": "1.5.0",
            "value": 1,
            "_view_count": null,
            "_view_module_version": "1.5.0",
            "orientation": "horizontal",
            "min": 0,
            "description_tooltip": null,
            "_model_module": "@jupyter-widgets/controls",
            "layout": "IPY_MODEL_984cfa151d9c4a64930909546f0c644a"
          }
        },
        "038d93e518fe4fce87978c9f500759f9": {
          "model_module": "@jupyter-widgets/controls",
          "model_name": "HTMLModel",
          "model_module_version": "1.5.0",
          "state": {
            "_view_name": "HTMLView",
            "style": "IPY_MODEL_ded90d334c9d4a79958d797c445ce1f9",
            "_dom_classes": [],
            "description": "",
            "_model_name": "HTMLModel",
            "placeholder": "​",
            "_view_module": "@jupyter-widgets/controls",
            "_model_module_version": "1.5.0",
            "value": " 1/1 [00:08&lt;00:00,  3.49s/ url]",
            "_view_count": null,
            "_view_module_version": "1.5.0",
            "description_tooltip": null,
            "_model_module": "@jupyter-widgets/controls",
            "layout": "IPY_MODEL_11ee46d826ac4ce1b269d7d52333901d"
          }
        },
        "d365ea8338064726a56e2d177181c4cb": {
          "model_module": "@jupyter-widgets/controls",
          "model_name": "DescriptionStyleModel",
          "model_module_version": "1.5.0",
          "state": {
            "_view_name": "StyleView",
            "_model_name": "DescriptionStyleModel",
            "description_width": "",
            "_view_module": "@jupyter-widgets/base",
            "_model_module_version": "1.5.0",
            "_view_count": null,
            "_view_module_version": "1.2.0",
            "_model_module": "@jupyter-widgets/controls"
          }
        },
        "212345e29a3c48ff933ae7dcd999ef3e": {
          "model_module": "@jupyter-widgets/base",
          "model_name": "LayoutModel",
          "model_module_version": "1.2.0",
          "state": {
            "_view_name": "LayoutView",
            "grid_template_rows": null,
            "right": null,
            "justify_content": null,
            "_view_module": "@jupyter-widgets/base",
            "overflow": null,
            "_model_module_version": "1.2.0",
            "_view_count": null,
            "flex_flow": null,
            "width": null,
            "min_width": null,
            "border": null,
            "align_items": null,
            "bottom": null,
            "_model_module": "@jupyter-widgets/base",
            "top": null,
            "grid_column": null,
            "overflow_y": null,
            "overflow_x": null,
            "grid_auto_flow": null,
            "grid_area": null,
            "grid_template_columns": null,
            "flex": null,
            "_model_name": "LayoutModel",
            "justify_items": null,
            "grid_row": null,
            "max_height": null,
            "align_content": null,
            "visibility": null,
            "align_self": null,
            "height": null,
            "min_height": null,
            "padding": null,
            "grid_auto_rows": null,
            "grid_gap": null,
            "max_width": null,
            "order": null,
            "_view_module_version": "1.2.0",
            "grid_template_areas": null,
            "object_position": null,
            "object_fit": null,
            "grid_auto_columns": null,
            "margin": null,
            "display": null,
            "left": null
          }
        },
        "32ff5dc76f1d42abb717b83328a44f06": {
          "model_module": "@jupyter-widgets/controls",
          "model_name": "ProgressStyleModel",
          "model_module_version": "1.5.0",
          "state": {
            "_view_name": "StyleView",
            "_model_name": "ProgressStyleModel",
            "description_width": "",
            "_view_module": "@jupyter-widgets/base",
            "_model_module_version": "1.5.0",
            "_view_count": null,
            "_view_module_version": "1.2.0",
            "bar_color": null,
            "_model_module": "@jupyter-widgets/controls"
          }
        },
        "984cfa151d9c4a64930909546f0c644a": {
          "model_module": "@jupyter-widgets/base",
          "model_name": "LayoutModel",
          "model_module_version": "1.2.0",
          "state": {
            "_view_name": "LayoutView",
            "grid_template_rows": null,
            "right": null,
            "justify_content": null,
            "_view_module": "@jupyter-widgets/base",
            "overflow": null,
            "_model_module_version": "1.2.0",
            "_view_count": null,
            "flex_flow": null,
            "width": "20px",
            "min_width": null,
            "border": null,
            "align_items": null,
            "bottom": null,
            "_model_module": "@jupyter-widgets/base",
            "top": null,
            "grid_column": null,
            "overflow_y": null,
            "overflow_x": null,
            "grid_auto_flow": null,
            "grid_area": null,
            "grid_template_columns": null,
            "flex": null,
            "_model_name": "LayoutModel",
            "justify_items": null,
            "grid_row": null,
            "max_height": null,
            "align_content": null,
            "visibility": null,
            "align_self": null,
            "height": null,
            "min_height": null,
            "padding": null,
            "grid_auto_rows": null,
            "grid_gap": null,
            "max_width": null,
            "order": null,
            "_view_module_version": "1.2.0",
            "grid_template_areas": null,
            "object_position": null,
            "object_fit": null,
            "grid_auto_columns": null,
            "margin": null,
            "display": null,
            "left": null
          }
        },
        "ded90d334c9d4a79958d797c445ce1f9": {
          "model_module": "@jupyter-widgets/controls",
          "model_name": "DescriptionStyleModel",
          "model_module_version": "1.5.0",
          "state": {
            "_view_name": "StyleView",
            "_model_name": "DescriptionStyleModel",
            "description_width": "",
            "_view_module": "@jupyter-widgets/base",
            "_model_module_version": "1.5.0",
            "_view_count": null,
            "_view_module_version": "1.2.0",
            "_model_module": "@jupyter-widgets/controls"
          }
        },
        "11ee46d826ac4ce1b269d7d52333901d": {
          "model_module": "@jupyter-widgets/base",
          "model_name": "LayoutModel",
          "model_module_version": "1.2.0",
          "state": {
            "_view_name": "LayoutView",
            "grid_template_rows": null,
            "right": null,
            "justify_content": null,
            "_view_module": "@jupyter-widgets/base",
            "overflow": null,
            "_model_module_version": "1.2.0",
            "_view_count": null,
            "flex_flow": null,
            "width": null,
            "min_width": null,
            "border": null,
            "align_items": null,
            "bottom": null,
            "_model_module": "@jupyter-widgets/base",
            "top": null,
            "grid_column": null,
            "overflow_y": null,
            "overflow_x": null,
            "grid_auto_flow": null,
            "grid_area": null,
            "grid_template_columns": null,
            "flex": null,
            "_model_name": "LayoutModel",
            "justify_items": null,
            "grid_row": null,
            "max_height": null,
            "align_content": null,
            "visibility": null,
            "align_self": null,
            "height": null,
            "min_height": null,
            "padding": null,
            "grid_auto_rows": null,
            "grid_gap": null,
            "max_width": null,
            "order": null,
            "_view_module_version": "1.2.0",
            "grid_template_areas": null,
            "object_position": null,
            "object_fit": null,
            "grid_auto_columns": null,
            "margin": null,
            "display": null,
            "left": null
          }
        },
        "e6a7cf8072f14d0fa3b1b2ea7e69e7ae": {
          "model_module": "@jupyter-widgets/controls",
          "model_name": "HBoxModel",
          "model_module_version": "1.5.0",
          "state": {
            "_view_name": "HBoxView",
            "_dom_classes": [],
            "_model_name": "HBoxModel",
            "_view_module": "@jupyter-widgets/controls",
            "_model_module_version": "1.5.0",
            "_view_count": null,
            "_view_module_version": "1.5.0",
            "box_style": "",
            "layout": "IPY_MODEL_64909e2aa29e4e0596e45013c6d48f57",
            "_model_module": "@jupyter-widgets/controls",
            "children": [
              "IPY_MODEL_dc4f3ff1318d4baba28b3dc761e98221",
              "IPY_MODEL_a8fab5adbebc451e9c727d6d0cd234e7",
              "IPY_MODEL_fa4d40c22a834ac891a3c61e0a64bcb2"
            ]
          }
        },
        "64909e2aa29e4e0596e45013c6d48f57": {
          "model_module": "@jupyter-widgets/base",
          "model_name": "LayoutModel",
          "model_module_version": "1.2.0",
          "state": {
            "_view_name": "LayoutView",
            "grid_template_rows": null,
            "right": null,
            "justify_content": null,
            "_view_module": "@jupyter-widgets/base",
            "overflow": null,
            "_model_module_version": "1.2.0",
            "_view_count": null,
            "flex_flow": null,
            "width": null,
            "min_width": null,
            "border": null,
            "align_items": null,
            "bottom": null,
            "_model_module": "@jupyter-widgets/base",
            "top": null,
            "grid_column": null,
            "overflow_y": null,
            "overflow_x": null,
            "grid_auto_flow": null,
            "grid_area": null,
            "grid_template_columns": null,
            "flex": null,
            "_model_name": "LayoutModel",
            "justify_items": null,
            "grid_row": null,
            "max_height": null,
            "align_content": null,
            "visibility": null,
            "align_self": null,
            "height": null,
            "min_height": null,
            "padding": null,
            "grid_auto_rows": null,
            "grid_gap": null,
            "max_width": null,
            "order": null,
            "_view_module_version": "1.2.0",
            "grid_template_areas": null,
            "object_position": null,
            "object_fit": null,
            "grid_auto_columns": null,
            "margin": null,
            "display": null,
            "left": null
          }
        },
        "dc4f3ff1318d4baba28b3dc761e98221": {
          "model_module": "@jupyter-widgets/controls",
          "model_name": "HTMLModel",
          "model_module_version": "1.5.0",
          "state": {
            "_view_name": "HTMLView",
            "style": "IPY_MODEL_19859be6be174e989e7e56837aa56bd3",
            "_dom_classes": [],
            "description": "",
            "_model_name": "HTMLModel",
            "placeholder": "​",
            "_view_module": "@jupyter-widgets/controls",
            "_model_module_version": "1.5.0",
            "value": "Dl Size...: 100%",
            "_view_count": null,
            "_view_module_version": "1.5.0",
            "description_tooltip": null,
            "_model_module": "@jupyter-widgets/controls",
            "layout": "IPY_MODEL_2e6a5ab73757481d8962b452d12b169c"
          }
        },
        "a8fab5adbebc451e9c727d6d0cd234e7": {
          "model_module": "@jupyter-widgets/controls",
          "model_name": "FloatProgressModel",
          "model_module_version": "1.5.0",
          "state": {
            "_view_name": "ProgressView",
            "style": "IPY_MODEL_94f8db3e2f374afe8502398f03b76d03",
            "_dom_classes": [],
            "description": "",
            "_model_name": "FloatProgressModel",
            "bar_style": "success",
            "max": 1,
            "_view_module": "@jupyter-widgets/controls",
            "_model_module_version": "1.5.0",
            "value": 1,
            "_view_count": null,
            "_view_module_version": "1.5.0",
            "orientation": "horizontal",
            "min": 0,
            "description_tooltip": null,
            "_model_module": "@jupyter-widgets/controls",
            "layout": "IPY_MODEL_52c8f941c66744ad81885daa70a0d87f"
          }
        },
        "fa4d40c22a834ac891a3c61e0a64bcb2": {
          "model_module": "@jupyter-widgets/controls",
          "model_name": "HTMLModel",
          "model_module_version": "1.5.0",
          "state": {
            "_view_name": "HTMLView",
            "style": "IPY_MODEL_f2e79475dbcc482392bf53ed9735c099",
            "_dom_classes": [],
            "description": "",
            "_model_name": "HTMLModel",
            "placeholder": "​",
            "_view_module": "@jupyter-widgets/controls",
            "_model_module_version": "1.5.0",
            "value": " 124/124 [00:08&lt;00:00, 40.14 MiB/s]",
            "_view_count": null,
            "_view_module_version": "1.5.0",
            "description_tooltip": null,
            "_model_module": "@jupyter-widgets/controls",
            "layout": "IPY_MODEL_ba443a0d51bc4c468b84e5806c664ec3"
          }
        },
        "19859be6be174e989e7e56837aa56bd3": {
          "model_module": "@jupyter-widgets/controls",
          "model_name": "DescriptionStyleModel",
          "model_module_version": "1.5.0",
          "state": {
            "_view_name": "StyleView",
            "_model_name": "DescriptionStyleModel",
            "description_width": "",
            "_view_module": "@jupyter-widgets/base",
            "_model_module_version": "1.5.0",
            "_view_count": null,
            "_view_module_version": "1.2.0",
            "_model_module": "@jupyter-widgets/controls"
          }
        },
        "2e6a5ab73757481d8962b452d12b169c": {
          "model_module": "@jupyter-widgets/base",
          "model_name": "LayoutModel",
          "model_module_version": "1.2.0",
          "state": {
            "_view_name": "LayoutView",
            "grid_template_rows": null,
            "right": null,
            "justify_content": null,
            "_view_module": "@jupyter-widgets/base",
            "overflow": null,
            "_model_module_version": "1.2.0",
            "_view_count": null,
            "flex_flow": null,
            "width": null,
            "min_width": null,
            "border": null,
            "align_items": null,
            "bottom": null,
            "_model_module": "@jupyter-widgets/base",
            "top": null,
            "grid_column": null,
            "overflow_y": null,
            "overflow_x": null,
            "grid_auto_flow": null,
            "grid_area": null,
            "grid_template_columns": null,
            "flex": null,
            "_model_name": "LayoutModel",
            "justify_items": null,
            "grid_row": null,
            "max_height": null,
            "align_content": null,
            "visibility": null,
            "align_self": null,
            "height": null,
            "min_height": null,
            "padding": null,
            "grid_auto_rows": null,
            "grid_gap": null,
            "max_width": null,
            "order": null,
            "_view_module_version": "1.2.0",
            "grid_template_areas": null,
            "object_position": null,
            "object_fit": null,
            "grid_auto_columns": null,
            "margin": null,
            "display": null,
            "left": null
          }
        },
        "94f8db3e2f374afe8502398f03b76d03": {
          "model_module": "@jupyter-widgets/controls",
          "model_name": "ProgressStyleModel",
          "model_module_version": "1.5.0",
          "state": {
            "_view_name": "StyleView",
            "_model_name": "ProgressStyleModel",
            "description_width": "",
            "_view_module": "@jupyter-widgets/base",
            "_model_module_version": "1.5.0",
            "_view_count": null,
            "_view_module_version": "1.2.0",
            "bar_color": null,
            "_model_module": "@jupyter-widgets/controls"
          }
        },
        "52c8f941c66744ad81885daa70a0d87f": {
          "model_module": "@jupyter-widgets/base",
          "model_name": "LayoutModel",
          "model_module_version": "1.2.0",
          "state": {
            "_view_name": "LayoutView",
            "grid_template_rows": null,
            "right": null,
            "justify_content": null,
            "_view_module": "@jupyter-widgets/base",
            "overflow": null,
            "_model_module_version": "1.2.0",
            "_view_count": null,
            "flex_flow": null,
            "width": "20px",
            "min_width": null,
            "border": null,
            "align_items": null,
            "bottom": null,
            "_model_module": "@jupyter-widgets/base",
            "top": null,
            "grid_column": null,
            "overflow_y": null,
            "overflow_x": null,
            "grid_auto_flow": null,
            "grid_area": null,
            "grid_template_columns": null,
            "flex": null,
            "_model_name": "LayoutModel",
            "justify_items": null,
            "grid_row": null,
            "max_height": null,
            "align_content": null,
            "visibility": null,
            "align_self": null,
            "height": null,
            "min_height": null,
            "padding": null,
            "grid_auto_rows": null,
            "grid_gap": null,
            "max_width": null,
            "order": null,
            "_view_module_version": "1.2.0",
            "grid_template_areas": null,
            "object_position": null,
            "object_fit": null,
            "grid_auto_columns": null,
            "margin": null,
            "display": null,
            "left": null
          }
        },
        "f2e79475dbcc482392bf53ed9735c099": {
          "model_module": "@jupyter-widgets/controls",
          "model_name": "DescriptionStyleModel",
          "model_module_version": "1.5.0",
          "state": {
            "_view_name": "StyleView",
            "_model_name": "DescriptionStyleModel",
            "description_width": "",
            "_view_module": "@jupyter-widgets/base",
            "_model_module_version": "1.5.0",
            "_view_count": null,
            "_view_module_version": "1.2.0",
            "_model_module": "@jupyter-widgets/controls"
          }
        },
        "ba443a0d51bc4c468b84e5806c664ec3": {
          "model_module": "@jupyter-widgets/base",
          "model_name": "LayoutModel",
          "model_module_version": "1.2.0",
          "state": {
            "_view_name": "LayoutView",
            "grid_template_rows": null,
            "right": null,
            "justify_content": null,
            "_view_module": "@jupyter-widgets/base",
            "overflow": null,
            "_model_module_version": "1.2.0",
            "_view_count": null,
            "flex_flow": null,
            "width": null,
            "min_width": null,
            "border": null,
            "align_items": null,
            "bottom": null,
            "_model_module": "@jupyter-widgets/base",
            "top": null,
            "grid_column": null,
            "overflow_y": null,
            "overflow_x": null,
            "grid_auto_flow": null,
            "grid_area": null,
            "grid_template_columns": null,
            "flex": null,
            "_model_name": "LayoutModel",
            "justify_items": null,
            "grid_row": null,
            "max_height": null,
            "align_content": null,
            "visibility": null,
            "align_self": null,
            "height": null,
            "min_height": null,
            "padding": null,
            "grid_auto_rows": null,
            "grid_gap": null,
            "max_width": null,
            "order": null,
            "_view_module_version": "1.2.0",
            "grid_template_areas": null,
            "object_position": null,
            "object_fit": null,
            "grid_auto_columns": null,
            "margin": null,
            "display": null,
            "left": null
          }
        },
        "981c90c77105444a815cb91c03a2edda": {
          "model_module": "@jupyter-widgets/controls",
          "model_name": "HBoxModel",
          "model_module_version": "1.5.0",
          "state": {
            "_view_name": "HBoxView",
            "_dom_classes": [],
            "_model_name": "HBoxModel",
            "_view_module": "@jupyter-widgets/controls",
            "_model_module_version": "1.5.0",
            "_view_count": null,
            "_view_module_version": "1.5.0",
            "box_style": "",
            "layout": "IPY_MODEL_5595483387b6467ab1499d7338af4c36",
            "_model_module": "@jupyter-widgets/controls",
            "children": [
              "IPY_MODEL_4b81528903e0454a827fd7688904a1d0",
              "IPY_MODEL_17d787b2a1f942d2beeb760d247006c2",
              "IPY_MODEL_ca1e493a0d914f0780062e530beea0f8"
            ]
          }
        },
        "5595483387b6467ab1499d7338af4c36": {
          "model_module": "@jupyter-widgets/base",
          "model_name": "LayoutModel",
          "model_module_version": "1.2.0",
          "state": {
            "_view_name": "LayoutView",
            "grid_template_rows": null,
            "right": null,
            "justify_content": null,
            "_view_module": "@jupyter-widgets/base",
            "overflow": null,
            "_model_module_version": "1.2.0",
            "_view_count": null,
            "flex_flow": null,
            "width": null,
            "min_width": null,
            "border": null,
            "align_items": null,
            "bottom": null,
            "_model_module": "@jupyter-widgets/base",
            "top": null,
            "grid_column": null,
            "overflow_y": null,
            "overflow_x": null,
            "grid_auto_flow": null,
            "grid_area": null,
            "grid_template_columns": null,
            "flex": null,
            "_model_name": "LayoutModel",
            "justify_items": null,
            "grid_row": null,
            "max_height": null,
            "align_content": null,
            "visibility": null,
            "align_self": null,
            "height": null,
            "min_height": null,
            "padding": null,
            "grid_auto_rows": null,
            "grid_gap": null,
            "max_width": null,
            "order": null,
            "_view_module_version": "1.2.0",
            "grid_template_areas": null,
            "object_position": null,
            "object_fit": null,
            "grid_auto_columns": null,
            "margin": null,
            "display": null,
            "left": null
          }
        },
        "4b81528903e0454a827fd7688904a1d0": {
          "model_module": "@jupyter-widgets/controls",
          "model_name": "HTMLModel",
          "model_module_version": "1.5.0",
          "state": {
            "_view_name": "HTMLView",
            "style": "IPY_MODEL_51a0362bcd84484c99612f706f50159d",
            "_dom_classes": [],
            "description": "",
            "_model_name": "HTMLModel",
            "placeholder": "​",
            "_view_module": "@jupyter-widgets/controls",
            "_model_module_version": "1.5.0",
            "value": "Extraction completed...: 100%",
            "_view_count": null,
            "_view_module_version": "1.5.0",
            "description_tooltip": null,
            "_model_module": "@jupyter-widgets/controls",
            "layout": "IPY_MODEL_677cee559a48494f8db45df8c8a2aab2"
          }
        },
        "17d787b2a1f942d2beeb760d247006c2": {
          "model_module": "@jupyter-widgets/controls",
          "model_name": "FloatProgressModel",
          "model_module_version": "1.5.0",
          "state": {
            "_view_name": "ProgressView",
            "style": "IPY_MODEL_a594ed7c3c004c469656a720dde4dd60",
            "_dom_classes": [],
            "description": "",
            "_model_name": "FloatProgressModel",
            "bar_style": "success",
            "max": 1,
            "_view_module": "@jupyter-widgets/controls",
            "_model_module_version": "1.5.0",
            "value": 1,
            "_view_count": null,
            "_view_module_version": "1.5.0",
            "orientation": "horizontal",
            "min": 0,
            "description_tooltip": null,
            "_model_module": "@jupyter-widgets/controls",
            "layout": "IPY_MODEL_aa37ca8efe9148179b7fb17f9d66ac77"
          }
        },
        "ca1e493a0d914f0780062e530beea0f8": {
          "model_module": "@jupyter-widgets/controls",
          "model_name": "HTMLModel",
          "model_module_version": "1.5.0",
          "state": {
            "_view_name": "HTMLView",
            "style": "IPY_MODEL_1ba22eb755f0471ba4d3c7a9f84da964",
            "_dom_classes": [],
            "description": "",
            "_model_name": "HTMLModel",
            "placeholder": "​",
            "_view_module": "@jupyter-widgets/controls",
            "_model_module_version": "1.5.0",
            "value": " 1/1 [00:08&lt;00:00,  8.62s/ file]",
            "_view_count": null,
            "_view_module_version": "1.5.0",
            "description_tooltip": null,
            "_model_module": "@jupyter-widgets/controls",
            "layout": "IPY_MODEL_41cbacd37cd24982832c564d64f45d4c"
          }
        },
        "51a0362bcd84484c99612f706f50159d": {
          "model_module": "@jupyter-widgets/controls",
          "model_name": "DescriptionStyleModel",
          "model_module_version": "1.5.0",
          "state": {
            "_view_name": "StyleView",
            "_model_name": "DescriptionStyleModel",
            "description_width": "",
            "_view_module": "@jupyter-widgets/base",
            "_model_module_version": "1.5.0",
            "_view_count": null,
            "_view_module_version": "1.2.0",
            "_model_module": "@jupyter-widgets/controls"
          }
        },
        "677cee559a48494f8db45df8c8a2aab2": {
          "model_module": "@jupyter-widgets/base",
          "model_name": "LayoutModel",
          "model_module_version": "1.2.0",
          "state": {
            "_view_name": "LayoutView",
            "grid_template_rows": null,
            "right": null,
            "justify_content": null,
            "_view_module": "@jupyter-widgets/base",
            "overflow": null,
            "_model_module_version": "1.2.0",
            "_view_count": null,
            "flex_flow": null,
            "width": null,
            "min_width": null,
            "border": null,
            "align_items": null,
            "bottom": null,
            "_model_module": "@jupyter-widgets/base",
            "top": null,
            "grid_column": null,
            "overflow_y": null,
            "overflow_x": null,
            "grid_auto_flow": null,
            "grid_area": null,
            "grid_template_columns": null,
            "flex": null,
            "_model_name": "LayoutModel",
            "justify_items": null,
            "grid_row": null,
            "max_height": null,
            "align_content": null,
            "visibility": null,
            "align_self": null,
            "height": null,
            "min_height": null,
            "padding": null,
            "grid_auto_rows": null,
            "grid_gap": null,
            "max_width": null,
            "order": null,
            "_view_module_version": "1.2.0",
            "grid_template_areas": null,
            "object_position": null,
            "object_fit": null,
            "grid_auto_columns": null,
            "margin": null,
            "display": null,
            "left": null
          }
        },
        "a594ed7c3c004c469656a720dde4dd60": {
          "model_module": "@jupyter-widgets/controls",
          "model_name": "ProgressStyleModel",
          "model_module_version": "1.5.0",
          "state": {
            "_view_name": "StyleView",
            "_model_name": "ProgressStyleModel",
            "description_width": "",
            "_view_module": "@jupyter-widgets/base",
            "_model_module_version": "1.5.0",
            "_view_count": null,
            "_view_module_version": "1.2.0",
            "bar_color": null,
            "_model_module": "@jupyter-widgets/controls"
          }
        },
        "aa37ca8efe9148179b7fb17f9d66ac77": {
          "model_module": "@jupyter-widgets/base",
          "model_name": "LayoutModel",
          "model_module_version": "1.2.0",
          "state": {
            "_view_name": "LayoutView",
            "grid_template_rows": null,
            "right": null,
            "justify_content": null,
            "_view_module": "@jupyter-widgets/base",
            "overflow": null,
            "_model_module_version": "1.2.0",
            "_view_count": null,
            "flex_flow": null,
            "width": "20px",
            "min_width": null,
            "border": null,
            "align_items": null,
            "bottom": null,
            "_model_module": "@jupyter-widgets/base",
            "top": null,
            "grid_column": null,
            "overflow_y": null,
            "overflow_x": null,
            "grid_auto_flow": null,
            "grid_area": null,
            "grid_template_columns": null,
            "flex": null,
            "_model_name": "LayoutModel",
            "justify_items": null,
            "grid_row": null,
            "max_height": null,
            "align_content": null,
            "visibility": null,
            "align_self": null,
            "height": null,
            "min_height": null,
            "padding": null,
            "grid_auto_rows": null,
            "grid_gap": null,
            "max_width": null,
            "order": null,
            "_view_module_version": "1.2.0",
            "grid_template_areas": null,
            "object_position": null,
            "object_fit": null,
            "grid_auto_columns": null,
            "margin": null,
            "display": null,
            "left": null
          }
        },
        "1ba22eb755f0471ba4d3c7a9f84da964": {
          "model_module": "@jupyter-widgets/controls",
          "model_name": "DescriptionStyleModel",
          "model_module_version": "1.5.0",
          "state": {
            "_view_name": "StyleView",
            "_model_name": "DescriptionStyleModel",
            "description_width": "",
            "_view_module": "@jupyter-widgets/base",
            "_model_module_version": "1.5.0",
            "_view_count": null,
            "_view_module_version": "1.2.0",
            "_model_module": "@jupyter-widgets/controls"
          }
        },
        "41cbacd37cd24982832c564d64f45d4c": {
          "model_module": "@jupyter-widgets/base",
          "model_name": "LayoutModel",
          "model_module_version": "1.2.0",
          "state": {
            "_view_name": "LayoutView",
            "grid_template_rows": null,
            "right": null,
            "justify_content": null,
            "_view_module": "@jupyter-widgets/base",
            "overflow": null,
            "_model_module_version": "1.2.0",
            "_view_count": null,
            "flex_flow": null,
            "width": null,
            "min_width": null,
            "border": null,
            "align_items": null,
            "bottom": null,
            "_model_module": "@jupyter-widgets/base",
            "top": null,
            "grid_column": null,
            "overflow_y": null,
            "overflow_x": null,
            "grid_auto_flow": null,
            "grid_area": null,
            "grid_template_columns": null,
            "flex": null,
            "_model_name": "LayoutModel",
            "justify_items": null,
            "grid_row": null,
            "max_height": null,
            "align_content": null,
            "visibility": null,
            "align_self": null,
            "height": null,
            "min_height": null,
            "padding": null,
            "grid_auto_rows": null,
            "grid_gap": null,
            "max_width": null,
            "order": null,
            "_view_module_version": "1.2.0",
            "grid_template_areas": null,
            "object_position": null,
            "object_fit": null,
            "grid_auto_columns": null,
            "margin": null,
            "display": null,
            "left": null
          }
        },
        "aa0200c70021454d8ad3c2d88f2ef084": {
          "model_module": "@jupyter-widgets/controls",
          "model_name": "HBoxModel",
          "model_module_version": "1.5.0",
          "state": {
            "_view_name": "HBoxView",
            "_dom_classes": [],
            "_model_name": "HBoxModel",
            "_view_module": "@jupyter-widgets/controls",
            "_model_module_version": "1.5.0",
            "_view_count": null,
            "_view_module_version": "1.5.0",
            "box_style": "",
            "layout": "IPY_MODEL_5c52c30289214aaabc34c5c0b0e6228a",
            "_model_module": "@jupyter-widgets/controls",
            "children": [
              "IPY_MODEL_65f78db6467942b08f8cc3d066f534da",
              "IPY_MODEL_f8552bf3b30c4fd5892fed27e0b8e491",
              "IPY_MODEL_588e473be8dd491d84219be4faae686e"
            ]
          }
        },
        "5c52c30289214aaabc34c5c0b0e6228a": {
          "model_module": "@jupyter-widgets/base",
          "model_name": "LayoutModel",
          "model_module_version": "1.2.0",
          "state": {
            "_view_name": "LayoutView",
            "grid_template_rows": null,
            "right": null,
            "justify_content": null,
            "_view_module": "@jupyter-widgets/base",
            "overflow": null,
            "_model_module_version": "1.2.0",
            "_view_count": null,
            "flex_flow": null,
            "width": null,
            "min_width": null,
            "border": null,
            "align_items": null,
            "bottom": null,
            "_model_module": "@jupyter-widgets/base",
            "top": null,
            "grid_column": null,
            "overflow_y": null,
            "overflow_x": null,
            "grid_auto_flow": null,
            "grid_area": null,
            "grid_template_columns": null,
            "flex": null,
            "_model_name": "LayoutModel",
            "justify_items": null,
            "grid_row": null,
            "max_height": null,
            "align_content": null,
            "visibility": null,
            "align_self": null,
            "height": null,
            "min_height": null,
            "padding": null,
            "grid_auto_rows": null,
            "grid_gap": null,
            "max_width": null,
            "order": null,
            "_view_module_version": "1.2.0",
            "grid_template_areas": null,
            "object_position": null,
            "object_fit": null,
            "grid_auto_columns": null,
            "margin": null,
            "display": null,
            "left": null
          }
        },
        "65f78db6467942b08f8cc3d066f534da": {
          "model_module": "@jupyter-widgets/controls",
          "model_name": "HTMLModel",
          "model_module_version": "1.5.0",
          "state": {
            "_view_name": "HTMLView",
            "style": "IPY_MODEL_7c1713dc9ad549ff8e39f917112b56e3",
            "_dom_classes": [],
            "description": "",
            "_model_name": "HTMLModel",
            "placeholder": "​",
            "_view_module": "@jupyter-widgets/controls",
            "_model_module_version": "1.5.0",
            "value": "",
            "_view_count": null,
            "_view_module_version": "1.5.0",
            "description_tooltip": null,
            "_model_module": "@jupyter-widgets/controls",
            "layout": "IPY_MODEL_ee5dd1b6601248649aee423e4b262313"
          }
        },
        "f8552bf3b30c4fd5892fed27e0b8e491": {
          "model_module": "@jupyter-widgets/controls",
          "model_name": "FloatProgressModel",
          "model_module_version": "1.5.0",
          "state": {
            "_view_name": "ProgressView",
            "style": "IPY_MODEL_6ac56d9cde3b46009048e337be9d051a",
            "_dom_classes": [],
            "description": "",
            "_model_name": "FloatProgressModel",
            "bar_style": "info",
            "max": 1,
            "_view_module": "@jupyter-widgets/controls",
            "_model_module_version": "1.5.0",
            "value": 1,
            "_view_count": null,
            "_view_module_version": "1.5.0",
            "orientation": "horizontal",
            "min": 0,
            "description_tooltip": null,
            "_model_module": "@jupyter-widgets/controls",
            "layout": "IPY_MODEL_1052221e098e4e799fb1a04ffcde62f3"
          }
        },
        "588e473be8dd491d84219be4faae686e": {
          "model_module": "@jupyter-widgets/controls",
          "model_name": "HTMLModel",
          "model_module_version": "1.5.0",
          "state": {
            "_view_name": "HTMLView",
            "style": "IPY_MODEL_1552745d23eb41c6a93341cae4ce3466",
            "_dom_classes": [],
            "description": "",
            "_model_name": "HTMLModel",
            "placeholder": "​",
            "_view_module": "@jupyter-widgets/controls",
            "_model_module_version": "1.5.0",
            "value": " 51400/0 [00:13&lt;00:00, 3602.74 examples/s]",
            "_view_count": null,
            "_view_module_version": "1.5.0",
            "description_tooltip": null,
            "_model_module": "@jupyter-widgets/controls",
            "layout": "IPY_MODEL_5696429c8dcf42a88b2bb302d02967a7"
          }
        },
        "7c1713dc9ad549ff8e39f917112b56e3": {
          "model_module": "@jupyter-widgets/controls",
          "model_name": "DescriptionStyleModel",
          "model_module_version": "1.5.0",
          "state": {
            "_view_name": "StyleView",
            "_model_name": "DescriptionStyleModel",
            "description_width": "",
            "_view_module": "@jupyter-widgets/base",
            "_model_module_version": "1.5.0",
            "_view_count": null,
            "_view_module_version": "1.2.0",
            "_model_module": "@jupyter-widgets/controls"
          }
        },
        "ee5dd1b6601248649aee423e4b262313": {
          "model_module": "@jupyter-widgets/base",
          "model_name": "LayoutModel",
          "model_module_version": "1.2.0",
          "state": {
            "_view_name": "LayoutView",
            "grid_template_rows": null,
            "right": null,
            "justify_content": null,
            "_view_module": "@jupyter-widgets/base",
            "overflow": null,
            "_model_module_version": "1.2.0",
            "_view_count": null,
            "flex_flow": null,
            "width": null,
            "min_width": null,
            "border": null,
            "align_items": null,
            "bottom": null,
            "_model_module": "@jupyter-widgets/base",
            "top": null,
            "grid_column": null,
            "overflow_y": null,
            "overflow_x": null,
            "grid_auto_flow": null,
            "grid_area": null,
            "grid_template_columns": null,
            "flex": null,
            "_model_name": "LayoutModel",
            "justify_items": null,
            "grid_row": null,
            "max_height": null,
            "align_content": null,
            "visibility": null,
            "align_self": null,
            "height": null,
            "min_height": null,
            "padding": null,
            "grid_auto_rows": null,
            "grid_gap": null,
            "max_width": null,
            "order": null,
            "_view_module_version": "1.2.0",
            "grid_template_areas": null,
            "object_position": null,
            "object_fit": null,
            "grid_auto_columns": null,
            "margin": null,
            "display": null,
            "left": null
          }
        },
        "6ac56d9cde3b46009048e337be9d051a": {
          "model_module": "@jupyter-widgets/controls",
          "model_name": "ProgressStyleModel",
          "model_module_version": "1.5.0",
          "state": {
            "_view_name": "StyleView",
            "_model_name": "ProgressStyleModel",
            "description_width": "",
            "_view_module": "@jupyter-widgets/base",
            "_model_module_version": "1.5.0",
            "_view_count": null,
            "_view_module_version": "1.2.0",
            "bar_color": null,
            "_model_module": "@jupyter-widgets/controls"
          }
        },
        "1052221e098e4e799fb1a04ffcde62f3": {
          "model_module": "@jupyter-widgets/base",
          "model_name": "LayoutModel",
          "model_module_version": "1.2.0",
          "state": {
            "_view_name": "LayoutView",
            "grid_template_rows": null,
            "right": null,
            "justify_content": null,
            "_view_module": "@jupyter-widgets/base",
            "overflow": null,
            "_model_module_version": "1.2.0",
            "_view_count": null,
            "flex_flow": null,
            "width": "20px",
            "min_width": null,
            "border": null,
            "align_items": null,
            "bottom": null,
            "_model_module": "@jupyter-widgets/base",
            "top": null,
            "grid_column": null,
            "overflow_y": null,
            "overflow_x": null,
            "grid_auto_flow": null,
            "grid_area": null,
            "grid_template_columns": null,
            "flex": null,
            "_model_name": "LayoutModel",
            "justify_items": null,
            "grid_row": null,
            "max_height": null,
            "align_content": null,
            "visibility": null,
            "align_self": null,
            "height": null,
            "min_height": null,
            "padding": null,
            "grid_auto_rows": null,
            "grid_gap": null,
            "max_width": null,
            "order": null,
            "_view_module_version": "1.2.0",
            "grid_template_areas": null,
            "object_position": null,
            "object_fit": null,
            "grid_auto_columns": null,
            "margin": null,
            "display": null,
            "left": null
          }
        },
        "1552745d23eb41c6a93341cae4ce3466": {
          "model_module": "@jupyter-widgets/controls",
          "model_name": "DescriptionStyleModel",
          "model_module_version": "1.5.0",
          "state": {
            "_view_name": "StyleView",
            "_model_name": "DescriptionStyleModel",
            "description_width": "",
            "_view_module": "@jupyter-widgets/base",
            "_model_module_version": "1.5.0",
            "_view_count": null,
            "_view_module_version": "1.2.0",
            "_model_module": "@jupyter-widgets/controls"
          }
        },
        "5696429c8dcf42a88b2bb302d02967a7": {
          "model_module": "@jupyter-widgets/base",
          "model_name": "LayoutModel",
          "model_module_version": "1.2.0",
          "state": {
            "_view_name": "LayoutView",
            "grid_template_rows": null,
            "right": null,
            "justify_content": null,
            "_view_module": "@jupyter-widgets/base",
            "overflow": null,
            "_model_module_version": "1.2.0",
            "_view_count": null,
            "flex_flow": null,
            "width": null,
            "min_width": null,
            "border": null,
            "align_items": null,
            "bottom": null,
            "_model_module": "@jupyter-widgets/base",
            "top": null,
            "grid_column": null,
            "overflow_y": null,
            "overflow_x": null,
            "grid_auto_flow": null,
            "grid_area": null,
            "grid_template_columns": null,
            "flex": null,
            "_model_name": "LayoutModel",
            "justify_items": null,
            "grid_row": null,
            "max_height": null,
            "align_content": null,
            "visibility": null,
            "align_self": null,
            "height": null,
            "min_height": null,
            "padding": null,
            "grid_auto_rows": null,
            "grid_gap": null,
            "max_width": null,
            "order": null,
            "_view_module_version": "1.2.0",
            "grid_template_areas": null,
            "object_position": null,
            "object_fit": null,
            "grid_auto_columns": null,
            "margin": null,
            "display": null,
            "left": null
          }
        },
        "3666d29a594344daae1f9d25f45981ab": {
          "model_module": "@jupyter-widgets/controls",
          "model_name": "HBoxModel",
          "model_module_version": "1.5.0",
          "state": {
            "_view_name": "HBoxView",
            "_dom_classes": [],
            "_model_name": "HBoxModel",
            "_view_module": "@jupyter-widgets/controls",
            "_model_module_version": "1.5.0",
            "_view_count": null,
            "_view_module_version": "1.5.0",
            "box_style": "",
            "layout": "IPY_MODEL_2653ad302b614b5c9f43b57539072f5f",
            "_model_module": "@jupyter-widgets/controls",
            "children": [
              "IPY_MODEL_8bbee9aaaaf04f9f8734856fbff953a4",
              "IPY_MODEL_084da42cc70e4385a1897006e43106f6",
              "IPY_MODEL_bafef86caad64a569d5381de88fcaa6d"
            ]
          }
        },
        "2653ad302b614b5c9f43b57539072f5f": {
          "model_module": "@jupyter-widgets/base",
          "model_name": "LayoutModel",
          "model_module_version": "1.2.0",
          "state": {
            "_view_name": "LayoutView",
            "grid_template_rows": null,
            "right": null,
            "justify_content": null,
            "_view_module": "@jupyter-widgets/base",
            "overflow": null,
            "_model_module_version": "1.2.0",
            "_view_count": null,
            "flex_flow": null,
            "width": null,
            "min_width": null,
            "border": null,
            "align_items": null,
            "bottom": null,
            "_model_module": "@jupyter-widgets/base",
            "top": null,
            "grid_column": null,
            "overflow_y": null,
            "overflow_x": null,
            "grid_auto_flow": null,
            "grid_area": null,
            "grid_template_columns": null,
            "flex": null,
            "_model_name": "LayoutModel",
            "justify_items": null,
            "grid_row": null,
            "max_height": null,
            "align_content": null,
            "visibility": null,
            "align_self": null,
            "height": null,
            "min_height": null,
            "padding": null,
            "grid_auto_rows": null,
            "grid_gap": null,
            "max_width": null,
            "order": null,
            "_view_module_version": "1.2.0",
            "grid_template_areas": null,
            "object_position": null,
            "object_fit": null,
            "grid_auto_columns": null,
            "margin": null,
            "display": null,
            "left": null
          }
        },
        "8bbee9aaaaf04f9f8734856fbff953a4": {
          "model_module": "@jupyter-widgets/controls",
          "model_name": "HTMLModel",
          "model_module_version": "1.5.0",
          "state": {
            "_view_name": "HTMLView",
            "style": "IPY_MODEL_0bec03705e8b4b97a00c83a7972c3bfd",
            "_dom_classes": [],
            "description": "",
            "_model_name": "HTMLModel",
            "placeholder": "​",
            "_view_module": "@jupyter-widgets/controls",
            "_model_module_version": "1.5.0",
            "value": "100%",
            "_view_count": null,
            "_view_module_version": "1.5.0",
            "description_tooltip": null,
            "_model_module": "@jupyter-widgets/controls",
            "layout": "IPY_MODEL_58600b2ccc0b46758dd86d3861a66e1c"
          }
        },
        "084da42cc70e4385a1897006e43106f6": {
          "model_module": "@jupyter-widgets/controls",
          "model_name": "FloatProgressModel",
          "model_module_version": "1.5.0",
          "state": {
            "_view_name": "ProgressView",
            "style": "IPY_MODEL_e708abb729da48d497b8df04e3bad053",
            "_dom_classes": [],
            "description": "",
            "_model_name": "FloatProgressModel",
            "bar_style": "danger",
            "max": 51785,
            "_view_module": "@jupyter-widgets/controls",
            "_model_module_version": "1.5.0",
            "value": 51784,
            "_view_count": null,
            "_view_module_version": "1.5.0",
            "orientation": "horizontal",
            "min": 0,
            "description_tooltip": null,
            "_model_module": "@jupyter-widgets/controls",
            "layout": "IPY_MODEL_a7b9268ada6d484198ecf619024981f0"
          }
        },
        "bafef86caad64a569d5381de88fcaa6d": {
          "model_module": "@jupyter-widgets/controls",
          "model_name": "HTMLModel",
          "model_module_version": "1.5.0",
          "state": {
            "_view_name": "HTMLView",
            "style": "IPY_MODEL_aab98f29ab9d457e9ba4e8af64d4ef60",
            "_dom_classes": [],
            "description": "",
            "_model_name": "HTMLModel",
            "placeholder": "​",
            "_view_module": "@jupyter-widgets/controls",
            "_model_module_version": "1.5.0",
            "value": " 51784/51785 [00:00&lt;00:00, 188272.47 examples/s]",
            "_view_count": null,
            "_view_module_version": "1.5.0",
            "description_tooltip": null,
            "_model_module": "@jupyter-widgets/controls",
            "layout": "IPY_MODEL_bb2f238eaee74291a7b7c3a4e0d558c9"
          }
        },
        "0bec03705e8b4b97a00c83a7972c3bfd": {
          "model_module": "@jupyter-widgets/controls",
          "model_name": "DescriptionStyleModel",
          "model_module_version": "1.5.0",
          "state": {
            "_view_name": "StyleView",
            "_model_name": "DescriptionStyleModel",
            "description_width": "",
            "_view_module": "@jupyter-widgets/base",
            "_model_module_version": "1.5.0",
            "_view_count": null,
            "_view_module_version": "1.2.0",
            "_model_module": "@jupyter-widgets/controls"
          }
        },
        "58600b2ccc0b46758dd86d3861a66e1c": {
          "model_module": "@jupyter-widgets/base",
          "model_name": "LayoutModel",
          "model_module_version": "1.2.0",
          "state": {
            "_view_name": "LayoutView",
            "grid_template_rows": null,
            "right": null,
            "justify_content": null,
            "_view_module": "@jupyter-widgets/base",
            "overflow": null,
            "_model_module_version": "1.2.0",
            "_view_count": null,
            "flex_flow": null,
            "width": null,
            "min_width": null,
            "border": null,
            "align_items": null,
            "bottom": null,
            "_model_module": "@jupyter-widgets/base",
            "top": null,
            "grid_column": null,
            "overflow_y": null,
            "overflow_x": null,
            "grid_auto_flow": null,
            "grid_area": null,
            "grid_template_columns": null,
            "flex": null,
            "_model_name": "LayoutModel",
            "justify_items": null,
            "grid_row": null,
            "max_height": null,
            "align_content": null,
            "visibility": null,
            "align_self": null,
            "height": null,
            "min_height": null,
            "padding": null,
            "grid_auto_rows": null,
            "grid_gap": null,
            "max_width": null,
            "order": null,
            "_view_module_version": "1.2.0",
            "grid_template_areas": null,
            "object_position": null,
            "object_fit": null,
            "grid_auto_columns": null,
            "margin": null,
            "display": null,
            "left": null
          }
        },
        "e708abb729da48d497b8df04e3bad053": {
          "model_module": "@jupyter-widgets/controls",
          "model_name": "ProgressStyleModel",
          "model_module_version": "1.5.0",
          "state": {
            "_view_name": "StyleView",
            "_model_name": "ProgressStyleModel",
            "description_width": "",
            "_view_module": "@jupyter-widgets/base",
            "_model_module_version": "1.5.0",
            "_view_count": null,
            "_view_module_version": "1.2.0",
            "bar_color": null,
            "_model_module": "@jupyter-widgets/controls"
          }
        },
        "a7b9268ada6d484198ecf619024981f0": {
          "model_module": "@jupyter-widgets/base",
          "model_name": "LayoutModel",
          "model_module_version": "1.2.0",
          "state": {
            "_view_name": "LayoutView",
            "grid_template_rows": null,
            "right": null,
            "justify_content": null,
            "_view_module": "@jupyter-widgets/base",
            "overflow": null,
            "_model_module_version": "1.2.0",
            "_view_count": null,
            "flex_flow": null,
            "width": null,
            "min_width": null,
            "border": null,
            "align_items": null,
            "bottom": null,
            "_model_module": "@jupyter-widgets/base",
            "top": null,
            "grid_column": null,
            "overflow_y": null,
            "overflow_x": null,
            "grid_auto_flow": null,
            "grid_area": null,
            "grid_template_columns": null,
            "flex": null,
            "_model_name": "LayoutModel",
            "justify_items": null,
            "grid_row": null,
            "max_height": null,
            "align_content": null,
            "visibility": null,
            "align_self": null,
            "height": null,
            "min_height": null,
            "padding": null,
            "grid_auto_rows": null,
            "grid_gap": null,
            "max_width": null,
            "order": null,
            "_view_module_version": "1.2.0",
            "grid_template_areas": null,
            "object_position": null,
            "object_fit": null,
            "grid_auto_columns": null,
            "margin": null,
            "display": null,
            "left": null
          }
        },
        "aab98f29ab9d457e9ba4e8af64d4ef60": {
          "model_module": "@jupyter-widgets/controls",
          "model_name": "DescriptionStyleModel",
          "model_module_version": "1.5.0",
          "state": {
            "_view_name": "StyleView",
            "_model_name": "DescriptionStyleModel",
            "description_width": "",
            "_view_module": "@jupyter-widgets/base",
            "_model_module_version": "1.5.0",
            "_view_count": null,
            "_view_module_version": "1.2.0",
            "_model_module": "@jupyter-widgets/controls"
          }
        },
        "bb2f238eaee74291a7b7c3a4e0d558c9": {
          "model_module": "@jupyter-widgets/base",
          "model_name": "LayoutModel",
          "model_module_version": "1.2.0",
          "state": {
            "_view_name": "LayoutView",
            "grid_template_rows": null,
            "right": null,
            "justify_content": null,
            "_view_module": "@jupyter-widgets/base",
            "overflow": null,
            "_model_module_version": "1.2.0",
            "_view_count": null,
            "flex_flow": null,
            "width": null,
            "min_width": null,
            "border": null,
            "align_items": null,
            "bottom": null,
            "_model_module": "@jupyter-widgets/base",
            "top": null,
            "grid_column": null,
            "overflow_y": null,
            "overflow_x": null,
            "grid_auto_flow": null,
            "grid_area": null,
            "grid_template_columns": null,
            "flex": null,
            "_model_name": "LayoutModel",
            "justify_items": null,
            "grid_row": null,
            "max_height": null,
            "align_content": null,
            "visibility": null,
            "align_self": null,
            "height": null,
            "min_height": null,
            "padding": null,
            "grid_auto_rows": null,
            "grid_gap": null,
            "max_width": null,
            "order": null,
            "_view_module_version": "1.2.0",
            "grid_template_areas": null,
            "object_position": null,
            "object_fit": null,
            "grid_auto_columns": null,
            "margin": null,
            "display": null,
            "left": null
          }
        },
        "5aed5d4a9a914cd8b0f960d596721091": {
          "model_module": "@jupyter-widgets/controls",
          "model_name": "HBoxModel",
          "model_module_version": "1.5.0",
          "state": {
            "_view_name": "HBoxView",
            "_dom_classes": [],
            "_model_name": "HBoxModel",
            "_view_module": "@jupyter-widgets/controls",
            "_model_module_version": "1.5.0",
            "_view_count": null,
            "_view_module_version": "1.5.0",
            "box_style": "",
            "layout": "IPY_MODEL_b5ccd4c7b3b04c34b5ebeb05c24199d0",
            "_model_module": "@jupyter-widgets/controls",
            "children": [
              "IPY_MODEL_54e99370b32440428f4b5786e6765399",
              "IPY_MODEL_bafb4458ce3e43bea0d1d39c7bcc77cf",
              "IPY_MODEL_756878f5760940ed8e54da8f379f12a1"
            ]
          }
        },
        "b5ccd4c7b3b04c34b5ebeb05c24199d0": {
          "model_module": "@jupyter-widgets/base",
          "model_name": "LayoutModel",
          "model_module_version": "1.2.0",
          "state": {
            "_view_name": "LayoutView",
            "grid_template_rows": null,
            "right": null,
            "justify_content": null,
            "_view_module": "@jupyter-widgets/base",
            "overflow": null,
            "_model_module_version": "1.2.0",
            "_view_count": null,
            "flex_flow": null,
            "width": null,
            "min_width": null,
            "border": null,
            "align_items": null,
            "bottom": null,
            "_model_module": "@jupyter-widgets/base",
            "top": null,
            "grid_column": null,
            "overflow_y": null,
            "overflow_x": null,
            "grid_auto_flow": null,
            "grid_area": null,
            "grid_template_columns": null,
            "flex": null,
            "_model_name": "LayoutModel",
            "justify_items": null,
            "grid_row": null,
            "max_height": null,
            "align_content": null,
            "visibility": null,
            "align_self": null,
            "height": null,
            "min_height": null,
            "padding": null,
            "grid_auto_rows": null,
            "grid_gap": null,
            "max_width": null,
            "order": null,
            "_view_module_version": "1.2.0",
            "grid_template_areas": null,
            "object_position": null,
            "object_fit": null,
            "grid_auto_columns": null,
            "margin": null,
            "display": null,
            "left": null
          }
        },
        "54e99370b32440428f4b5786e6765399": {
          "model_module": "@jupyter-widgets/controls",
          "model_name": "HTMLModel",
          "model_module_version": "1.5.0",
          "state": {
            "_view_name": "HTMLView",
            "style": "IPY_MODEL_5dd0c62f5b5148c0b178580eb0c085cf",
            "_dom_classes": [],
            "description": "",
            "_model_name": "HTMLModel",
            "placeholder": "​",
            "_view_module": "@jupyter-widgets/controls",
            "_model_module_version": "1.5.0",
            "value": "",
            "_view_count": null,
            "_view_module_version": "1.5.0",
            "description_tooltip": null,
            "_model_module": "@jupyter-widgets/controls",
            "layout": "IPY_MODEL_e3f18805f3484d4fa8a8a0874bbc1d55"
          }
        },
        "bafb4458ce3e43bea0d1d39c7bcc77cf": {
          "model_module": "@jupyter-widgets/controls",
          "model_name": "FloatProgressModel",
          "model_module_version": "1.5.0",
          "state": {
            "_view_name": "ProgressView",
            "style": "IPY_MODEL_2eba123e931141a3aa9cc698f2f65539",
            "_dom_classes": [],
            "description": "",
            "_model_name": "FloatProgressModel",
            "bar_style": "info",
            "max": 1,
            "_view_module": "@jupyter-widgets/controls",
            "_model_module_version": "1.5.0",
            "value": 1,
            "_view_count": null,
            "_view_module_version": "1.5.0",
            "orientation": "horizontal",
            "min": 0,
            "description_tooltip": null,
            "_model_module": "@jupyter-widgets/controls",
            "layout": "IPY_MODEL_5dc931b33c68482ea7ec5724613a54a1"
          }
        },
        "756878f5760940ed8e54da8f379f12a1": {
          "model_module": "@jupyter-widgets/controls",
          "model_name": "HTMLModel",
          "model_module_version": "1.5.0",
          "state": {
            "_view_name": "HTMLView",
            "style": "IPY_MODEL_c9da981fffcd4693bd329c6858cfee35",
            "_dom_classes": [],
            "description": "",
            "_model_name": "HTMLModel",
            "placeholder": "​",
            "_view_module": "@jupyter-widgets/controls",
            "_model_module_version": "1.5.0",
            "value": " 1143/0 [00:00&lt;00:00, 3277.65 examples/s]",
            "_view_count": null,
            "_view_module_version": "1.5.0",
            "description_tooltip": null,
            "_model_module": "@jupyter-widgets/controls",
            "layout": "IPY_MODEL_aadba17a6ede464e9d9473cce81c88bc"
          }
        },
        "5dd0c62f5b5148c0b178580eb0c085cf": {
          "model_module": "@jupyter-widgets/controls",
          "model_name": "DescriptionStyleModel",
          "model_module_version": "1.5.0",
          "state": {
            "_view_name": "StyleView",
            "_model_name": "DescriptionStyleModel",
            "description_width": "",
            "_view_module": "@jupyter-widgets/base",
            "_model_module_version": "1.5.0",
            "_view_count": null,
            "_view_module_version": "1.2.0",
            "_model_module": "@jupyter-widgets/controls"
          }
        },
        "e3f18805f3484d4fa8a8a0874bbc1d55": {
          "model_module": "@jupyter-widgets/base",
          "model_name": "LayoutModel",
          "model_module_version": "1.2.0",
          "state": {
            "_view_name": "LayoutView",
            "grid_template_rows": null,
            "right": null,
            "justify_content": null,
            "_view_module": "@jupyter-widgets/base",
            "overflow": null,
            "_model_module_version": "1.2.0",
            "_view_count": null,
            "flex_flow": null,
            "width": null,
            "min_width": null,
            "border": null,
            "align_items": null,
            "bottom": null,
            "_model_module": "@jupyter-widgets/base",
            "top": null,
            "grid_column": null,
            "overflow_y": null,
            "overflow_x": null,
            "grid_auto_flow": null,
            "grid_area": null,
            "grid_template_columns": null,
            "flex": null,
            "_model_name": "LayoutModel",
            "justify_items": null,
            "grid_row": null,
            "max_height": null,
            "align_content": null,
            "visibility": null,
            "align_self": null,
            "height": null,
            "min_height": null,
            "padding": null,
            "grid_auto_rows": null,
            "grid_gap": null,
            "max_width": null,
            "order": null,
            "_view_module_version": "1.2.0",
            "grid_template_areas": null,
            "object_position": null,
            "object_fit": null,
            "grid_auto_columns": null,
            "margin": null,
            "display": null,
            "left": null
          }
        },
        "2eba123e931141a3aa9cc698f2f65539": {
          "model_module": "@jupyter-widgets/controls",
          "model_name": "ProgressStyleModel",
          "model_module_version": "1.5.0",
          "state": {
            "_view_name": "StyleView",
            "_model_name": "ProgressStyleModel",
            "description_width": "",
            "_view_module": "@jupyter-widgets/base",
            "_model_module_version": "1.5.0",
            "_view_count": null,
            "_view_module_version": "1.2.0",
            "bar_color": null,
            "_model_module": "@jupyter-widgets/controls"
          }
        },
        "5dc931b33c68482ea7ec5724613a54a1": {
          "model_module": "@jupyter-widgets/base",
          "model_name": "LayoutModel",
          "model_module_version": "1.2.0",
          "state": {
            "_view_name": "LayoutView",
            "grid_template_rows": null,
            "right": null,
            "justify_content": null,
            "_view_module": "@jupyter-widgets/base",
            "overflow": null,
            "_model_module_version": "1.2.0",
            "_view_count": null,
            "flex_flow": null,
            "width": "20px",
            "min_width": null,
            "border": null,
            "align_items": null,
            "bottom": null,
            "_model_module": "@jupyter-widgets/base",
            "top": null,
            "grid_column": null,
            "overflow_y": null,
            "overflow_x": null,
            "grid_auto_flow": null,
            "grid_area": null,
            "grid_template_columns": null,
            "flex": null,
            "_model_name": "LayoutModel",
            "justify_items": null,
            "grid_row": null,
            "max_height": null,
            "align_content": null,
            "visibility": null,
            "align_self": null,
            "height": null,
            "min_height": null,
            "padding": null,
            "grid_auto_rows": null,
            "grid_gap": null,
            "max_width": null,
            "order": null,
            "_view_module_version": "1.2.0",
            "grid_template_areas": null,
            "object_position": null,
            "object_fit": null,
            "grid_auto_columns": null,
            "margin": null,
            "display": null,
            "left": null
          }
        },
        "c9da981fffcd4693bd329c6858cfee35": {
          "model_module": "@jupyter-widgets/controls",
          "model_name": "DescriptionStyleModel",
          "model_module_version": "1.5.0",
          "state": {
            "_view_name": "StyleView",
            "_model_name": "DescriptionStyleModel",
            "description_width": "",
            "_view_module": "@jupyter-widgets/base",
            "_model_module_version": "1.5.0",
            "_view_count": null,
            "_view_module_version": "1.2.0",
            "_model_module": "@jupyter-widgets/controls"
          }
        },
        "aadba17a6ede464e9d9473cce81c88bc": {
          "model_module": "@jupyter-widgets/base",
          "model_name": "LayoutModel",
          "model_module_version": "1.2.0",
          "state": {
            "_view_name": "LayoutView",
            "grid_template_rows": null,
            "right": null,
            "justify_content": null,
            "_view_module": "@jupyter-widgets/base",
            "overflow": null,
            "_model_module_version": "1.2.0",
            "_view_count": null,
            "flex_flow": null,
            "width": null,
            "min_width": null,
            "border": null,
            "align_items": null,
            "bottom": null,
            "_model_module": "@jupyter-widgets/base",
            "top": null,
            "grid_column": null,
            "overflow_y": null,
            "overflow_x": null,
            "grid_auto_flow": null,
            "grid_area": null,
            "grid_template_columns": null,
            "flex": null,
            "_model_name": "LayoutModel",
            "justify_items": null,
            "grid_row": null,
            "max_height": null,
            "align_content": null,
            "visibility": null,
            "align_self": null,
            "height": null,
            "min_height": null,
            "padding": null,
            "grid_auto_rows": null,
            "grid_gap": null,
            "max_width": null,
            "order": null,
            "_view_module_version": "1.2.0",
            "grid_template_areas": null,
            "object_position": null,
            "object_fit": null,
            "grid_auto_columns": null,
            "margin": null,
            "display": null,
            "left": null
          }
        },
        "4860ba78d1b043779d7619be08c76669": {
          "model_module": "@jupyter-widgets/controls",
          "model_name": "HBoxModel",
          "model_module_version": "1.5.0",
          "state": {
            "_view_name": "HBoxView",
            "_dom_classes": [],
            "_model_name": "HBoxModel",
            "_view_module": "@jupyter-widgets/controls",
            "_model_module_version": "1.5.0",
            "_view_count": null,
            "_view_module_version": "1.5.0",
            "box_style": "",
            "layout": "IPY_MODEL_cfa9050921aa4305ad057cafafdbfaed",
            "_model_module": "@jupyter-widgets/controls",
            "children": [
              "IPY_MODEL_009c8189c00147a188f23cb46082d02b",
              "IPY_MODEL_18f93411e30a490c953cca0eda5fa8f3",
              "IPY_MODEL_2d65c48932104be3a1d49217dabb07f3"
            ]
          }
        },
        "cfa9050921aa4305ad057cafafdbfaed": {
          "model_module": "@jupyter-widgets/base",
          "model_name": "LayoutModel",
          "model_module_version": "1.2.0",
          "state": {
            "_view_name": "LayoutView",
            "grid_template_rows": null,
            "right": null,
            "justify_content": null,
            "_view_module": "@jupyter-widgets/base",
            "overflow": null,
            "_model_module_version": "1.2.0",
            "_view_count": null,
            "flex_flow": null,
            "width": null,
            "min_width": null,
            "border": null,
            "align_items": null,
            "bottom": null,
            "_model_module": "@jupyter-widgets/base",
            "top": null,
            "grid_column": null,
            "overflow_y": null,
            "overflow_x": null,
            "grid_auto_flow": null,
            "grid_area": null,
            "grid_template_columns": null,
            "flex": null,
            "_model_name": "LayoutModel",
            "justify_items": null,
            "grid_row": null,
            "max_height": null,
            "align_content": null,
            "visibility": null,
            "align_self": null,
            "height": null,
            "min_height": null,
            "padding": null,
            "grid_auto_rows": null,
            "grid_gap": null,
            "max_width": null,
            "order": null,
            "_view_module_version": "1.2.0",
            "grid_template_areas": null,
            "object_position": null,
            "object_fit": null,
            "grid_auto_columns": null,
            "margin": null,
            "display": null,
            "left": null
          }
        },
        "009c8189c00147a188f23cb46082d02b": {
          "model_module": "@jupyter-widgets/controls",
          "model_name": "HTMLModel",
          "model_module_version": "1.5.0",
          "state": {
            "_view_name": "HTMLView",
            "style": "IPY_MODEL_f29c8f06976e4f1687fba90ae3c6174f",
            "_dom_classes": [],
            "description": "",
            "_model_name": "HTMLModel",
            "placeholder": "​",
            "_view_module": "@jupyter-widgets/controls",
            "_model_module_version": "1.5.0",
            "value": "100%",
            "_view_count": null,
            "_view_module_version": "1.5.0",
            "description_tooltip": null,
            "_model_module": "@jupyter-widgets/controls",
            "layout": "IPY_MODEL_53cc0924d4f24189b53262ec19bdea2b"
          }
        },
        "18f93411e30a490c953cca0eda5fa8f3": {
          "model_module": "@jupyter-widgets/controls",
          "model_name": "FloatProgressModel",
          "model_module_version": "1.5.0",
          "state": {
            "_view_name": "ProgressView",
            "style": "IPY_MODEL_a14fcceb9d284609b9010008a86aa84f",
            "_dom_classes": [],
            "description": "",
            "_model_name": "FloatProgressModel",
            "bar_style": "danger",
            "max": 1193,
            "_view_module": "@jupyter-widgets/controls",
            "_model_module_version": "1.5.0",
            "value": 1192,
            "_view_count": null,
            "_view_module_version": "1.5.0",
            "orientation": "horizontal",
            "min": 0,
            "description_tooltip": null,
            "_model_module": "@jupyter-widgets/controls",
            "layout": "IPY_MODEL_1a392748177543dbb84af6ed84a481a5"
          }
        },
        "2d65c48932104be3a1d49217dabb07f3": {
          "model_module": "@jupyter-widgets/controls",
          "model_name": "HTMLModel",
          "model_module_version": "1.5.0",
          "state": {
            "_view_name": "HTMLView",
            "style": "IPY_MODEL_863ef0de693b48b5a4777f54534f59f5",
            "_dom_classes": [],
            "description": "",
            "_model_name": "HTMLModel",
            "placeholder": "​",
            "_view_module": "@jupyter-widgets/controls",
            "_model_module_version": "1.5.0",
            "value": " 1192/1193 [00:00&lt;00:00, 22333.55 examples/s]",
            "_view_count": null,
            "_view_module_version": "1.5.0",
            "description_tooltip": null,
            "_model_module": "@jupyter-widgets/controls",
            "layout": "IPY_MODEL_f63a3ddacd98456ab37a0f0c8633fd17"
          }
        },
        "f29c8f06976e4f1687fba90ae3c6174f": {
          "model_module": "@jupyter-widgets/controls",
          "model_name": "DescriptionStyleModel",
          "model_module_version": "1.5.0",
          "state": {
            "_view_name": "StyleView",
            "_model_name": "DescriptionStyleModel",
            "description_width": "",
            "_view_module": "@jupyter-widgets/base",
            "_model_module_version": "1.5.0",
            "_view_count": null,
            "_view_module_version": "1.2.0",
            "_model_module": "@jupyter-widgets/controls"
          }
        },
        "53cc0924d4f24189b53262ec19bdea2b": {
          "model_module": "@jupyter-widgets/base",
          "model_name": "LayoutModel",
          "model_module_version": "1.2.0",
          "state": {
            "_view_name": "LayoutView",
            "grid_template_rows": null,
            "right": null,
            "justify_content": null,
            "_view_module": "@jupyter-widgets/base",
            "overflow": null,
            "_model_module_version": "1.2.0",
            "_view_count": null,
            "flex_flow": null,
            "width": null,
            "min_width": null,
            "border": null,
            "align_items": null,
            "bottom": null,
            "_model_module": "@jupyter-widgets/base",
            "top": null,
            "grid_column": null,
            "overflow_y": null,
            "overflow_x": null,
            "grid_auto_flow": null,
            "grid_area": null,
            "grid_template_columns": null,
            "flex": null,
            "_model_name": "LayoutModel",
            "justify_items": null,
            "grid_row": null,
            "max_height": null,
            "align_content": null,
            "visibility": null,
            "align_self": null,
            "height": null,
            "min_height": null,
            "padding": null,
            "grid_auto_rows": null,
            "grid_gap": null,
            "max_width": null,
            "order": null,
            "_view_module_version": "1.2.0",
            "grid_template_areas": null,
            "object_position": null,
            "object_fit": null,
            "grid_auto_columns": null,
            "margin": null,
            "display": null,
            "left": null
          }
        },
        "a14fcceb9d284609b9010008a86aa84f": {
          "model_module": "@jupyter-widgets/controls",
          "model_name": "ProgressStyleModel",
          "model_module_version": "1.5.0",
          "state": {
            "_view_name": "StyleView",
            "_model_name": "ProgressStyleModel",
            "description_width": "",
            "_view_module": "@jupyter-widgets/base",
            "_model_module_version": "1.5.0",
            "_view_count": null,
            "_view_module_version": "1.2.0",
            "bar_color": null,
            "_model_module": "@jupyter-widgets/controls"
          }
        },
        "1a392748177543dbb84af6ed84a481a5": {
          "model_module": "@jupyter-widgets/base",
          "model_name": "LayoutModel",
          "model_module_version": "1.2.0",
          "state": {
            "_view_name": "LayoutView",
            "grid_template_rows": null,
            "right": null,
            "justify_content": null,
            "_view_module": "@jupyter-widgets/base",
            "overflow": null,
            "_model_module_version": "1.2.0",
            "_view_count": null,
            "flex_flow": null,
            "width": null,
            "min_width": null,
            "border": null,
            "align_items": null,
            "bottom": null,
            "_model_module": "@jupyter-widgets/base",
            "top": null,
            "grid_column": null,
            "overflow_y": null,
            "overflow_x": null,
            "grid_auto_flow": null,
            "grid_area": null,
            "grid_template_columns": null,
            "flex": null,
            "_model_name": "LayoutModel",
            "justify_items": null,
            "grid_row": null,
            "max_height": null,
            "align_content": null,
            "visibility": null,
            "align_self": null,
            "height": null,
            "min_height": null,
            "padding": null,
            "grid_auto_rows": null,
            "grid_gap": null,
            "max_width": null,
            "order": null,
            "_view_module_version": "1.2.0",
            "grid_template_areas": null,
            "object_position": null,
            "object_fit": null,
            "grid_auto_columns": null,
            "margin": null,
            "display": null,
            "left": null
          }
        },
        "863ef0de693b48b5a4777f54534f59f5": {
          "model_module": "@jupyter-widgets/controls",
          "model_name": "DescriptionStyleModel",
          "model_module_version": "1.5.0",
          "state": {
            "_view_name": "StyleView",
            "_model_name": "DescriptionStyleModel",
            "description_width": "",
            "_view_module": "@jupyter-widgets/base",
            "_model_module_version": "1.5.0",
            "_view_count": null,
            "_view_module_version": "1.2.0",
            "_model_module": "@jupyter-widgets/controls"
          }
        },
        "f63a3ddacd98456ab37a0f0c8633fd17": {
          "model_module": "@jupyter-widgets/base",
          "model_name": "LayoutModel",
          "model_module_version": "1.2.0",
          "state": {
            "_view_name": "LayoutView",
            "grid_template_rows": null,
            "right": null,
            "justify_content": null,
            "_view_module": "@jupyter-widgets/base",
            "overflow": null,
            "_model_module_version": "1.2.0",
            "_view_count": null,
            "flex_flow": null,
            "width": null,
            "min_width": null,
            "border": null,
            "align_items": null,
            "bottom": null,
            "_model_module": "@jupyter-widgets/base",
            "top": null,
            "grid_column": null,
            "overflow_y": null,
            "overflow_x": null,
            "grid_auto_flow": null,
            "grid_area": null,
            "grid_template_columns": null,
            "flex": null,
            "_model_name": "LayoutModel",
            "justify_items": null,
            "grid_row": null,
            "max_height": null,
            "align_content": null,
            "visibility": null,
            "align_self": null,
            "height": null,
            "min_height": null,
            "padding": null,
            "grid_auto_rows": null,
            "grid_gap": null,
            "max_width": null,
            "order": null,
            "_view_module_version": "1.2.0",
            "grid_template_areas": null,
            "object_position": null,
            "object_fit": null,
            "grid_auto_columns": null,
            "margin": null,
            "display": null,
            "left": null
          }
        },
        "b8ce68b0a4454024ab5d566fbf54f559": {
          "model_module": "@jupyter-widgets/controls",
          "model_name": "HBoxModel",
          "model_module_version": "1.5.0",
          "state": {
            "_view_name": "HBoxView",
            "_dom_classes": [],
            "_model_name": "HBoxModel",
            "_view_module": "@jupyter-widgets/controls",
            "_model_module_version": "1.5.0",
            "_view_count": null,
            "_view_module_version": "1.5.0",
            "box_style": "",
            "layout": "IPY_MODEL_a03bd418cad846ecbc80823dc9ad7eb5",
            "_model_module": "@jupyter-widgets/controls",
            "children": [
              "IPY_MODEL_3163f038fe04463db31b72e3a7d90250",
              "IPY_MODEL_5609a7379b7a485b9066898be590ca42",
              "IPY_MODEL_eb873baec0564a5da6175dbd1800bd14"
            ]
          }
        },
        "a03bd418cad846ecbc80823dc9ad7eb5": {
          "model_module": "@jupyter-widgets/base",
          "model_name": "LayoutModel",
          "model_module_version": "1.2.0",
          "state": {
            "_view_name": "LayoutView",
            "grid_template_rows": null,
            "right": null,
            "justify_content": null,
            "_view_module": "@jupyter-widgets/base",
            "overflow": null,
            "_model_module_version": "1.2.0",
            "_view_count": null,
            "flex_flow": null,
            "width": null,
            "min_width": null,
            "border": null,
            "align_items": null,
            "bottom": null,
            "_model_module": "@jupyter-widgets/base",
            "top": null,
            "grid_column": null,
            "overflow_y": null,
            "overflow_x": null,
            "grid_auto_flow": null,
            "grid_area": null,
            "grid_template_columns": null,
            "flex": null,
            "_model_name": "LayoutModel",
            "justify_items": null,
            "grid_row": null,
            "max_height": null,
            "align_content": null,
            "visibility": null,
            "align_self": null,
            "height": null,
            "min_height": null,
            "padding": null,
            "grid_auto_rows": null,
            "grid_gap": null,
            "max_width": null,
            "order": null,
            "_view_module_version": "1.2.0",
            "grid_template_areas": null,
            "object_position": null,
            "object_fit": null,
            "grid_auto_columns": null,
            "margin": null,
            "display": null,
            "left": null
          }
        },
        "3163f038fe04463db31b72e3a7d90250": {
          "model_module": "@jupyter-widgets/controls",
          "model_name": "HTMLModel",
          "model_module_version": "1.5.0",
          "state": {
            "_view_name": "HTMLView",
            "style": "IPY_MODEL_c0943d450be7420f8fd82f55d541521a",
            "_dom_classes": [],
            "description": "",
            "_model_name": "HTMLModel",
            "placeholder": "​",
            "_view_module": "@jupyter-widgets/controls",
            "_model_module_version": "1.5.0",
            "value": "",
            "_view_count": null,
            "_view_module_version": "1.5.0",
            "description_tooltip": null,
            "_model_module": "@jupyter-widgets/controls",
            "layout": "IPY_MODEL_d5b10acebc314528880b07590bce5478"
          }
        },
        "5609a7379b7a485b9066898be590ca42": {
          "model_module": "@jupyter-widgets/controls",
          "model_name": "FloatProgressModel",
          "model_module_version": "1.5.0",
          "state": {
            "_view_name": "ProgressView",
            "style": "IPY_MODEL_44712ae4498641399dbe8b8ad2f9e977",
            "_dom_classes": [],
            "description": "",
            "_model_name": "FloatProgressModel",
            "bar_style": "info",
            "max": 1,
            "_view_module": "@jupyter-widgets/controls",
            "_model_module_version": "1.5.0",
            "value": 1,
            "_view_count": null,
            "_view_module_version": "1.5.0",
            "orientation": "horizontal",
            "min": 0,
            "description_tooltip": null,
            "_model_module": "@jupyter-widgets/controls",
            "layout": "IPY_MODEL_dc0fe8aa33424ed39b2e909df3f8fdf9"
          }
        },
        "eb873baec0564a5da6175dbd1800bd14": {
          "model_module": "@jupyter-widgets/controls",
          "model_name": "HTMLModel",
          "model_module_version": "1.5.0",
          "state": {
            "_view_name": "HTMLView",
            "style": "IPY_MODEL_f7db608e912740ba8c55444c83497409",
            "_dom_classes": [],
            "description": "",
            "_model_name": "HTMLModel",
            "placeholder": "​",
            "_view_module": "@jupyter-widgets/controls",
            "_model_module_version": "1.5.0",
            "value": " 1460/0 [00:00&lt;00:00, 3460.89 examples/s]",
            "_view_count": null,
            "_view_module_version": "1.5.0",
            "description_tooltip": null,
            "_model_module": "@jupyter-widgets/controls",
            "layout": "IPY_MODEL_a03ee6956fc1479b9076ee0d2313811d"
          }
        },
        "c0943d450be7420f8fd82f55d541521a": {
          "model_module": "@jupyter-widgets/controls",
          "model_name": "DescriptionStyleModel",
          "model_module_version": "1.5.0",
          "state": {
            "_view_name": "StyleView",
            "_model_name": "DescriptionStyleModel",
            "description_width": "",
            "_view_module": "@jupyter-widgets/base",
            "_model_module_version": "1.5.0",
            "_view_count": null,
            "_view_module_version": "1.2.0",
            "_model_module": "@jupyter-widgets/controls"
          }
        },
        "d5b10acebc314528880b07590bce5478": {
          "model_module": "@jupyter-widgets/base",
          "model_name": "LayoutModel",
          "model_module_version": "1.2.0",
          "state": {
            "_view_name": "LayoutView",
            "grid_template_rows": null,
            "right": null,
            "justify_content": null,
            "_view_module": "@jupyter-widgets/base",
            "overflow": null,
            "_model_module_version": "1.2.0",
            "_view_count": null,
            "flex_flow": null,
            "width": null,
            "min_width": null,
            "border": null,
            "align_items": null,
            "bottom": null,
            "_model_module": "@jupyter-widgets/base",
            "top": null,
            "grid_column": null,
            "overflow_y": null,
            "overflow_x": null,
            "grid_auto_flow": null,
            "grid_area": null,
            "grid_template_columns": null,
            "flex": null,
            "_model_name": "LayoutModel",
            "justify_items": null,
            "grid_row": null,
            "max_height": null,
            "align_content": null,
            "visibility": null,
            "align_self": null,
            "height": null,
            "min_height": null,
            "padding": null,
            "grid_auto_rows": null,
            "grid_gap": null,
            "max_width": null,
            "order": null,
            "_view_module_version": "1.2.0",
            "grid_template_areas": null,
            "object_position": null,
            "object_fit": null,
            "grid_auto_columns": null,
            "margin": null,
            "display": null,
            "left": null
          }
        },
        "44712ae4498641399dbe8b8ad2f9e977": {
          "model_module": "@jupyter-widgets/controls",
          "model_name": "ProgressStyleModel",
          "model_module_version": "1.5.0",
          "state": {
            "_view_name": "StyleView",
            "_model_name": "ProgressStyleModel",
            "description_width": "",
            "_view_module": "@jupyter-widgets/base",
            "_model_module_version": "1.5.0",
            "_view_count": null,
            "_view_module_version": "1.2.0",
            "bar_color": null,
            "_model_module": "@jupyter-widgets/controls"
          }
        },
        "dc0fe8aa33424ed39b2e909df3f8fdf9": {
          "model_module": "@jupyter-widgets/base",
          "model_name": "LayoutModel",
          "model_module_version": "1.2.0",
          "state": {
            "_view_name": "LayoutView",
            "grid_template_rows": null,
            "right": null,
            "justify_content": null,
            "_view_module": "@jupyter-widgets/base",
            "overflow": null,
            "_model_module_version": "1.2.0",
            "_view_count": null,
            "flex_flow": null,
            "width": "20px",
            "min_width": null,
            "border": null,
            "align_items": null,
            "bottom": null,
            "_model_module": "@jupyter-widgets/base",
            "top": null,
            "grid_column": null,
            "overflow_y": null,
            "overflow_x": null,
            "grid_auto_flow": null,
            "grid_area": null,
            "grid_template_columns": null,
            "flex": null,
            "_model_name": "LayoutModel",
            "justify_items": null,
            "grid_row": null,
            "max_height": null,
            "align_content": null,
            "visibility": null,
            "align_self": null,
            "height": null,
            "min_height": null,
            "padding": null,
            "grid_auto_rows": null,
            "grid_gap": null,
            "max_width": null,
            "order": null,
            "_view_module_version": "1.2.0",
            "grid_template_areas": null,
            "object_position": null,
            "object_fit": null,
            "grid_auto_columns": null,
            "margin": null,
            "display": null,
            "left": null
          }
        },
        "f7db608e912740ba8c55444c83497409": {
          "model_module": "@jupyter-widgets/controls",
          "model_name": "DescriptionStyleModel",
          "model_module_version": "1.5.0",
          "state": {
            "_view_name": "StyleView",
            "_model_name": "DescriptionStyleModel",
            "description_width": "",
            "_view_module": "@jupyter-widgets/base",
            "_model_module_version": "1.5.0",
            "_view_count": null,
            "_view_module_version": "1.2.0",
            "_model_module": "@jupyter-widgets/controls"
          }
        },
        "a03ee6956fc1479b9076ee0d2313811d": {
          "model_module": "@jupyter-widgets/base",
          "model_name": "LayoutModel",
          "model_module_version": "1.2.0",
          "state": {
            "_view_name": "LayoutView",
            "grid_template_rows": null,
            "right": null,
            "justify_content": null,
            "_view_module": "@jupyter-widgets/base",
            "overflow": null,
            "_model_module_version": "1.2.0",
            "_view_count": null,
            "flex_flow": null,
            "width": null,
            "min_width": null,
            "border": null,
            "align_items": null,
            "bottom": null,
            "_model_module": "@jupyter-widgets/base",
            "top": null,
            "grid_column": null,
            "overflow_y": null,
            "overflow_x": null,
            "grid_auto_flow": null,
            "grid_area": null,
            "grid_template_columns": null,
            "flex": null,
            "_model_name": "LayoutModel",
            "justify_items": null,
            "grid_row": null,
            "max_height": null,
            "align_content": null,
            "visibility": null,
            "align_self": null,
            "height": null,
            "min_height": null,
            "padding": null,
            "grid_auto_rows": null,
            "grid_gap": null,
            "max_width": null,
            "order": null,
            "_view_module_version": "1.2.0",
            "grid_template_areas": null,
            "object_position": null,
            "object_fit": null,
            "grid_auto_columns": null,
            "margin": null,
            "display": null,
            "left": null
          }
        },
        "d4599c34df7840429d4daae992cb6862": {
          "model_module": "@jupyter-widgets/controls",
          "model_name": "HBoxModel",
          "model_module_version": "1.5.0",
          "state": {
            "_view_name": "HBoxView",
            "_dom_classes": [],
            "_model_name": "HBoxModel",
            "_view_module": "@jupyter-widgets/controls",
            "_model_module_version": "1.5.0",
            "_view_count": null,
            "_view_module_version": "1.5.0",
            "box_style": "",
            "layout": "IPY_MODEL_f8630a6facd444e48e913ee2970d7511",
            "_model_module": "@jupyter-widgets/controls",
            "children": [
              "IPY_MODEL_6789f081e1394b92b4d55e48a3624253",
              "IPY_MODEL_bd872143cb134b278fedc79dbb9045ee",
              "IPY_MODEL_3296d645030f40168ce5b9c679c2b204"
            ]
          }
        },
        "f8630a6facd444e48e913ee2970d7511": {
          "model_module": "@jupyter-widgets/base",
          "model_name": "LayoutModel",
          "model_module_version": "1.2.0",
          "state": {
            "_view_name": "LayoutView",
            "grid_template_rows": null,
            "right": null,
            "justify_content": null,
            "_view_module": "@jupyter-widgets/base",
            "overflow": null,
            "_model_module_version": "1.2.0",
            "_view_count": null,
            "flex_flow": null,
            "width": null,
            "min_width": null,
            "border": null,
            "align_items": null,
            "bottom": null,
            "_model_module": "@jupyter-widgets/base",
            "top": null,
            "grid_column": null,
            "overflow_y": null,
            "overflow_x": null,
            "grid_auto_flow": null,
            "grid_area": null,
            "grid_template_columns": null,
            "flex": null,
            "_model_name": "LayoutModel",
            "justify_items": null,
            "grid_row": null,
            "max_height": null,
            "align_content": null,
            "visibility": null,
            "align_self": null,
            "height": null,
            "min_height": null,
            "padding": null,
            "grid_auto_rows": null,
            "grid_gap": null,
            "max_width": null,
            "order": null,
            "_view_module_version": "1.2.0",
            "grid_template_areas": null,
            "object_position": null,
            "object_fit": null,
            "grid_auto_columns": null,
            "margin": null,
            "display": null,
            "left": null
          }
        },
        "6789f081e1394b92b4d55e48a3624253": {
          "model_module": "@jupyter-widgets/controls",
          "model_name": "HTMLModel",
          "model_module_version": "1.5.0",
          "state": {
            "_view_name": "HTMLView",
            "style": "IPY_MODEL_a49c4efb383e47c9ab50f98571e0777f",
            "_dom_classes": [],
            "description": "",
            "_model_name": "HTMLModel",
            "placeholder": "​",
            "_view_module": "@jupyter-widgets/controls",
            "_model_module_version": "1.5.0",
            "value": "100%",
            "_view_count": null,
            "_view_module_version": "1.5.0",
            "description_tooltip": null,
            "_model_module": "@jupyter-widgets/controls",
            "layout": "IPY_MODEL_1c05b6d342d443a39f74ff89e8f6d471"
          }
        },
        "bd872143cb134b278fedc79dbb9045ee": {
          "model_module": "@jupyter-widgets/controls",
          "model_name": "FloatProgressModel",
          "model_module_version": "1.5.0",
          "state": {
            "_view_name": "ProgressView",
            "style": "IPY_MODEL_1790c93be4b1432b9080bc8937d17aeb",
            "_dom_classes": [],
            "description": "",
            "_model_name": "FloatProgressModel",
            "bar_style": "danger",
            "max": 1803,
            "_view_module": "@jupyter-widgets/controls",
            "_model_module_version": "1.5.0",
            "value": 1802,
            "_view_count": null,
            "_view_module_version": "1.5.0",
            "orientation": "horizontal",
            "min": 0,
            "description_tooltip": null,
            "_model_module": "@jupyter-widgets/controls",
            "layout": "IPY_MODEL_bf411a23c65b4206a8fdf62ab990ddc7"
          }
        },
        "3296d645030f40168ce5b9c679c2b204": {
          "model_module": "@jupyter-widgets/controls",
          "model_name": "HTMLModel",
          "model_module_version": "1.5.0",
          "state": {
            "_view_name": "HTMLView",
            "style": "IPY_MODEL_8a4fd225e4254204a908fd626aa41dbe",
            "_dom_classes": [],
            "description": "",
            "_model_name": "HTMLModel",
            "placeholder": "​",
            "_view_module": "@jupyter-widgets/controls",
            "_model_module_version": "1.5.0",
            "value": " 1802/1803 [00:00&lt;00:00, 31984.80 examples/s]",
            "_view_count": null,
            "_view_module_version": "1.5.0",
            "description_tooltip": null,
            "_model_module": "@jupyter-widgets/controls",
            "layout": "IPY_MODEL_a2d0e2e9477048be95379a0221c6e519"
          }
        },
        "a49c4efb383e47c9ab50f98571e0777f": {
          "model_module": "@jupyter-widgets/controls",
          "model_name": "DescriptionStyleModel",
          "model_module_version": "1.5.0",
          "state": {
            "_view_name": "StyleView",
            "_model_name": "DescriptionStyleModel",
            "description_width": "",
            "_view_module": "@jupyter-widgets/base",
            "_model_module_version": "1.5.0",
            "_view_count": null,
            "_view_module_version": "1.2.0",
            "_model_module": "@jupyter-widgets/controls"
          }
        },
        "1c05b6d342d443a39f74ff89e8f6d471": {
          "model_module": "@jupyter-widgets/base",
          "model_name": "LayoutModel",
          "model_module_version": "1.2.0",
          "state": {
            "_view_name": "LayoutView",
            "grid_template_rows": null,
            "right": null,
            "justify_content": null,
            "_view_module": "@jupyter-widgets/base",
            "overflow": null,
            "_model_module_version": "1.2.0",
            "_view_count": null,
            "flex_flow": null,
            "width": null,
            "min_width": null,
            "border": null,
            "align_items": null,
            "bottom": null,
            "_model_module": "@jupyter-widgets/base",
            "top": null,
            "grid_column": null,
            "overflow_y": null,
            "overflow_x": null,
            "grid_auto_flow": null,
            "grid_area": null,
            "grid_template_columns": null,
            "flex": null,
            "_model_name": "LayoutModel",
            "justify_items": null,
            "grid_row": null,
            "max_height": null,
            "align_content": null,
            "visibility": null,
            "align_self": null,
            "height": null,
            "min_height": null,
            "padding": null,
            "grid_auto_rows": null,
            "grid_gap": null,
            "max_width": null,
            "order": null,
            "_view_module_version": "1.2.0",
            "grid_template_areas": null,
            "object_position": null,
            "object_fit": null,
            "grid_auto_columns": null,
            "margin": null,
            "display": null,
            "left": null
          }
        },
        "1790c93be4b1432b9080bc8937d17aeb": {
          "model_module": "@jupyter-widgets/controls",
          "model_name": "ProgressStyleModel",
          "model_module_version": "1.5.0",
          "state": {
            "_view_name": "StyleView",
            "_model_name": "ProgressStyleModel",
            "description_width": "",
            "_view_module": "@jupyter-widgets/base",
            "_model_module_version": "1.5.0",
            "_view_count": null,
            "_view_module_version": "1.2.0",
            "bar_color": null,
            "_model_module": "@jupyter-widgets/controls"
          }
        },
        "bf411a23c65b4206a8fdf62ab990ddc7": {
          "model_module": "@jupyter-widgets/base",
          "model_name": "LayoutModel",
          "model_module_version": "1.2.0",
          "state": {
            "_view_name": "LayoutView",
            "grid_template_rows": null,
            "right": null,
            "justify_content": null,
            "_view_module": "@jupyter-widgets/base",
            "overflow": null,
            "_model_module_version": "1.2.0",
            "_view_count": null,
            "flex_flow": null,
            "width": null,
            "min_width": null,
            "border": null,
            "align_items": null,
            "bottom": null,
            "_model_module": "@jupyter-widgets/base",
            "top": null,
            "grid_column": null,
            "overflow_y": null,
            "overflow_x": null,
            "grid_auto_flow": null,
            "grid_area": null,
            "grid_template_columns": null,
            "flex": null,
            "_model_name": "LayoutModel",
            "justify_items": null,
            "grid_row": null,
            "max_height": null,
            "align_content": null,
            "visibility": null,
            "align_self": null,
            "height": null,
            "min_height": null,
            "padding": null,
            "grid_auto_rows": null,
            "grid_gap": null,
            "max_width": null,
            "order": null,
            "_view_module_version": "1.2.0",
            "grid_template_areas": null,
            "object_position": null,
            "object_fit": null,
            "grid_auto_columns": null,
            "margin": null,
            "display": null,
            "left": null
          }
        },
        "8a4fd225e4254204a908fd626aa41dbe": {
          "model_module": "@jupyter-widgets/controls",
          "model_name": "DescriptionStyleModel",
          "model_module_version": "1.5.0",
          "state": {
            "_view_name": "StyleView",
            "_model_name": "DescriptionStyleModel",
            "description_width": "",
            "_view_module": "@jupyter-widgets/base",
            "_model_module_version": "1.5.0",
            "_view_count": null,
            "_view_module_version": "1.2.0",
            "_model_module": "@jupyter-widgets/controls"
          }
        },
        "a2d0e2e9477048be95379a0221c6e519": {
          "model_module": "@jupyter-widgets/base",
          "model_name": "LayoutModel",
          "model_module_version": "1.2.0",
          "state": {
            "_view_name": "LayoutView",
            "grid_template_rows": null,
            "right": null,
            "justify_content": null,
            "_view_module": "@jupyter-widgets/base",
            "overflow": null,
            "_model_module_version": "1.2.0",
            "_view_count": null,
            "flex_flow": null,
            "width": null,
            "min_width": null,
            "border": null,
            "align_items": null,
            "bottom": null,
            "_model_module": "@jupyter-widgets/base",
            "top": null,
            "grid_column": null,
            "overflow_y": null,
            "overflow_x": null,
            "grid_auto_flow": null,
            "grid_area": null,
            "grid_template_columns": null,
            "flex": null,
            "_model_name": "LayoutModel",
            "justify_items": null,
            "grid_row": null,
            "max_height": null,
            "align_content": null,
            "visibility": null,
            "align_self": null,
            "height": null,
            "min_height": null,
            "padding": null,
            "grid_auto_rows": null,
            "grid_gap": null,
            "max_width": null,
            "order": null,
            "_view_module_version": "1.2.0",
            "grid_template_areas": null,
            "object_position": null,
            "object_fit": null,
            "grid_auto_columns": null,
            "margin": null,
            "display": null,
            "left": null
          }
        }
      }
    },
    "accelerator": "GPU"
  },
  "cells": [
    {
      "cell_type": "markdown",
      "metadata": {
        "id": "view-in-github",
        "colab_type": "text"
      },
      "source": [
        "<a href=\"https://colab.research.google.com/github/Mikaner/reinforcement/blob/main/Studing_transformer.ipynb\" target=\"_parent\"><img src=\"https://colab.research.google.com/assets/colab-badge.svg\" alt=\"Open In Colab\"/></a>"
      ]
    },
    {
      "cell_type": "markdown",
      "metadata": {
        "id": "XjYSUe1cNMo2"
      },
      "source": [
        "# 言語理解のためのTransformerモデル\n",
        "ここを参照しました。\n",
        "https://www.tensorflow.org/tutorials/text/transformer?hl=ja\n"
      ]
    },
    {
      "cell_type": "code",
      "metadata": {
        "colab": {
          "base_uri": "https://localhost:8080/"
        },
        "id": "5w_z9XrCodHh",
        "outputId": "4ac5cc67-c7c1-4036-b77e-61c0943947e6"
      },
      "source": [
        "!pip install -q tf-nightly\n",
        "import tensorflow_datasets as tfds\n",
        "import tensorflow as tf\n",
        "\n",
        "import time\n",
        "import numpy as np\n",
        "import matplotlib.pyplot as plt"
      ],
      "execution_count": 1,
      "outputs": [
        {
          "output_type": "stream",
          "name": "stdout",
          "text": [
            "\u001b[K     |████████████████████████████████| 492.5 MB 4.2 kB/s \n",
            "\u001b[K     |████████████████████████████████| 13.4 MB 245 kB/s \n",
            "\u001b[K     |████████████████████████████████| 462 kB 44.2 MB/s \n",
            "\u001b[K     |████████████████████████████████| 1.4 MB 38.6 MB/s \n",
            "\u001b[K     |████████████████████████████████| 5.8 MB 41.0 MB/s \n",
            "\u001b[K     |████████████████████████████████| 2.1 MB 40.5 MB/s \n",
            "\u001b[?25h"
          ]
        }
      ]
    },
    {
      "cell_type": "markdown",
      "metadata": {
        "id": "cRAOAhaHIiz9"
      },
      "source": [
        "### データセットのダウンロード"
      ]
    },
    {
      "cell_type": "code",
      "metadata": {
        "colab": {
          "base_uri": "https://localhost:8080/",
          "height": 393,
          "referenced_widgets": [
            "df58a4900fc54b57994f1cb606eaf340",
            "879ec34beb3047f583d5459cc00d7afd",
            "c84e654844f344a4bb59aa47f7f918e5",
            "eb211aac1e294f649bc2cb1d1c1194c2",
            "038d93e518fe4fce87978c9f500759f9",
            "d365ea8338064726a56e2d177181c4cb",
            "212345e29a3c48ff933ae7dcd999ef3e",
            "32ff5dc76f1d42abb717b83328a44f06",
            "984cfa151d9c4a64930909546f0c644a",
            "ded90d334c9d4a79958d797c445ce1f9",
            "11ee46d826ac4ce1b269d7d52333901d",
            "e6a7cf8072f14d0fa3b1b2ea7e69e7ae",
            "64909e2aa29e4e0596e45013c6d48f57",
            "dc4f3ff1318d4baba28b3dc761e98221",
            "a8fab5adbebc451e9c727d6d0cd234e7",
            "fa4d40c22a834ac891a3c61e0a64bcb2",
            "19859be6be174e989e7e56837aa56bd3",
            "2e6a5ab73757481d8962b452d12b169c",
            "94f8db3e2f374afe8502398f03b76d03",
            "52c8f941c66744ad81885daa70a0d87f",
            "f2e79475dbcc482392bf53ed9735c099",
            "ba443a0d51bc4c468b84e5806c664ec3",
            "981c90c77105444a815cb91c03a2edda",
            "5595483387b6467ab1499d7338af4c36",
            "4b81528903e0454a827fd7688904a1d0",
            "17d787b2a1f942d2beeb760d247006c2",
            "ca1e493a0d914f0780062e530beea0f8",
            "51a0362bcd84484c99612f706f50159d",
            "677cee559a48494f8db45df8c8a2aab2",
            "a594ed7c3c004c469656a720dde4dd60",
            "aa37ca8efe9148179b7fb17f9d66ac77",
            "1ba22eb755f0471ba4d3c7a9f84da964",
            "41cbacd37cd24982832c564d64f45d4c",
            "aa0200c70021454d8ad3c2d88f2ef084",
            "5c52c30289214aaabc34c5c0b0e6228a",
            "65f78db6467942b08f8cc3d066f534da",
            "f8552bf3b30c4fd5892fed27e0b8e491",
            "588e473be8dd491d84219be4faae686e",
            "7c1713dc9ad549ff8e39f917112b56e3",
            "ee5dd1b6601248649aee423e4b262313",
            "6ac56d9cde3b46009048e337be9d051a",
            "1052221e098e4e799fb1a04ffcde62f3",
            "1552745d23eb41c6a93341cae4ce3466",
            "5696429c8dcf42a88b2bb302d02967a7",
            "3666d29a594344daae1f9d25f45981ab",
            "2653ad302b614b5c9f43b57539072f5f",
            "8bbee9aaaaf04f9f8734856fbff953a4",
            "084da42cc70e4385a1897006e43106f6",
            "bafef86caad64a569d5381de88fcaa6d",
            "0bec03705e8b4b97a00c83a7972c3bfd",
            "58600b2ccc0b46758dd86d3861a66e1c",
            "e708abb729da48d497b8df04e3bad053",
            "a7b9268ada6d484198ecf619024981f0",
            "aab98f29ab9d457e9ba4e8af64d4ef60",
            "bb2f238eaee74291a7b7c3a4e0d558c9",
            "5aed5d4a9a914cd8b0f960d596721091",
            "b5ccd4c7b3b04c34b5ebeb05c24199d0",
            "54e99370b32440428f4b5786e6765399",
            "bafb4458ce3e43bea0d1d39c7bcc77cf",
            "756878f5760940ed8e54da8f379f12a1",
            "5dd0c62f5b5148c0b178580eb0c085cf",
            "e3f18805f3484d4fa8a8a0874bbc1d55",
            "2eba123e931141a3aa9cc698f2f65539",
            "5dc931b33c68482ea7ec5724613a54a1",
            "c9da981fffcd4693bd329c6858cfee35",
            "aadba17a6ede464e9d9473cce81c88bc",
            "4860ba78d1b043779d7619be08c76669",
            "cfa9050921aa4305ad057cafafdbfaed",
            "009c8189c00147a188f23cb46082d02b",
            "18f93411e30a490c953cca0eda5fa8f3",
            "2d65c48932104be3a1d49217dabb07f3",
            "f29c8f06976e4f1687fba90ae3c6174f",
            "53cc0924d4f24189b53262ec19bdea2b",
            "a14fcceb9d284609b9010008a86aa84f",
            "1a392748177543dbb84af6ed84a481a5",
            "863ef0de693b48b5a4777f54534f59f5",
            "f63a3ddacd98456ab37a0f0c8633fd17",
            "b8ce68b0a4454024ab5d566fbf54f559",
            "a03bd418cad846ecbc80823dc9ad7eb5",
            "3163f038fe04463db31b72e3a7d90250",
            "5609a7379b7a485b9066898be590ca42",
            "eb873baec0564a5da6175dbd1800bd14",
            "c0943d450be7420f8fd82f55d541521a",
            "d5b10acebc314528880b07590bce5478",
            "44712ae4498641399dbe8b8ad2f9e977",
            "dc0fe8aa33424ed39b2e909df3f8fdf9",
            "f7db608e912740ba8c55444c83497409",
            "a03ee6956fc1479b9076ee0d2313811d",
            "d4599c34df7840429d4daae992cb6862",
            "f8630a6facd444e48e913ee2970d7511",
            "6789f081e1394b92b4d55e48a3624253",
            "bd872143cb134b278fedc79dbb9045ee",
            "3296d645030f40168ce5b9c679c2b204",
            "a49c4efb383e47c9ab50f98571e0777f",
            "1c05b6d342d443a39f74ff89e8f6d471",
            "1790c93be4b1432b9080bc8937d17aeb",
            "bf411a23c65b4206a8fdf62ab990ddc7",
            "8a4fd225e4254204a908fd626aa41dbe",
            "a2d0e2e9477048be95379a0221c6e519"
          ]
        },
        "id": "faoxbkUHovN1",
        "outputId": "23178c98-4e96-4e07-8aa7-dba1d3223e60"
      },
      "source": [
        "examples, metadata = tfds.load('ted_hrlr_translate/pt_to_en', with_info=True, as_supervised=True)\n",
        "train_examples, val_examples = examples['train'], examples['validation']"
      ],
      "execution_count": 2,
      "outputs": [
        {
          "output_type": "stream",
          "name": "stdout",
          "text": [
            "\u001b[1mDownloading and preparing dataset ted_hrlr_translate/pt_to_en/1.0.0 (download: 124.94 MiB, generated: Unknown size, total: 124.94 MiB) to /root/tensorflow_datasets/ted_hrlr_translate/pt_to_en/1.0.0...\u001b[0m\n"
          ]
        },
        {
          "output_type": "display_data",
          "data": {
            "application/vnd.jupyter.widget-view+json": {
              "model_id": "df58a4900fc54b57994f1cb606eaf340",
              "version_minor": 0,
              "version_major": 2
            },
            "text/plain": [
              "Dl Completed...: 0 url [00:00, ? url/s]"
            ]
          },
          "metadata": {}
        },
        {
          "output_type": "display_data",
          "data": {
            "application/vnd.jupyter.widget-view+json": {
              "model_id": "e6a7cf8072f14d0fa3b1b2ea7e69e7ae",
              "version_minor": 0,
              "version_major": 2
            },
            "text/plain": [
              "Dl Size...: 0 MiB [00:00, ? MiB/s]"
            ]
          },
          "metadata": {}
        },
        {
          "output_type": "display_data",
          "data": {
            "application/vnd.jupyter.widget-view+json": {
              "model_id": "981c90c77105444a815cb91c03a2edda",
              "version_minor": 0,
              "version_major": 2
            },
            "text/plain": [
              "Extraction completed...: 0 file [00:00, ? file/s]"
            ]
          },
          "metadata": {}
        },
        {
          "output_type": "stream",
          "name": "stdout",
          "text": [
            "\n",
            "\n",
            "\n"
          ]
        },
        {
          "output_type": "display_data",
          "data": {
            "application/vnd.jupyter.widget-view+json": {
              "model_id": "aa0200c70021454d8ad3c2d88f2ef084",
              "version_minor": 0,
              "version_major": 2
            },
            "text/plain": [
              "0 examples [00:00, ? examples/s]"
            ]
          },
          "metadata": {}
        },
        {
          "output_type": "stream",
          "name": "stdout",
          "text": [
            "Shuffling and writing examples to /root/tensorflow_datasets/ted_hrlr_translate/pt_to_en/1.0.0.incompleteY47LH5/ted_hrlr_translate-train.tfrecord\n"
          ]
        },
        {
          "output_type": "display_data",
          "data": {
            "application/vnd.jupyter.widget-view+json": {
              "model_id": "3666d29a594344daae1f9d25f45981ab",
              "version_minor": 0,
              "version_major": 2
            },
            "text/plain": [
              "  0%|          | 0/51785 [00:00<?, ? examples/s]"
            ]
          },
          "metadata": {}
        },
        {
          "output_type": "display_data",
          "data": {
            "application/vnd.jupyter.widget-view+json": {
              "model_id": "5aed5d4a9a914cd8b0f960d596721091",
              "version_minor": 0,
              "version_major": 2
            },
            "text/plain": [
              "0 examples [00:00, ? examples/s]"
            ]
          },
          "metadata": {}
        },
        {
          "output_type": "stream",
          "name": "stdout",
          "text": [
            "Shuffling and writing examples to /root/tensorflow_datasets/ted_hrlr_translate/pt_to_en/1.0.0.incompleteY47LH5/ted_hrlr_translate-validation.tfrecord\n"
          ]
        },
        {
          "output_type": "display_data",
          "data": {
            "application/vnd.jupyter.widget-view+json": {
              "model_id": "4860ba78d1b043779d7619be08c76669",
              "version_minor": 0,
              "version_major": 2
            },
            "text/plain": [
              "  0%|          | 0/1193 [00:00<?, ? examples/s]"
            ]
          },
          "metadata": {}
        },
        {
          "output_type": "display_data",
          "data": {
            "application/vnd.jupyter.widget-view+json": {
              "model_id": "b8ce68b0a4454024ab5d566fbf54f559",
              "version_minor": 0,
              "version_major": 2
            },
            "text/plain": [
              "0 examples [00:00, ? examples/s]"
            ]
          },
          "metadata": {}
        },
        {
          "output_type": "stream",
          "name": "stdout",
          "text": [
            "Shuffling and writing examples to /root/tensorflow_datasets/ted_hrlr_translate/pt_to_en/1.0.0.incompleteY47LH5/ted_hrlr_translate-test.tfrecord\n"
          ]
        },
        {
          "output_type": "display_data",
          "data": {
            "application/vnd.jupyter.widget-view+json": {
              "model_id": "d4599c34df7840429d4daae992cb6862",
              "version_minor": 0,
              "version_major": 2
            },
            "text/plain": [
              "  0%|          | 0/1803 [00:00<?, ? examples/s]"
            ]
          },
          "metadata": {}
        },
        {
          "output_type": "stream",
          "name": "stdout",
          "text": [
            "\u001b[1mDataset ted_hrlr_translate downloaded and prepared to /root/tensorflow_datasets/ted_hrlr_translate/pt_to_en/1.0.0. Subsequent calls will reuse this data.\u001b[0m\n"
          ]
        }
      ]
    },
    {
      "cell_type": "code",
      "metadata": {
        "id": "9zA2qWHEwhLe"
      },
      "source": [
        "tokenizer_en = tfds.deprecated.text.SubwordTextEncoder.build_from_corpus(\n",
        "    (en.numpy() for pt, en in train_examples), target_vocab_size=2**13)\n",
        "\n",
        "tokenizer_pt = tfds.deprecated.text.SubwordTextEncoder.build_from_corpus(\n",
        "    (pt.numpy() for pt, en in train_examples), target_vocab_size=2**13)"
      ],
      "execution_count": 3,
      "outputs": []
    },
    {
      "cell_type": "code",
      "metadata": {
        "colab": {
          "base_uri": "https://localhost:8080/"
        },
        "id": "AZtOyoEs5NAv",
        "outputId": "4b9bfa50-fde7-4c40-a55f-ca3071d6e3a8"
      },
      "source": [
        "sample_string = 'Transformer is awesome.'\n",
        "\n",
        "tokenized_string = tokenizer_en.encode(sample_string)\n",
        "print('Tokenized string is {}'.format(tokenized_string))\n",
        "\n",
        "original_string = tokenizer_en.decode(tokenized_string)\n",
        "print('The original string: {}'.format(original_string))\n",
        "\n",
        "assert original_string == sample_string"
      ],
      "execution_count": 4,
      "outputs": [
        {
          "output_type": "stream",
          "name": "stdout",
          "text": [
            "Tokenized string is [7915, 1248, 7946, 7194, 13, 2799, 7877]\n",
            "The original string: Transformer is awesome.\n"
          ]
        }
      ]
    },
    {
      "cell_type": "code",
      "metadata": {
        "colab": {
          "base_uri": "https://localhost:8080/"
        },
        "id": "sPtk9nL9Drdu",
        "outputId": "90c9d8e9-d19b-4573-ff8b-cc9566290a30"
      },
      "source": [
        "for ts in tokenized_string:\n",
        "    print( '{} ----> {}'.format(ts, tokenizer_en.decode([ts])))"
      ],
      "execution_count": 5,
      "outputs": [
        {
          "output_type": "stream",
          "name": "stdout",
          "text": [
            "7915 ----> T\n",
            "1248 ----> ran\n",
            "7946 ----> s\n",
            "7194 ----> former \n",
            "13 ----> is \n",
            "2799 ----> awesome\n",
            "7877 ----> .\n"
          ]
        }
      ]
    },
    {
      "cell_type": "code",
      "metadata": {
        "id": "IPF6b6npD0D9"
      },
      "source": [
        "BUFFER_SIZE = 20000\n",
        "BATCH_SIZE = 64"
      ],
      "execution_count": 6,
      "outputs": []
    },
    {
      "cell_type": "code",
      "metadata": {
        "id": "LcmuyKXSD5ad"
      },
      "source": [
        "def encode(lang1, lang2):\n",
        "    lang1 = [tokenizer_pt.vocab_size] + tokenizer_pt.encode(\n",
        "        lang1.numpy()) + [tokenizer_pt.vocab_size+1]\n",
        "    \n",
        "    lang2 = [tokenizer_en.vocab_size] + tokenizer_en.encode(\n",
        "        lang2.numpy()) + [tokenizer_en.vocab_size+1]\n",
        "\n",
        "    return lang1, lang2"
      ],
      "execution_count": 7,
      "outputs": []
    },
    {
      "cell_type": "code",
      "metadata": {
        "id": "XcJKkDjfEjkd"
      },
      "source": [
        "def tf_encode(pt, en):\n",
        "    result_pt, result_en = tf.py_function(encode, [pt, en], [tf.int64, tf.int64])\n",
        "    result_pt.set_shape([None])\n",
        "    result_en.set_shape([None])\n",
        "\n",
        "    return result_pt, result_en"
      ],
      "execution_count": 8,
      "outputs": []
    },
    {
      "cell_type": "markdown",
      "metadata": {
        "id": "eLGTESd0FLjD"
      },
      "source": [
        "Note: サンプルを小さく、より速くするため、長さが40トークンを超えるサンプルを削除する。"
      ]
    },
    {
      "cell_type": "code",
      "metadata": {
        "id": "ZhS5_Yn5E7Y8"
      },
      "source": [
        "MAX_LENGTH = 40"
      ],
      "execution_count": 9,
      "outputs": []
    },
    {
      "cell_type": "code",
      "metadata": {
        "id": "m9YDwgiqE_ML"
      },
      "source": [
        "def filter_max_length(x, y, max_length=MAX_LENGTH):\n",
        "    return tf.logical_and(tf.size(x) <= max_length,\n",
        "                          tf.size(y) <= max_length)"
      ],
      "execution_count": 10,
      "outputs": []
    },
    {
      "cell_type": "code",
      "metadata": {
        "id": "OQFCmid7FZRs"
      },
      "source": [
        "train_preprocessed = (\n",
        "    train_examples\n",
        "    .map(tf_encode)\n",
        "    .filter(filter_max_length)\n",
        "    # 読み取り時のスピードアップのため、データセットをメモリ上にキャッシュする\n",
        "    .cache()\n",
        "    .shuffle(BUFFER_SIZE)\n",
        ")\n",
        "\n",
        "val_preprocessed = (\n",
        "    val_examples\n",
        "    .map(tf_encode)\n",
        "    .filter(filter_max_length)\n",
        ")"
      ],
      "execution_count": 11,
      "outputs": []
    },
    {
      "cell_type": "code",
      "metadata": {
        "id": "gRADRrobFytL"
      },
      "source": [
        "train_dataset = (train_preprocessed\n",
        "                 .padded_batch(BATCH_SIZE, padded_shapes=([None], [None]))\n",
        "                 .prefetch(tf.data.experimental.AUTOTUNE)\n",
        "                 )\n",
        "\n",
        "val_dataset = (val_preprocessed\n",
        "               .padded_batch(BATCH_SIZE, padded_shapes=([None], [None]))\n",
        "               )"
      ],
      "execution_count": 12,
      "outputs": []
    },
    {
      "cell_type": "code",
      "metadata": {
        "colab": {
          "base_uri": "https://localhost:8080/"
        },
        "id": "Nlhs6h04Gvz6",
        "outputId": "441ac29d-f1d1-441c-9334-00066afb5db2"
      },
      "source": [
        "pt_batch, en_batch = next(iter(val_dataset))\n",
        "pt_batch, en_batch"
      ],
      "execution_count": 13,
      "outputs": [
        {
          "output_type": "execute_result",
          "data": {
            "text/plain": [
              "(<tf.Tensor: shape=(64, 38), dtype=int64, numpy=\n",
              " array([[8214,  342, 3032, ...,    0,    0,    0],\n",
              "        [8214,   95,  198, ...,    0,    0,    0],\n",
              "        [8214, 4479, 7990, ...,    0,    0,    0],\n",
              "        ...,\n",
              "        [8214,  584,   12, ...,    0,    0,    0],\n",
              "        [8214,   59, 1548, ...,    0,    0,    0],\n",
              "        [8214,  118,   34, ...,    0,    0,    0]])>,\n",
              " <tf.Tensor: shape=(64, 40), dtype=int64, numpy=\n",
              " array([[8087,   98,   25, ...,    0,    0,    0],\n",
              "        [8087,   12,   20, ...,    0,    0,    0],\n",
              "        [8087,   12, 5453, ...,    0,    0,    0],\n",
              "        ...,\n",
              "        [8087,   18, 2059, ...,    0,    0,    0],\n",
              "        [8087,   16, 1436, ...,    0,    0,    0],\n",
              "        [8087,   15,   57, ...,    0,    0,    0]])>)"
            ]
          },
          "metadata": {},
          "execution_count": 13
        }
      ]
    },
    {
      "cell_type": "markdown",
      "metadata": {
        "id": "DKRkMDbGIc1G"
      },
      "source": [
        "### 位置エンコーディング\n",
        "![image.png](data:image/png;base64,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)"
      ]
    },
    {
      "cell_type": "code",
      "metadata": {
        "id": "Z7DJWSIGG2jI"
      },
      "source": [
        "def get_angles(pos, i, d_model):\n",
        "    angle_rates = 1 / np.power(10000, (2 * (i//2)) / np.float32(d_model))\n",
        "    return pos * angle_rates"
      ],
      "execution_count": 14,
      "outputs": []
    },
    {
      "cell_type": "code",
      "metadata": {
        "id": "uRvMyajEI9v7"
      },
      "source": [
        "def positional_encoding(position, d_model):\n",
        "    angle_rads = get_angles(np.arange(position)[:, np.newaxis],\n",
        "                            np.arange(d_model)[np.newaxis, :],\n",
        "                            d_model)\n",
        "    \n",
        "    # 配列中の偶数インデックスにはsinを適用; 2i\n",
        "    angle_rads[:, 0::2] = np.sin(angle_rads[:, 0::2])\n",
        "\n",
        "    # 配列中の奇数インデックスにはcosを適用; 2i+1\n",
        "    angle_rads[:, 1::2] = np.cos(angle_rads[:, 1::2])\n",
        "\n",
        "    pos_encoding = angle_rads[np.newaxis, ...]\n",
        "\n",
        "    return tf.cast(pos_encoding, dtype=tf.float32)"
      ],
      "execution_count": 15,
      "outputs": []
    },
    {
      "cell_type": "code",
      "metadata": {
        "colab": {
          "base_uri": "https://localhost:8080/",
          "height": 300
        },
        "id": "cJBKF1rjMVxx",
        "outputId": "d98e6218-7089-4f3c-a31b-2c496761b135"
      },
      "source": [
        "pos_encoding = positional_encoding(50, 512)\n",
        "print(pos_encoding.shape)\n",
        "\n",
        "plt.pcolormesh(pos_encoding[0], cmap='RdBu')\n",
        "plt.xlabel('Depth')\n",
        "plt.xlim((0, 512))\n",
        "plt.ylabel('Position')\n",
        "plt.colorbar()\n",
        "plt.show()"
      ],
      "execution_count": 16,
      "outputs": [
        {
          "output_type": "stream",
          "name": "stdout",
          "text": [
            "(1, 50, 512)\n"
          ]
        },
        {
          "output_type": "display_data",
          "data": {
            "image/png": "[encoded data removed]",
            "text/plain": [
              "<Figure size 432x288 with 2 Axes>"
            ]
          },
          "metadata": {
            "needs_background": "light"
          }
        }
      ]
    },
    {
      "cell_type": "markdown",
      "metadata": {
        "id": "K-2eC6-CNI4H"
      },
      "source": [
        "↑　なにこれ ← テストじゃね？"
      ]
    },
    {
      "cell_type": "markdown",
      "metadata": {
        "id": "YnW3u2ZhNs3l"
      },
      "source": [
        "### マスキング\n",
        "パディングされたトークンをマスクする。\n",
        "これによってパディング(補正された空白のトークン)を入力として扱わないようにする。\n",
        "\n",
        "マスクはパディング値0の存在を示す。\n",
        "→0の場所で1を出力する"
      ]
    },
    {
      "cell_type": "code",
      "metadata": {
        "id": "q4K6lrEmMp4P"
      },
      "source": [
        "def create_padding_mask(seq):\n",
        "    seq = tf.cast(tf.math.equal(seq, 0), tf.float32)\n",
        "\n",
        "    # アテンション・路地っとにパディングを追加するため\n",
        "    # さらに時限を追加する。\n",
        "    return seq[:, tf.newaxis, tf.newaxis, :] # (batch_size, 1, 1, seq_len)"
      ],
      "execution_count": 17,
      "outputs": []
    },
    {
      "cell_type": "code",
      "metadata": {
        "colab": {
          "base_uri": "https://localhost:8080/"
        },
        "id": "j7CHKJ_XOokN",
        "outputId": "97486f89-14d3-4a48-b65e-101d136cc75c"
      },
      "source": [
        "x = tf.constant([[7, 6, 0, 0, 1], [1, 2, 3, 0, 0], [0, 0, 0, 4, 5]])\n",
        "create_padding_mask(x)"
      ],
      "execution_count": 18,
      "outputs": [
        {
          "output_type": "execute_result",
          "data": {
            "text/plain": [
              "<tf.Tensor: shape=(3, 1, 1, 5), dtype=float32, numpy=\n",
              "array([[[[0., 0., 1., 1., 0.]]],\n",
              "\n",
              "\n",
              "       [[[0., 0., 0., 1., 1.]]],\n",
              "\n",
              "\n",
              "       [[[1., 1., 1., 0., 0.]]]], dtype=float32)>"
            ]
          },
          "metadata": {},
          "execution_count": 18
        }
      ]
    },
    {
      "cell_type": "markdown",
      "metadata": {
        "id": "ryw37fq3Umbb"
      },
      "source": [
        "シーケンス中の未来のトークンをマスクするため、 ルックアヘッド・マスクが使われている。<br>\n",
        "→このマスクはどのエントリーを使うべきではないかを示している。\n",
        "\n",
        "\n",
        "以下のコードは3番目の単語を予測するために、1つ目と2つ目の単語だけが使われるということを意味している。\n",
        "同じように、4つ目の単語を予測するには、1,2,3つ目の単語だけが使用され、次も同様となる。\n"
      ]
    },
    {
      "cell_type": "code",
      "metadata": {
        "id": "g_SC_gNNUfj4"
      },
      "source": [
        "def create_look_ahead_mask(size):\n",
        "    mask = 1 - tf.linalg.band_part(tf.ones((size, size)), -1, 0)\n",
        "    return mask # (seq_len, seq_len)"
      ],
      "execution_count": 19,
      "outputs": []
    },
    {
      "cell_type": "code",
      "metadata": {
        "colab": {
          "base_uri": "https://localhost:8080/"
        },
        "id": "0tdZEZIMVwZH",
        "outputId": "92327d49-fcd5-4c89-ab05-a290145b9a60"
      },
      "source": [
        "x = tf.random.uniform((1, 3))\n",
        "temp = create_look_ahead_mask(x.shape[1])\n",
        "temp"
      ],
      "execution_count": 20,
      "outputs": [
        {
          "output_type": "execute_result",
          "data": {
            "text/plain": [
              "<tf.Tensor: shape=(3, 3), dtype=float32, numpy=\n",
              "array([[0., 1., 1.],\n",
              "       [0., 0., 1.],\n",
              "       [0., 0., 0.]], dtype=float32)>"
            ]
          },
          "metadata": {},
          "execution_count": 20
        }
      ]
    },
    {
      "cell_type": "markdown",
      "metadata": {
        "id": "TKFjSu4QWp9f"
      },
      "source": [
        "### スケール済み内積アテンション\n",
        "<img src=\"https://www.tensorflow.org/images/tutorials/transformer/scaled_attention.png?hl=ja\" width=\"500\" alt=\"scaled_dot_product_attention\">\n",
        "\n",
        "アテンション関数の入力 Q(query), K(key), V(value)の重み計算は以下。\n",
        "\n",
        "![image.png](data:image/png;base64,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)\n",
        "\n",
        "内積アテンションは深度の平方根をファクターとしてスケールされている。\n",
        "これは、深度が大きくなると、内積が非常に大きくなり、ソフトマックスにて小さな値しか返さなくなってしまうため。"
      ]
    },
    {
      "cell_type": "code",
      "metadata": {
        "id": "k7YzGkS3V7OQ"
      },
      "source": [
        "def scaled_dot_product_attention(q, k, v, mask):\n",
        "    \"\"\"アテンションの重みの計算\n",
        "    q, k, vは最初の次元が一致していること\n",
        "    k, vは最後から2番目の次元が一致していること\n",
        "    マスクは型(パディングかルックアヘッドか)によって異なるshapeを持つが、\n",
        "    加算の際にブロードキャスト可能であること\n",
        "    引数:\n",
        "       q: query shape == (..., seq_len_q, depth)\n",
        "       k: key shape == (..., seq_len_k, depth)\n",
        "       v: value shape == (..., seq_len_v, depth_v)\n",
        "       mask: (..., seq_len_q, seq_len_k)にブロードキャスト可能な\n",
        "             shapeを持つ浮動小数点テンソル。規定値はNone\n",
        "    \n",
        "    戻り値:\n",
        "       出力、アテンションの重み\n",
        "    \"\"\"\n",
        "    # 行列積の計算\n",
        "    matmul_qk = tf.matmul(q, k, transpose_b=True) # (..., seq_len_q, seq_len_k)\n",
        "\n",
        "    # matmul_qkをスケール\n",
        "    dk = tf.cast(tf.shape(k)[-1], tf.float32)\n",
        "    scaled_attention_logits = matmul_qk / tf.math.sqrt(dk)\n",
        "\n",
        "    # マスクをスケール済みテンソルに加算\n",
        "    if mask is not None:\n",
        "        scaled_attention_logits += (mask * -1e9)\n",
        "\n",
        "    # softmax は最後の軸(seq_len_k)について\n",
        "    # 合計が1となるように正規化\n",
        "    attention_weights = tf.nn.softmax(scaled_attention_logits, axis=-1) # (..., seq_len_q, seq_len_k)\n",
        "\n",
        "    output = tf.matmul(attention_weights, v) # (..., seq_len_q, depth_v)\n",
        "\n",
        "    return output, attention_weights"
      ],
      "execution_count": 21,
      "outputs": []
    },
    {
      "cell_type": "markdown",
      "metadata": {
        "id": "xPoep84G0cIF"
      },
      "source": [
        "ソフトマックス正規化がKに対して行われるため、その値がQに割り当てる重要度を決めることになる。\n",
        "\n",
        "出力はアテンションの重みとV(value)ベクトルの積を表している。\n",
        "これにより、注目したい単語がそのまま残され、それ以外の単語は破棄される。"
      ]
    },
    {
      "cell_type": "markdown",
      "metadata": {
        "id": "AnDUSfSh1TrD"
      },
      "source": [
        "以下はテスト用のコード"
      ]
    },
    {
      "cell_type": "code",
      "metadata": {
        "id": "djVEfIhm0J9T"
      },
      "source": [
        "def print_out(q, k, v):\n",
        "    temp_out, temp_attn = scaled_dot_product_attention(\n",
        "        q, k, v, None\n",
        "    )\n",
        "    print('Attention weights are:')\n",
        "    print(temp_attn)\n",
        "    print('Output is:')\n",
        "    print(temp_out)"
      ],
      "execution_count": 22,
      "outputs": []
    },
    {
      "cell_type": "code",
      "metadata": {
        "colab": {
          "base_uri": "https://localhost:8080/"
        },
        "id": "H9HR921i87EW",
        "outputId": "83567eb4-8673-46ef-880f-4da16adcb5bf"
      },
      "source": [
        "np.set_printoptions(suppress=True)\n",
        "\n",
        "temp_k = tf.constant([[10,0,0],\n",
        "                      [0,10,0],\n",
        "                      [0,0,10],\n",
        "                      [0,0,10]], dtype=tf.float32) # (4, 3)\n",
        "\n",
        "temp_v = tf.constant([[   1,0],\n",
        "                      [  10,0],\n",
        "                      [ 100,5],\n",
        "                      [1000,6]], dtype=tf.float32) # (4, 2)\n",
        "\n",
        "# この`query`は2番目の`key`に割り付けられているので\n",
        "# 2番目の`value`が返される\n",
        "temp_q = tf.constant([[0, 10, 0]], dtype=tf.float32) # (1, 3)\n",
        "print_out(temp_q, temp_k, temp_v)"
      ],
      "execution_count": 23,
      "outputs": [
        {
          "output_type": "stream",
          "name": "stdout",
          "text": [
            "Attention weights are:\n",
            "tf.Tensor([[0. 1. 0. 0.]], shape=(1, 4), dtype=float32)\n",
            "Output is:\n",
            "tf.Tensor([[10.  0.]], shape=(1, 2), dtype=float32)\n"
          ]
        }
      ]
    },
    {
      "cell_type": "code",
      "metadata": {
        "colab": {
          "base_uri": "https://localhost:8080/"
        },
        "id": "pnnoQVLgO8tA",
        "outputId": "132fecb8-ed50-4069-c295-0439c8cf0df4"
      },
      "source": [
        "# このクエリは(3番目と 4番目の)繰り返しキーに割り付けられるので\n",
        "# 関連したすべての値が平均される\n",
        "temp_q = tf.constant([[0, 0, 10]], dtype=tf.float32) # (1, 3)\n",
        "print_out(temp_q, temp_k, temp_v)"
      ],
      "execution_count": 24,
      "outputs": [
        {
          "output_type": "stream",
          "name": "stdout",
          "text": [
            "Attention weights are:\n",
            "tf.Tensor([[0.  0.  0.5 0.5]], shape=(1, 4), dtype=float32)\n",
            "Output is:\n",
            "tf.Tensor([[550.    5.5]], shape=(1, 2), dtype=float32)\n"
          ]
        }
      ]
    },
    {
      "cell_type": "code",
      "metadata": {
        "id": "Ic0dVT4T5KKM",
        "colab": {
          "base_uri": "https://localhost:8080/"
        },
        "outputId": "f3398aa7-8e3b-4064-9da3-276fe01b63d6"
      },
      "source": [
        "# このクエリは最初と2番目のキーに等しく割り付けられるので\n",
        "# それらの値が平均される\n",
        "temp_q = tf.constant([[10, 10, 0]], dtype=tf.float32) # (1, 3)\n",
        "print_out(temp_q, temp_k, temp_v)"
      ],
      "execution_count": 25,
      "outputs": [
        {
          "output_type": "stream",
          "name": "stdout",
          "text": [
            "Attention weights are:\n",
            "tf.Tensor([[0.5 0.5 0.  0. ]], shape=(1, 4), dtype=float32)\n",
            "Output is:\n",
            "tf.Tensor([[5.5 0. ]], shape=(1, 2), dtype=float32)\n"
          ]
        }
      ]
    },
    {
      "cell_type": "code",
      "metadata": {
        "colab": {
          "base_uri": "https://localhost:8080/"
        },
        "id": "0vg20vEnsoUc",
        "outputId": "8e9d0394-c1e5-4508-c52e-e5f079a6755a"
      },
      "source": [
        "temp_q = tf.constant([[0, 0, 10], [0, 10, 0], [10, 10, 0]], dtype=tf.float32) # (3, 3)\n",
        "print_out(temp_q, temp_k, temp_v)"
      ],
      "execution_count": 26,
      "outputs": [
        {
          "output_type": "stream",
          "name": "stdout",
          "text": [
            "Attention weights are:\n",
            "tf.Tensor(\n",
            "[[0.  0.  0.5 0.5]\n",
            " [0.  1.  0.  0. ]\n",
            " [0.5 0.5 0.  0. ]], shape=(3, 4), dtype=float32)\n",
            "Output is:\n",
            "tf.Tensor(\n",
            "[[550.    5.5]\n",
            " [ 10.    0. ]\n",
            " [  5.5   0. ]], shape=(3, 2), dtype=float32)\n"
          ]
        }
      ]
    },
    {
      "cell_type": "markdown",
      "metadata": {
        "id": "EEZw0M3L5FQl"
      },
      "source": [
        "## マルチヘッド・アテンション\n",
        "\n",
        "\n",
        "\n",
        "![image.png](data:image/png;base64,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)\n",
        "\n",
        "マルチヘッドアテンションは4つのパートから成り立つ。\n",
        "- 線形レイヤーとマルチヘッドへの分割\n",
        "- スケール済み内積アテンション\n",
        "- マルチヘッドの結合\n",
        "- 最終線形レイヤー\n",
        "\n",
        "各マルチヘッドアテンションブロックは3つの入力を取り、その入力は線形レイヤーを通されマルチヘッドに分割される。\n",
        "\n",
        "`scaled_dot_product_attention`は各ヘッドに適用される。\n",
        "アテンションステップにおいて適切なマスクを使用する必要がある。その後、各ヘッドのアテンション出力は結合され、最後のDenseレイヤに通される。\n",
        "\n",
        "Q,K,Vは複数のヘッドに分割される。それによってモデルが異なる表現空間の異なる位置の情報について、連携してアテンションを計算できるからである。\n",
        "分割後の各ヘッドの次元を小さくすることで全体の計算コストをすべての次元を持つ単一のアテンションヘッドを用いた場合と同一に出来る。"
      ]
    },
    {
      "cell_type": "code",
      "metadata": {
        "id": "U-wWt_5aPNcH"
      },
      "source": [
        "class MultiHeadAttention(tf.keras.layers.Layer):\n",
        "    def __init__(self, d_model, num_heads):\n",
        "        super(MultiHeadAttention, self).__init__()\n",
        "        self.num_heads = num_heads\n",
        "        self.d_model = d_model\n",
        "\n",
        "        assert d_model % self.num_heads == 0\n",
        "\n",
        "        self.depth = d_model // self.num_heads # なにこれ←なんか次元を小さくして計算コストを単一アテンションヘッドと同じにするらしい\n",
        "\n",
        "        self.wq = tf.keras.layers.Dense(d_model)\n",
        "        self.wk = tf.keras.layers.Dense(d_model)\n",
        "        self.wv = tf.keras.layers.Dense(d_model)\n",
        "\n",
        "        self.dense = tf.keras.layers.Dense(d_model)\n",
        "\n",
        "    def split_heads(self, x, batch_size):\n",
        "        \"\"\"最後の次元を(num_heads, depth)に分割。\n",
        "        結果をshapeが(batch_size, num_heads, seq_len, depth)となるようにリシェイプする。\n",
        "        \"\"\"\n",
        "        x = tf.reshape(x, (batch_size, -1, self.num_heads, self.depth))\n",
        "        return tf.transpose(x, perm=[0, 2, 1, 3])\n",
        "\n",
        "    def call(self, v, k, q, mask):\n",
        "        batch_size = tf.shape(q)[0]\n",
        "\n",
        "        q = self.wq(q) # (batch_size, seq_len, d_model)\n",
        "        k = self.wk(k) # (batch_size, seq_len, d_model)\n",
        "        v = self.wv(v) # (batch_size, seq_len, d_model)\n",
        "\n",
        "        q = self.split_heads(q, batch_size) #(batch_size, num_heads, seq_len_q, depth)\n",
        "        k = self.split_heads(k, batch_size) #(batch_size, num_heads, seq_len_k, depth)\n",
        "        v = self.split_heads(v, batch_size) #(batch_size, num_heads, seq_len_v, depth)\n",
        "\n",
        "        # scaled_attention.shape == (batch_size, num_heads, seq_len_q, depth)\n",
        "        # attention_weights.shape == (batch_size, num_heads, seq_len_q, seq_len_k)\n",
        "        scaled_attention, attention_weights = scaled_dot_product_attention(q, k, v, mask)\n",
        "\n",
        "        scaled_attention = tf.transpose(scaled_attention, perm=[0, 2, 1, 3]) # (batch_size, seq_len_q, num_heads, depth)\n",
        "\n",
        "        concat_attention = tf.reshape(scaled_attention, (batch_size, -1, self.d_model)) # (batch_size, seq_len_q, d_model)\n",
        "\n",
        "        output = self.dense(concat_attention) # (batch_size, seq_len_q, d_model)\n",
        "\n",
        "        return output, attention_weights"
      ],
      "execution_count": 27,
      "outputs": []
    },
    {
      "cell_type": "markdown",
      "metadata": {
        "id": "8TnicoenzN-w"
      },
      "source": [
        "試しに、MultiHeadAttentionレイヤーを作成してみる"
      ]
    },
    {
      "cell_type": "code",
      "metadata": {
        "id": "dWOYB0MJzNOg",
        "colab": {
          "base_uri": "https://localhost:8080/"
        },
        "outputId": "44ca6260-b2b3-4aba-99d1-d339f734fc6d"
      },
      "source": [
        "temp_mha = MultiHeadAttention(d_model=512, num_heads=8) # d_modelは次元空間の数、num_headsはマルチヘッドアテンションブロックの数\n",
        "y = tf.random.uniform((1, 60, 512))\n",
        "out, attn = temp_mha(y, k=y, q=y, mask=None)\n",
        "out.shape, attn.shape"
      ],
      "execution_count": 28,
      "outputs": [
        {
          "output_type": "execute_result",
          "data": {
            "text/plain": [
              "(TensorShape([1, 60, 512]), TensorShape([1, 8, 60, 60]))"
            ]
          },
          "metadata": {},
          "execution_count": 28
        }
      ]
    },
    {
      "cell_type": "markdown",
      "metadata": {
        "id": "tp7yFd3OMQyW"
      },
      "source": [
        "理解したこととしては、maskは以降の入力を受け付けないやつとして実装しており、マルチヘッドアテンションは次元ごとの計算を並列化するために割って計算しているということですね。"
      ]
    },
    {
      "cell_type": "code",
      "metadata": {
        "id": "S2cN82fXyWU1",
        "colab": {
          "base_uri": "https://localhost:8080/"
        },
        "outputId": "a560a292-58a8-450a-a588-61ce5ca0bc2f"
      },
      "source": [
        "tf.random.uniform((1, 60, 512))"
      ],
      "execution_count": 29,
      "outputs": [
        {
          "output_type": "execute_result",
          "data": {
            "text/plain": [
              "<tf.Tensor: shape=(1, 60, 512), dtype=float32, numpy=\n",
              "array([[[0.89145386, 0.81333244, 0.66143405, ..., 0.15749383,\n",
              "         0.54480875, 0.7294127 ],\n",
              "        [0.9748727 , 0.00158668, 0.5551493 , ..., 0.93676853,\n",
              "         0.17662525, 0.01743126],\n",
              "        [0.7846925 , 0.16055298, 0.2777202 , ..., 0.7916522 ,\n",
              "         0.13092029, 0.82550514],\n",
              "        ...,\n",
              "        [0.7203617 , 0.9201963 , 0.57871115, ..., 0.22885704,\n",
              "         0.5530802 , 0.76985395],\n",
              "        [0.7527387 , 0.98042953, 0.6142144 , ..., 0.15305424,\n",
              "         0.41976392, 0.36675215],\n",
              "        [0.7541748 , 0.73156404, 0.9842938 , ..., 0.94160485,\n",
              "         0.7824197 , 0.08479333]]], dtype=float32)>"
            ]
          },
          "metadata": {},
          "execution_count": 29
        }
      ]
    },
    {
      "cell_type": "markdown",
      "metadata": {
        "id": "RF_jIXcOMye8"
      },
      "source": [
        "## ポイントワイズのフィードフォワード・ネットワーク\n",
        "\n",
        "ポイントワイズのフィードフォワードネットワークは2つの全結合層とそれをつなぐReLU活性化層からなる。\n",
        "\n",
        "ポイントワイズって何？"
      ]
    },
    {
      "cell_type": "code",
      "metadata": {
        "id": "cwu4D6rTMPH2"
      },
      "source": [
        "def point_wise_feed_forward_network(d_model, dff):\n",
        "    return tf.keras.Sequential([\n",
        "                                tf.keras.layers.Dense(dff, activation='relu'), # (batch_size, seq_len, diff)\n",
        "                                tf.keras.layers.Dense(d_model) # (batch_size, seq_len, d_model)\n",
        "    ])"
      ],
      "execution_count": 30,
      "outputs": []
    },
    {
      "cell_type": "code",
      "metadata": {
        "colab": {
          "base_uri": "https://localhost:8080/"
        },
        "id": "VppKq1KdNMS1",
        "outputId": "a9e6784d-1114-48ca-c6d6-d5c70bcd7fc5"
      },
      "source": [
        "sample_ffn = point_wise_feed_forward_network(512, 2048)\n",
        "sample_ffn(tf.random.uniform((64, 50, 512))).shape"
      ],
      "execution_count": 31,
      "outputs": [
        {
          "output_type": "execute_result",
          "data": {
            "text/plain": [
              "TensorShape([64, 50, 512])"
            ]
          },
          "metadata": {},
          "execution_count": 31
        }
      ]
    },
    {
      "cell_type": "markdown",
      "metadata": {
        "id": "UYnRVmgrNiNM"
      },
      "source": [
        "これやってること2層のネットワーク作ってるだけだよね？\n",
        "ReLU→全結合層って感じに"
      ]
    },
    {
      "cell_type": "markdown",
      "metadata": {
        "id": "JXkvCxX0NvN8"
      },
      "source": [
        "## エンコーダーとデコーダー\n",
        "\n",
        "<img src=\"https://www.tensorflow.org/images/tutorials/transformer/transformer.png?hl=ja\" width=\"600\" alt=\"transformer\">\n",
        "\n",
        "Transformerモデルは標準のアテンション付きシーケンストゥーシーケンスモデルと同じ一般的なパターンを踏襲する。\n",
        "\n",
        "- 入力の文は、N層のエンコーダーレイヤーを通り、シーケンス中の単語/トークンごとに出力を生成する。\n",
        "- デコーダーは、エンコーダーの出力と自分自身の入力（セルフアテンション）に注目し、次の単語を予測する。\n",
        "\n",
        "### エンコーダーレイヤー\n",
        "それぞれのエンコーダーレイヤーは次のようなサブレイヤーからなっている\n",
        "1. マルチヘッドアテンション (パディング・マスク付き）\n",
        "2. ポイントワイズフィードフォワードネットワーク\n",
        "\n",
        "サブレイヤーにはそれぞれ残差接続[?]があり、その後にレイヤー正規化が続く。残差接続は深いネットワークでの勾配消失問題を回避するのに役立つ。\n",
        "\n",
        "それぞれのサブレイヤーの出力は`LayerNorm(x + Sublayer(x))`である。[このxが残差接続？]\n",
        "正規化は（最後の）`d_model`軸に対して行われる。\n",
        "TransformerにはN層のエンコーダーがある。"
      ]
    },
    {
      "cell_type": "code",
      "metadata": {
        "id": "TGm3-eLmNZCv"
      },
      "source": [
        "class EncoderLayer(tf.keras.layers.Layer):\n",
        "    def __init__(self, d_model, num_heads, dff, rate=0.1):\n",
        "        super(EncoderLayer, self).__init__()\n",
        "\n",
        "        self.mha = MultiHeadAttention(d_model, num_heads)\n",
        "        self.ffn = point_wise_feed_forward_network(d_model, dff)\n",
        "\n",
        "        self.layernorm1 = tf.keras.layers.LayerNormalization(epsilon=1e-6)\n",
        "        self.layernorm2 = tf.keras.layers.LayerNormalization(epsilon=1e-6)\n",
        "\n",
        "        self.dropout1 = tf.keras.layers.Dropout(rate)\n",
        "        self.dropout2 = tf.keras.layers.Dropout(rate)\n",
        "\n",
        "    def call(self, x, training, mask):\n",
        "        \n",
        "        attn_output, _ = self.mha(x, x, x, mask) # (batch_size, input_seq_len, d_model)\n",
        "        attn_output = self.dropout1(attn_output, training=training)\n",
        "        out1 = self.layernorm1(x + attn_output) # (batch_size, input_seq_len, d_model)\n",
        "\n",
        "        ffn_output = self.ffn(out1) # (batch_size, input_seq_len, d_model)\n",
        "        ffn_output = self.dropout2(ffn_output, training=training)\n",
        "        out2 = self.layernorm2(out1 + ffn_output) # (batch_size, input_seq_len, d_model)\n",
        "\n",
        "        return out2"
      ],
      "execution_count": 32,
      "outputs": []
    },
    {
      "cell_type": "code",
      "metadata": {
        "colab": {
          "base_uri": "https://localhost:8080/"
        },
        "id": "TyTTlM2MqL_t",
        "outputId": "5f002309-fe5d-404c-ce77-2d5546b2084d"
      },
      "source": [
        "sample_encoder_layer = EncoderLayer(512, 8, 2048)\n",
        "\n",
        "sample_encoder_layer_output = sample_encoder_layer(\n",
        "    tf.random.uniform((64, 43, 512)), False, None\n",
        ")\n",
        "\n",
        "sample_encoder_layer_output.shape # (batch_size, input_seq_len, d_model)"
      ],
      "execution_count": 33,
      "outputs": [
        {
          "output_type": "execute_result",
          "data": {
            "text/plain": [
              "TensorShape([64, 43, 512])"
            ]
          },
          "metadata": {},
          "execution_count": 33
        }
      ]
    },
    {
      "cell_type": "markdown",
      "metadata": {
        "id": "h-VoHv3YqjeV"
      },
      "source": [
        "### デコーダーレイヤー\n",
        "各デコーダーレイヤーは次のようなサブレイヤーからなる\n",
        "\n",
        "1. マスク付きマルチヘッドアテンション（ルックアヘッド・マスクおよびパディングマスク付き）\n",
        "2. （パディングマスク付き）マルチヘッドアテンション。<br>V(value)とK(key)はエンコーダの出力を入力として受け取る。Q(query)はマスク付きマルチヘッドアテンションサブレイヤーの出力を受け取る\n",
        "3. ポイントワイズ・フィードフォワード・ネットワーク\n",
        "\n",
        "各サブレイヤーは残差接続を持ち、その後にレイヤー正規化が続く。\n",
        "各サブレイヤーの出力は`LayerNorm(x + Sublayer(x))`である。\n",
        "正規化は、（最後の）`d_model`軸に沿って行われる。\n",
        "\n",
        "TransformerにはN層のデコーダー・レイヤーが存在する。\n",
        "\n",
        "Qがデコーダーの最初のアテンションブロックの出力を受け取り、Kがエンコーダーの出力を受け取るとき、アテンションの重みはデコーダーの入力の、エンコーダーの出力に対する重要度を表す。\n",
        "言い換えると、デコーダーはエンコーダーの出力と自分自身の出力のセルフアテンションを見て、次の単語を予測する。\n",
        "\n",
        "上記のスケール済み内積アテンションのセクションのデモを参照。\n"
      ]
    },
    {
      "cell_type": "code",
      "metadata": {
        "id": "Jq9mEieesLVD"
      },
      "source": [
        "class DecoderLayer(tf.keras.layers.Layer):\n",
        "    def __init__(self, d_model, num_heads, dff, rate=0.1):\n",
        "        super(DecoderLayer, self).__init__()\n",
        "\n",
        "        self.mha1 = MultiHeadAttention(d_model, num_heads)\n",
        "        self.mha2 = MultiHeadAttention(d_model, num_heads)\n",
        "\n",
        "        self.ffn = point_wise_feed_forward_network(d_model, dff)\n",
        "\n",
        "        self.layernorm1 = tf.keras.layers.LayerNormalization(epsilon=1e-6)\n",
        "        self.layernorm2 = tf.keras.layers.LayerNormalization(epsilon=1e-6)\n",
        "        self.layernorm3 = tf.keras.layers.LayerNormalization(epsilon=1e-6)\n",
        "\n",
        "        self.dropout1 = tf.keras.layers.Dropout(rate)\n",
        "        self.dropout2 = tf.keras.layers.Dropout(rate)\n",
        "        self.dropout3 = tf.keras.layers.Dropout(rate)\n",
        "\n",
        "    def call(self, x, enc_output, training, look_ahead_mask, padding_mask):\n",
        "        # enc_output.shape == (batch_size, input_seq_len, d_model)\n",
        "\n",
        "        attn1, attn_weights_block1 = self.mha1(x, x, x, look_ahead_mask) # (batch_size, target_seq_len, d_model)\n",
        "        attn1 = self.dropout1(attn1, training=training)\n",
        "        out1 = self.layernorm1(attn1 + x)\n",
        "\n",
        "        attn2, attn_weights_block2 = self.mha2(\n",
        "            enc_output, enc_output, out1, padding_mask\n",
        "        ) # (batch_size, target_seq_len, d_model)\n",
        "        attn2 = self.dropout2(attn2, training=training)\n",
        "        out2 = self.layernorm2(attn2 + out1)\n",
        "\n",
        "        ffn_output = self.ffn(out2)\n",
        "        ffn_output = self.dropout3(ffn_output, training=training)\n",
        "        out3 = self.layernorm3(ffn_output + out2)\n",
        "\n",
        "        return out3, attn_weights_block1, attn_weights_block2\n"
      ],
      "execution_count": 34,
      "outputs": []
    },
    {
      "cell_type": "code",
      "metadata": {
        "colab": {
          "base_uri": "https://localhost:8080/"
        },
        "id": "LbvSt-VOuS4x",
        "outputId": "a79bc1d9-3ebc-4379-8a7a-f0e874651c43"
      },
      "source": [
        "sample_decoder_layer = DecoderLayer(512, 8, 2048)\n",
        "\n",
        "sample_decoder_layer_output, _, _ = sample_decoder_layer(\n",
        "    tf.random.uniform((64, 50, 512)), sample_encoder_layer_output,\n",
        "    False, None, None\n",
        ")\n",
        "\n",
        "sample_decoder_layer_output.shape # (batch_size, target_seq_len, d_model)"
      ],
      "execution_count": 35,
      "outputs": [
        {
          "output_type": "execute_result",
          "data": {
            "text/plain": [
              "TensorShape([64, 50, 512])"
            ]
          },
          "metadata": {},
          "execution_count": 35
        }
      ]
    },
    {
      "cell_type": "markdown",
      "metadata": {
        "id": "TYo-abqOvnaA"
      },
      "source": [
        "### エンコーダー\n",
        "`Encoder`は次のものからできている\n",
        "1. 入力の埋め込み\n",
        "2. 位置エンコーディング\n",
        "3. N層のエンコーダーレイヤー\n",
        "\n",
        "入力は埋め込み層を通り、位置エンコーディングと合算される。\n",
        "この加算の出力がエンコーダーレイヤーの入力である。\n",
        "エンコーダーの出力はデコーダーの入力になる。"
      ]
    },
    {
      "cell_type": "code",
      "metadata": {
        "id": "rIjIBJ8pvWth"
      },
      "source": [
        "class Encoder(tf.keras.layers.Layer):\n",
        "    def __init__(self, num_layers, d_model, num_heads, dff, input_vocab_size,\n",
        "                 maximum_position_encoding, rate=0.1):\n",
        "        super(Encoder, self).__init__()\n",
        "\n",
        "        self.d_model = d_model\n",
        "        self.num_layers = num_layers\n",
        "\n",
        "        self.embedding = tf.keras.layers.Embedding(input_vocab_size, d_model)\n",
        "        self.pos_encoding = positional_encoding(maximum_position_encoding,\n",
        "                                                self.d_model)\n",
        "        \n",
        "        self.enc_layers = [EncoderLayer(d_model, num_heads, dff, rate) for _ in range(num_layers)]\n",
        "\n",
        "        self.dropout = tf.keras.layers.Dropout(rate)\n",
        "\n",
        "    def call(self, x, training, mask):\n",
        "        seq_len = tf.shape(x)[1]\n",
        "\n",
        "        # 埋め込みと位置エンコーディングを合算\n",
        "        x = self.embedding(x)\n",
        "        x *= tf.math.sqrt(tf.cast(self.d_model, tf.float32))\n",
        "        x += self.pos_encoding[:, :seq_len, :]\n",
        "\n",
        "        x = self.dropout(x, training=training)\n",
        "\n",
        "        for i in range(self.num_layers):\n",
        "            x = self.enc_layers[i](x, training, mask)\n",
        "\n",
        "        return x # (batch_size, input_seq_len, d_model)\n"
      ],
      "execution_count": 36,
      "outputs": []
    },
    {
      "cell_type": "code",
      "metadata": {
        "colab": {
          "base_uri": "https://localhost:8080/"
        },
        "id": "YICdYL-YxWzN",
        "outputId": "a98325fa-ec7d-47bc-a559-4bb085958f32"
      },
      "source": [
        "sample_encoder = Encoder(num_layers=2, d_model=512, num_heads=8,\n",
        "                         dff=2048, input_vocab_size=8500,\n",
        "                         maximum_position_encoding=10000)\n",
        "temp_input = tf.random.uniform((64, 62), dtype=tf.int64, minval=0, maxval=200)\n",
        "\n",
        "sample_encoder_output = sample_encoder(temp_input, training=False, mask=None)\n",
        "\n",
        "print(sample_encoder_output.shape) # (batch_size, input_seq_len, d_model)"
      ],
      "execution_count": 37,
      "outputs": [
        {
          "output_type": "stream",
          "name": "stdout",
          "text": [
            "(64, 62, 512)\n"
          ]
        }
      ]
    },
    {
      "cell_type": "markdown",
      "metadata": {
        "id": "m0YYPbX7x8mW"
      },
      "source": [
        "### デコーダー\n",
        "`Decoder`は次のものからできている\n",
        "1. 出力埋め込み\n",
        "2. 位置エンコーディング\n",
        "3. N層のデコーダーレイヤー\n",
        "\n",
        "ターゲットは埋め込みを通り、位置エンコーディングと加算される。\n",
        "この加算の出力がデコーダーの入力になる。\n",
        "デコーダーの出力は、最後の線形レイヤーの入力となる。"
      ]
    },
    {
      "cell_type": "code",
      "metadata": {
        "id": "5pmlwv7ByZT8"
      },
      "source": [
        "class Decoder(tf.keras.layers.Layer):\n",
        "    def __init__(self, num_layers, d_model, num_heads, dff, target_vocab_size,\n",
        "                 maximum_position_encoding, rate=0.1):\n",
        "        super(Decoder, self).__init__()\n",
        "\n",
        "        self.d_model = d_model\n",
        "        self.num_layers = num_layers\n",
        "\n",
        "        self.embedding = tf.keras.layers.Embedding(target_vocab_size, d_model)\n",
        "        self.pos_encoding = positional_encoding(maximum_position_encoding, d_model)\n",
        "\n",
        "        self.dec_layers = [DecoderLayer(d_model, num_heads, dff, rate)\n",
        "                           for _ in range(num_layers)]\n",
        "        self.dropout = tf.keras.layers.Dropout(rate)\n",
        "\n",
        "    def call(self, x, enc_output, training,\n",
        "             look_ahead_mask, padding_mask):\n",
        "        seq_len = tf.shape(x)[1]\n",
        "        attention_weights = {}\n",
        "\n",
        "        x = self.embedding(x) # (batch_size, target_seq_len, d_model)\n",
        "        x *= tf.math.sqrt(tf.cast(self.d_model, tf.float32))\n",
        "        x += self.pos_encoding[:, :seq_len, :]\n",
        "\n",
        "        x = self.dropout(x, training=training)\n",
        "\n",
        "        for i in range(self.num_layers):\n",
        "            x, block1, block2 = self.dec_layers[i](x, enc_output, training,\n",
        "                                                   look_ahead_mask, padding_mask)\n",
        "            \n",
        "            attention_weights['decoder_layer{}_block1'.format(i+1)] = block1 # 重要度(self-attentionの値)を記録\n",
        "            attention_weights['decoder_layer{}_block2'.format(i+1)] = block2\n",
        "        \n",
        "        # x.shape == (batch_size, target_seq_len, d_model)\n",
        "        return x, attention_weights"
      ],
      "execution_count": 38,
      "outputs": []
    },
    {
      "cell_type": "code",
      "metadata": {
        "colab": {
          "base_uri": "https://localhost:8080/"
        },
        "id": "okOKmVD709xa",
        "outputId": "0caaece0-07fb-42ea-cf92-707e94915bf8"
      },
      "source": [
        "sample_decoder = Decoder(num_layers=2, d_model=512, num_heads=8,\n",
        "                         dff=2048, target_vocab_size=8000,\n",
        "                         maximum_position_encoding=5000)\n",
        "temp_input = tf.random.uniform((64, 26), dtype=tf.int64, minval=0, maxval=200)\n",
        "\n",
        "output, attn = sample_decoder(temp_input, \n",
        "                              enc_output=sample_encoder_output,\n",
        "                              training=False,\n",
        "                              look_ahead_mask=None,\n",
        "                              padding_mask=None)\n",
        "\n",
        "output.shape, attn['decoder_layer2_block2'].shape"
      ],
      "execution_count": 39,
      "outputs": [
        {
          "output_type": "execute_result",
          "data": {
            "text/plain": [
              "(TensorShape([64, 26, 512]), TensorShape([64, 8, 26, 62]))"
            ]
          },
          "metadata": {},
          "execution_count": 39
        }
      ]
    },
    {
      "cell_type": "markdown",
      "metadata": {
        "id": "xo2sRPPa1_2B"
      },
      "source": [
        "## Transformerの作成\n",
        "\n",
        "Transformerは、エンコーダー、デコーダーと、最後の線形レイヤーからなる。\n",
        "\n",
        "デコーダーの出力は、線形レイヤーの入力であり、その出力が返される。"
      ]
    },
    {
      "cell_type": "code",
      "metadata": {
        "id": "SqNtBahZ1x45"
      },
      "source": [
        "class Transformer(tf.keras.Model):\n",
        "    def __init__(self, num_layers, d_model, num_heads, dff, input_vocab_size,\n",
        "                 target_vocab_size, pe_input, pe_target, rate=0.1):\n",
        "        super(Transformer, self).__init__()\n",
        "\n",
        "        self.encoder = Encoder(num_layers, d_model, num_heads, dff,\n",
        "                               input_vocab_size, pe_input, rate)\n",
        "        \n",
        "        self.decoder = Decoder(num_layers, d_model, num_heads, dff,\n",
        "                               target_vocab_size, pe_target, rate)\n",
        "        \n",
        "        self.final_layer = tf.keras.layers.Dense(target_vocab_size)\n",
        "\n",
        "    def call(self, inp, tar, training, enc_padding_mask,\n",
        "             look_ahead_mask, dec_padding_mask):\n",
        "        enc_output = self.encoder(inp, training, enc_padding_mask) # (batch_size, inp_seq_len, d_model)\n",
        "\n",
        "        # dec_output.shape == (batch_size, tar_seq_len, d_model)\n",
        "        dec_output, attention_weights = self.decoder(\n",
        "            tar, enc_output, training, look_ahead_mask, dec_padding_mask)\n",
        "        \n",
        "        final_output = self.final_layer(dec_output) # (batch_size, tar_seq_len, target_vocab_size)\n",
        "        return final_output, attention_weights"
      ],
      "execution_count": 40,
      "outputs": []
    },
    {
      "cell_type": "code",
      "metadata": {
        "colab": {
          "base_uri": "https://localhost:8080/"
        },
        "id": "TMtDzl0M3z_m",
        "outputId": "6975a97d-7c75-44f9-8f8b-2b1890e32b15"
      },
      "source": [
        "sample_transformer = Transformer(\n",
        "    num_layers=2, d_model=512, num_heads=8, dff=2048,\n",
        "    input_vocab_size=8500, target_vocab_size=8000,\n",
        "    pe_input=10000, pe_target=6000)\n",
        "\n",
        "temp_input = tf.random.uniform((64, 38), dtype=tf.int64, minval=0, maxval=200)\n",
        "temp_target = tf.random.uniform((64, 36), dtype=tf.int64, minval=0, maxval=200)\n",
        "\n",
        "fn_out, _ = sample_transformer(temp_input, temp_target, training=False,\n",
        "                               enc_padding_mask=None,\n",
        "                               look_ahead_mask=None,\n",
        "                               dec_padding_mask=None)\n",
        "\n",
        "fn_out.shape # (batch_size, tar_seq_len, target_vocab_size)"
      ],
      "execution_count": 41,
      "outputs": [
        {
          "output_type": "execute_result",
          "data": {
            "text/plain": [
              "TensorShape([64, 36, 8000])"
            ]
          },
          "metadata": {},
          "execution_count": 41
        }
      ]
    },
    {
      "cell_type": "markdown",
      "metadata": {
        "id": "MNtPOrBP41Vv"
      },
      "source": [
        "## ハイパーパラメーターの設定\n",
        "Transformerのベースモデルで使われている値は*num_layers=6, d_model = 512, dff = 2048*である。\n",
        "\n",
        "今回は比較的高速にするため、それぞれの値を小さく設定する。"
      ]
    },
    {
      "cell_type": "code",
      "metadata": {
        "id": "jklnAK-z4lBm"
      },
      "source": [
        "num_layers = 4\n",
        "d_model = 128\n",
        "dff = 512\n",
        "num_heads = 8\n",
        "\n",
        "input_vocab_size = tokenizer_pt.vocab_size + 2\n",
        "target_vocab_size = tokenizer_en.vocab_size + 2\n",
        "dropout_rate = 0.1"
      ],
      "execution_count": 42,
      "outputs": []
    },
    {
      "cell_type": "markdown",
      "metadata": {
        "id": "SVz2NCja5iao"
      },
      "source": [
        "## オプティマイザー\n",
        "\n",
        "論文中の式に従い、カスタムの学習率スケジューラーを持った、Adamオプティマイザーを使用する。\n",
        "\n",
        "![image.png](data:image/png;base64,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)"
      ]
    },
    {
      "cell_type": "code",
      "metadata": {
        "id": "Bp06M7lV5hxv"
      },
      "source": [
        "class CustomSchedule(tf.keras.optimizers.schedules.LearningRateSchedule):\n",
        "    def __init__(self, d_model, warmup_steps=4000):\n",
        "        super(CustomSchedule, self).__init__()\n",
        "\n",
        "        self.d_model = d_model\n",
        "        self.d_model = tf.cast(self.d_model, tf.float32)\n",
        "\n",
        "        self.warmup_steps = warmup_steps\n",
        "    \n",
        "    def __call__(self, step):\n",
        "        arg1 = tf.math.rsqrt(step)\n",
        "        arg2 = step * (self.warmup_steps ** -1.5)\n",
        "\n",
        "        return tf.math.rsqrt(self.d_model) * tf.math.minimum(arg1, arg2)"
      ],
      "execution_count": 43,
      "outputs": []
    },
    {
      "cell_type": "code",
      "metadata": {
        "id": "VmtyNgYG7v8S"
      },
      "source": [
        "learning_rate = CustomSchedule(d_model)\n",
        "\n",
        "optimizer = tf.keras.optimizers.Adam(learning_rate, beta_1=0.9, beta_2=0.98,\n",
        "                                     epsilon=1e-9)"
      ],
      "execution_count": 44,
      "outputs": []
    },
    {
      "cell_type": "code",
      "metadata": {
        "colab": {
          "base_uri": "https://localhost:8080/",
          "height": 296
        },
        "id": "mTR_xF7F8BA9",
        "outputId": "db97b211-a140-4e97-b82e-17602482dbcc"
      },
      "source": [
        "temp_learning_rate_schedule = CustomSchedule(d_model)\n",
        "\n",
        "plt.plot(temp_learning_rate_schedule(tf.range(40000, dtype=tf.float32)))\n",
        "plt.ylabel('Learning Rate')\n",
        "plt.xlabel('Train Step')"
      ],
      "execution_count": 45,
      "outputs": [
        {
          "output_type": "execute_result",
          "data": {
            "text/plain": [
              "Text(0.5, 0, 'Train Step')"
            ]
          },
          "metadata": {},
          "execution_count": 45
        },
        {
          "output_type": "display_data",
          "data": {
            "image/png": "[encoded data removed]",
            "text/plain": [
              "<Figure size 432x288 with 1 Axes>"
            ]
          },
          "metadata": {
            "needs_background": "light"
          }
        }
      ]
    },
    {
      "cell_type": "markdown",
      "metadata": {
        "id": "R8tU4QKH8XFa"
      },
      "source": [
        "## 損失とメトリクス\n",
        "\n",
        "ターゲットシーケンスはパディングされているため、損失を計算する際にパディングマスクを適用することが重要である。"
      ]
    },
    {
      "cell_type": "code",
      "metadata": {
        "id": "7Fcoo2998RwN"
      },
      "source": [
        "loss_object = tf.keras.losses.SparseCategoricalCrossentropy(\n",
        "    from_logits=True, reduction='none')"
      ],
      "execution_count": 46,
      "outputs": []
    },
    {
      "cell_type": "code",
      "metadata": {
        "id": "9UX8YaUy8vSb"
      },
      "source": [
        "def loss_function(real, pred):\n",
        "    mask = tf.math.logical_not(tf.math.equal(real, 0))\n",
        "    loss_ = loss_object(real, pred)\n",
        "\n",
        "    mask = tf.cast(mask, dtype=loss_.dtype)\n",
        "    loss_ *= mask\n",
        "\n",
        "    return tf.reduce_mean(loss_)"
      ],
      "execution_count": 47,
      "outputs": []
    },
    {
      "cell_type": "code",
      "metadata": {
        "id": "vd0Pvx0e9HIb"
      },
      "source": [
        "train_loss = tf.keras.metrics.Mean(name='train_loss')\n",
        "train_accuracy = tf.keras.metrics.SparseCategoricalAccuracy(\n",
        "    name='train_accuracy'\n",
        ")"
      ],
      "execution_count": 48,
      "outputs": []
    },
    {
      "cell_type": "markdown",
      "metadata": {
        "id": "6L-7-zGW9Yjx"
      },
      "source": [
        "## 訓練とチェックポイント生成"
      ]
    },
    {
      "cell_type": "code",
      "metadata": {
        "id": "Lkuq6KsV9LV7"
      },
      "source": [
        "transformer = Transformer(num_layers, d_model, num_heads, dff,\n",
        "                          input_vocab_size, target_vocab_size,\n",
        "                          pe_input=input_vocab_size,\n",
        "                          pe_target=target_vocab_size,\n",
        "                          rate=dropout_rate)"
      ],
      "execution_count": 49,
      "outputs": []
    },
    {
      "cell_type": "code",
      "metadata": {
        "id": "d_FlGYAm9sFw"
      },
      "source": [
        "def create_masks(inp, tar):\n",
        "    # Encoderパディングマスク\n",
        "    enc_padding_mask = create_padding_mask(inp)\n",
        "\n",
        "    # デコーダーの2つ目のアテンションブロックで使用\n",
        "    # このパディングマスクはエンコーダーの出力をマスクするのに使用\n",
        "    dec_padding_mask = create_padding_mask(inp)\n",
        "\n",
        "    # デコーダーの1つ円のアテンションブロックで使用\n",
        "    # デコーダーが受け取った入力のパディングと将来のトークンをマスクするのに使用\n",
        "    look_ahead_mask = create_look_ahead_mask(tf.shape(tar)[1])\n",
        "    dec_target_padding_mask = create_padding_mask(tar)\n",
        "    combined_mask = tf.maximum(dec_target_padding_mask, look_ahead_mask)\n",
        "\n",
        "    return enc_padding_mask, combined_mask, dec_padding_mask"
      ],
      "execution_count": 50,
      "outputs": []
    },
    {
      "cell_type": "markdown",
      "metadata": {
        "id": "rAar6x2q-xYA"
      },
      "source": [
        "チェックポイントのパスとチェックポイント・マネージャーを作成する。\n",
        "これは、nエポックごとにチェックポイントを保存するのに使用される。"
      ]
    },
    {
      "cell_type": "code",
      "metadata": {
        "id": "9blaOjTN-p5_"
      },
      "source": [
        "checkpoint_path = \"./checkpoints/train\"\n",
        "\n",
        "ckpt = tf.train.Checkpoint(transformer=transformer,\n",
        "                           optimizer=optimizer)\n",
        "\n",
        "ckpt_manager = tf.train.CheckpointManager(ckpt, checkpoint_path, max_to_keep=5)\n",
        "\n",
        "# チェックポイントが存在したら、最後のチェックポイントを復元\n",
        "if ckpt_manager.latest_checkpoint:\n",
        "    ckpt.restore(ckpt_manager.latest_checkpoint)\n",
        "    print('Latest checkpoint restored!!')"
      ],
      "execution_count": 51,
      "outputs": []
    },
    {
      "cell_type": "markdown",
      "metadata": {
        "id": "Ze9rpHzy_ejv"
      },
      "source": [
        "ターゲットは、tar_inpとtar_realに分けられる。\n",
        "\n",
        "tar_inpはデコーダーの入力として渡される。\n",
        "tar_realは同じ入力を1つシフトしたものである。\n",
        "tar_inputの位置のそれぞれで、tar_realは予測されるべき次のトークンを含んでいる。\n",
        "\n",
        "例えば、`sentence` = \"SOS A lion in the jungle is sleeping EOS\"だとすると、次のようになる\n",
        "`tar_inp` = \"SOS A lion in the jungle is sleeping\"\n",
        "`tar_real` = \"A lion in the jungle is sleeping EOS\"\n",
        "\n",
        "Transformerは自己回帰モデルなので、1回に1か所の予測を行い、その出力を次に何をすべきかの判断に使用する。\n",
        "\n",
        "訓練時にこのサンプルはテキスト生成チュートリアルのようにティーチャーフォーシングを使用する。\n",
        "ティーチャーフォーシングとは、その時点においてモデルが何を予測したかに関わらず、秦の出力を次のステップに渡すというもの。\n",
        "\n",
        "Transformerが単語を予測するたびに、セルフアテンションのおかげで次の単語を予測するために入力シーケンスの過去の単語を参照することができる。\n",
        "\n",
        "モデルが期待される出力を盗み見ることがないように、ルックアヘッドマスクを使用する。"
      ]
    },
    {
      "cell_type": "code",
      "metadata": {
        "id": "v3xn5waL_bme"
      },
      "source": [
        "EPOCHS = 20"
      ],
      "execution_count": 52,
      "outputs": []
    },
    {
      "cell_type": "code",
      "metadata": {
        "id": "vDoiFg7fAwwZ"
      },
      "source": [
        "# @tf.functionは高速に実行するためにtrain_stepをTFグラフにトレースコンパイルする。\n",
        "# この関数は引数となるテンソルのshapeに特化したもの。\n",
        "# シーケンスの長さや（最後のばちが小さくなるなど）バッチサイズが可変となることによって\n",
        "# 再トレーシングが起きないようにするため、input_signatureを使って、より一般的なshapeを\n",
        "# 指定する。\n",
        "\n",
        "# ...？\n",
        "\n",
        "train_step_signature = [\n",
        "                        tf.TensorSpec(shape=(None, None), dtype=tf.int64),\n",
        "                        tf.TensorSpec(shape=(None, None), dtype=tf.int64)\n",
        "]\n",
        "\n",
        "@tf.function(input_signature=train_step_signature)\n",
        "def train_step(inp, tar):\n",
        "    tar_inp = tar[:, :-1]\n",
        "    tar_real = tar[:, 1:]\n",
        "\n",
        "    enc_padding_mask, combined_mask, dec_padding_mask = create_masks(inp, tar_inp)\n",
        "\n",
        "    with tf.GradientTape() as tape: # ようわからんけど多分この辺でティーチャーフォーシングをやってると思う\n",
        "        predictions, _ = transformer(inp, tar_inp,\n",
        "                                     True,\n",
        "                                     enc_padding_mask,\n",
        "                                     combined_mask,\n",
        "                                     dec_padding_mask)\n",
        "        loss = loss_function(tar_real, predictions)\n",
        "\n",
        "    gradients = tape.gradient(loss, transformer.trainable_variables)\n",
        "    optimizer.apply_gradients(zip(gradients, transformer.trainable_variables))\n",
        "\n",
        "    train_loss(loss)\n",
        "    train_accuracy(tar_real, predictions)"
      ],
      "execution_count": 53,
      "outputs": []
    },
    {
      "cell_type": "markdown",
      "metadata": {
        "id": "OOkLXfQ5DnjK"
      },
      "source": [
        "ポルトガル語を入力言語とし、英語をターゲット言語とする。"
      ]
    },
    {
      "cell_type": "code",
      "metadata": {
        "colab": {
          "base_uri": "https://localhost:8080/"
        },
        "id": "4eEXfXTeCNT8",
        "outputId": "94702a21-f3de-47bc-c41f-59e90ed22f53"
      },
      "source": [
        "for epoch in range(EPOCHS):\n",
        "    start = time.time()\n",
        "\n",
        "    train_loss.reset_states()\n",
        "    train_accuracy.reset_states()\n",
        "\n",
        "    # inp -> portuguese, tar -> english\n",
        "    for (batch, (inp, tar)) in enumerate(train_dataset):\n",
        "        train_step(inp, tar)\n",
        "\n",
        "        if batch % 50 == 0:\n",
        "            print('Epoch {} Batch {} Loss {:.4f} Accuracy {:.4f}'.format(\n",
        "                epoch + 1, batch, train_loss.result(), train_accuracy.result()))\n",
        "            \n",
        "    if (epoch + 1) % 5 == 0:\n",
        "        ckpt_save_path = ckpt_manager.save()\n",
        "        print('Saving checkpoint for epoch {} at {}'.format(epoch+1,\n",
        "                                                            ckpt_save_path))\n",
        "    print('Epoch {} Loss {:.4f} Accuracy {:.4f}'.format(epoch + 1,\n",
        "                                                        train_loss.result(),\n",
        "                                                        train_accuracy.result()))\n",
        "    \n",
        "    print('Time taken for 1 epoch: {} secs\\n'.format(time.time()-start))"
      ],
      "execution_count": 54,
      "outputs": [
        {
          "output_type": "stream",
          "name": "stdout",
          "text": [
            "Epoch 1 Batch 0 Loss 4.0602 Accuracy 0.0000\n",
            "Epoch 1 Batch 50 Loss 4.2143 Accuracy 0.0016\n",
            "Epoch 1 Batch 100 Loss 4.1705 Accuracy 0.0124\n",
            "Epoch 1 Batch 150 Loss 4.1275 Accuracy 0.0164\n",
            "Epoch 1 Batch 200 Loss 4.0766 Accuracy 0.0182\n",
            "Epoch 1 Batch 250 Loss 4.0087 Accuracy 0.0194\n",
            "Epoch 1 Batch 300 Loss 3.9246 Accuracy 0.0230\n",
            "Epoch 1 Batch 350 Loss 3.8347 Accuracy 0.0267\n",
            "Epoch 1 Batch 400 Loss 3.7542 Accuracy 0.0297\n",
            "Epoch 1 Batch 450 Loss 3.6726 Accuracy 0.0326\n",
            "Epoch 1 Batch 500 Loss 3.6072 Accuracy 0.0357\n",
            "Epoch 1 Batch 550 Loss 3.5469 Accuracy 0.0388\n",
            "Epoch 1 Batch 600 Loss 3.4927 Accuracy 0.0423\n",
            "Epoch 1 Batch 650 Loss 3.4371 Accuracy 0.0458\n",
            "Epoch 1 Batch 700 Loss 3.3817 Accuracy 0.0492\n",
            "Epoch 1 Loss 3.3794 Accuracy 0.0493\n",
            "Time taken for 1 epoch: 183.2257616519928 secs\n",
            "\n",
            "Epoch 2 Batch 0 Loss 2.7840 Accuracy 0.1035\n",
            "Epoch 2 Batch 50 Loss 2.5986 Accuracy 0.0981\n",
            "Epoch 2 Batch 100 Loss 2.5784 Accuracy 0.1025\n",
            "Epoch 2 Batch 150 Loss 2.5465 Accuracy 0.1055\n",
            "Epoch 2 Batch 200 Loss 2.5278 Accuracy 0.1082\n",
            "Epoch 2 Batch 250 Loss 2.5067 Accuracy 0.1104\n",
            "Epoch 2 Batch 300 Loss 2.4891 Accuracy 0.1124\n",
            "Epoch 2 Batch 350 Loss 2.4699 Accuracy 0.1142\n",
            "Epoch 2 Batch 400 Loss 2.4530 Accuracy 0.1157\n",
            "Epoch 2 Batch 450 Loss 2.4387 Accuracy 0.1174\n",
            "Epoch 2 Batch 500 Loss 2.4275 Accuracy 0.1192\n",
            "Epoch 2 Batch 550 Loss 2.4098 Accuracy 0.1206\n",
            "Epoch 2 Batch 600 Loss 2.3971 Accuracy 0.1221\n",
            "Epoch 2 Batch 650 Loss 2.3853 Accuracy 0.1234\n",
            "Epoch 2 Batch 700 Loss 2.3714 Accuracy 0.1246\n",
            "Epoch 2 Loss 2.3713 Accuracy 0.1246\n",
            "Time taken for 1 epoch: 92.7875645160675 secs\n",
            "\n",
            "Epoch 3 Batch 0 Loss 2.1779 Accuracy 0.1283\n",
            "Epoch 3 Batch 50 Loss 2.1861 Accuracy 0.1437\n",
            "Epoch 3 Batch 100 Loss 2.1711 Accuracy 0.1445\n",
            "Epoch 3 Batch 150 Loss 2.1716 Accuracy 0.1449\n",
            "Epoch 3 Batch 200 Loss 2.1534 Accuracy 0.1454\n",
            "Epoch 3 Batch 250 Loss 2.1526 Accuracy 0.1461\n",
            "Epoch 3 Batch 300 Loss 2.1508 Accuracy 0.1468\n",
            "Epoch 3 Batch 350 Loss 2.1482 Accuracy 0.1472\n",
            "Epoch 3 Batch 400 Loss 2.1407 Accuracy 0.1480\n",
            "Epoch 3 Batch 450 Loss 2.1339 Accuracy 0.1487\n",
            "Epoch 3 Batch 500 Loss 2.1265 Accuracy 0.1495\n",
            "Epoch 3 Batch 550 Loss 2.1206 Accuracy 0.1503\n",
            "Epoch 3 Batch 600 Loss 2.1135 Accuracy 0.1512\n",
            "Epoch 3 Batch 650 Loss 2.1021 Accuracy 0.1517\n",
            "Epoch 3 Batch 700 Loss 2.0966 Accuracy 0.1526\n",
            "Epoch 3 Loss 2.0966 Accuracy 0.1526\n",
            "Time taken for 1 epoch: 92.77965211868286 secs\n",
            "\n",
            "Epoch 4 Batch 0 Loss 1.8709 Accuracy 0.1562\n",
            "Epoch 4 Batch 50 Loss 1.9552 Accuracy 0.1681\n",
            "Epoch 4 Batch 100 Loss 1.9357 Accuracy 0.1681\n",
            "Epoch 4 Batch 150 Loss 1.9352 Accuracy 0.1699\n",
            "Epoch 4 Batch 200 Loss 1.9257 Accuracy 0.1705\n",
            "Epoch 4 Batch 250 Loss 1.9122 Accuracy 0.1711\n",
            "Epoch 4 Batch 300 Loss 1.9051 Accuracy 0.1721\n",
            "Epoch 4 Batch 350 Loss 1.8993 Accuracy 0.1734\n",
            "Epoch 4 Batch 400 Loss 1.8897 Accuracy 0.1744\n",
            "Epoch 4 Batch 450 Loss 1.8838 Accuracy 0.1754\n",
            "Epoch 4 Batch 500 Loss 1.8786 Accuracy 0.1766\n",
            "Epoch 4 Batch 550 Loss 1.8769 Accuracy 0.1779\n",
            "Epoch 4 Batch 600 Loss 1.8726 Accuracy 0.1790\n",
            "Epoch 4 Batch 650 Loss 1.8653 Accuracy 0.1799\n",
            "Epoch 4 Batch 700 Loss 1.8599 Accuracy 0.1808\n",
            "Epoch 4 Loss 1.8607 Accuracy 0.1809\n",
            "Time taken for 1 epoch: 92.94512176513672 secs\n",
            "\n",
            "Epoch 5 Batch 0 Loss 1.8791 Accuracy 0.2040\n",
            "Epoch 5 Batch 50 Loss 1.6848 Accuracy 0.1977\n",
            "Epoch 5 Batch 100 Loss 1.6985 Accuracy 0.1991\n",
            "Epoch 5 Batch 150 Loss 1.6893 Accuracy 0.1998\n",
            "Epoch 5 Batch 200 Loss 1.6856 Accuracy 0.2006\n",
            "Epoch 5 Batch 250 Loss 1.6814 Accuracy 0.2008\n",
            "Epoch 5 Batch 300 Loss 1.6780 Accuracy 0.2016\n",
            "Epoch 5 Batch 350 Loss 1.6706 Accuracy 0.2020\n",
            "Epoch 5 Batch 400 Loss 1.6648 Accuracy 0.2031\n",
            "Epoch 5 Batch 450 Loss 1.6629 Accuracy 0.2039\n",
            "Epoch 5 Batch 500 Loss 1.6603 Accuracy 0.2043\n",
            "Epoch 5 Batch 550 Loss 1.6551 Accuracy 0.2050\n",
            "Epoch 5 Batch 600 Loss 1.6509 Accuracy 0.2056\n",
            "Epoch 5 Batch 650 Loss 1.6463 Accuracy 0.2061\n",
            "Epoch 5 Batch 700 Loss 1.6436 Accuracy 0.2067\n",
            "Saving checkpoint for epoch 5 at ./checkpoints/train/ckpt-1\n",
            "Epoch 5 Loss 1.6436 Accuracy 0.2067\n",
            "Time taken for 1 epoch: 93.27758932113647 secs\n",
            "\n",
            "Epoch 6 Batch 0 Loss 1.3075 Accuracy 0.2344\n",
            "Epoch 6 Batch 50 Loss 1.4924 Accuracy 0.2203\n",
            "Epoch 6 Batch 100 Loss 1.4798 Accuracy 0.2207\n",
            "Epoch 6 Batch 150 Loss 1.4806 Accuracy 0.2217\n",
            "Epoch 6 Batch 200 Loss 1.4801 Accuracy 0.2213\n",
            "Epoch 6 Batch 250 Loss 1.4783 Accuracy 0.2216\n",
            "Epoch 6 Batch 300 Loss 1.4809 Accuracy 0.2220\n",
            "Epoch 6 Batch 350 Loss 1.4782 Accuracy 0.2234\n",
            "Epoch 6 Batch 400 Loss 1.4752 Accuracy 0.2238\n",
            "Epoch 6 Batch 450 Loss 1.4719 Accuracy 0.2241\n",
            "Epoch 6 Batch 500 Loss 1.4755 Accuracy 0.2248\n",
            "Epoch 6 Batch 550 Loss 1.4704 Accuracy 0.2250\n",
            "Epoch 6 Batch 600 Loss 1.4685 Accuracy 0.2254\n",
            "Epoch 6 Batch 650 Loss 1.4664 Accuracy 0.2256\n",
            "Epoch 6 Batch 700 Loss 1.4652 Accuracy 0.2261\n",
            "Epoch 6 Loss 1.4653 Accuracy 0.2262\n",
            "Time taken for 1 epoch: 92.48830533027649 secs\n",
            "\n",
            "Epoch 7 Batch 0 Loss 1.3826 Accuracy 0.2399\n",
            "Epoch 7 Batch 50 Loss 1.3117 Accuracy 0.2453\n",
            "Epoch 7 Batch 100 Loss 1.3149 Accuracy 0.2435\n",
            "Epoch 7 Batch 150 Loss 1.3118 Accuracy 0.2439\n",
            "Epoch 7 Batch 200 Loss 1.3085 Accuracy 0.2442\n",
            "Epoch 7 Batch 250 Loss 1.3061 Accuracy 0.2444\n",
            "Epoch 7 Batch 300 Loss 1.3036 Accuracy 0.2444\n",
            "Epoch 7 Batch 350 Loss 1.3002 Accuracy 0.2443\n",
            "Epoch 7 Batch 400 Loss 1.2981 Accuracy 0.2448\n",
            "Epoch 7 Batch 450 Loss 1.2951 Accuracy 0.2452\n",
            "Epoch 7 Batch 500 Loss 1.2947 Accuracy 0.2455\n",
            "Epoch 7 Batch 550 Loss 1.2920 Accuracy 0.2461\n",
            "Epoch 7 Batch 600 Loss 1.2881 Accuracy 0.2463\n",
            "Epoch 7 Batch 650 Loss 1.2846 Accuracy 0.2463\n",
            "Epoch 7 Batch 700 Loss 1.2823 Accuracy 0.2469\n",
            "Epoch 7 Loss 1.2824 Accuracy 0.2469\n",
            "Time taken for 1 epoch: 92.22248888015747 secs\n",
            "\n",
            "Epoch 8 Batch 0 Loss 0.9192 Accuracy 0.2396\n",
            "Epoch 8 Batch 50 Loss 1.1327 Accuracy 0.2639\n",
            "Epoch 8 Batch 100 Loss 1.1416 Accuracy 0.2642\n",
            "Epoch 8 Batch 150 Loss 1.1483 Accuracy 0.2652\n",
            "Epoch 8 Batch 200 Loss 1.1460 Accuracy 0.2636\n",
            "Epoch 8 Batch 250 Loss 1.1449 Accuracy 0.2639\n",
            "Epoch 8 Batch 300 Loss 1.1383 Accuracy 0.2639\n",
            "Epoch 8 Batch 350 Loss 1.1373 Accuracy 0.2644\n",
            "Epoch 8 Batch 400 Loss 1.1365 Accuracy 0.2650\n",
            "Epoch 8 Batch 450 Loss 1.1361 Accuracy 0.2654\n",
            "Epoch 8 Batch 500 Loss 1.1361 Accuracy 0.2654\n",
            "Epoch 8 Batch 550 Loss 1.1338 Accuracy 0.2653\n",
            "Epoch 8 Batch 600 Loss 1.1348 Accuracy 0.2655\n",
            "Epoch 8 Batch 650 Loss 1.1340 Accuracy 0.2652\n",
            "Epoch 8 Batch 700 Loss 1.1315 Accuracy 0.2650\n",
            "Epoch 8 Loss 1.1317 Accuracy 0.2650\n",
            "Time taken for 1 epoch: 92.77170467376709 secs\n",
            "\n",
            "Epoch 9 Batch 0 Loss 1.0482 Accuracy 0.2909\n",
            "Epoch 9 Batch 50 Loss 1.0149 Accuracy 0.2832\n",
            "Epoch 9 Batch 100 Loss 1.0173 Accuracy 0.2815\n",
            "Epoch 9 Batch 150 Loss 1.0077 Accuracy 0.2797\n",
            "Epoch 9 Batch 200 Loss 1.0081 Accuracy 0.2793\n",
            "Epoch 9 Batch 250 Loss 1.0080 Accuracy 0.2788\n",
            "Epoch 9 Batch 300 Loss 1.0084 Accuracy 0.2784\n",
            "Epoch 9 Batch 350 Loss 1.0108 Accuracy 0.2785\n",
            "Epoch 9 Batch 400 Loss 1.0112 Accuracy 0.2785\n",
            "Epoch 9 Batch 450 Loss 1.0103 Accuracy 0.2785\n",
            "Epoch 9 Batch 500 Loss 1.0142 Accuracy 0.2789\n",
            "Epoch 9 Batch 550 Loss 1.0131 Accuracy 0.2786\n",
            "Epoch 9 Batch 600 Loss 1.0144 Accuracy 0.2788\n",
            "Epoch 9 Batch 650 Loss 1.0156 Accuracy 0.2787\n",
            "Epoch 9 Batch 700 Loss 1.0176 Accuracy 0.2787\n",
            "Epoch 9 Loss 1.0174 Accuracy 0.2787\n",
            "Time taken for 1 epoch: 92.77403545379639 secs\n",
            "\n",
            "Epoch 10 Batch 0 Loss 0.8984 Accuracy 0.2576\n",
            "Epoch 10 Batch 50 Loss 0.8939 Accuracy 0.2915\n",
            "Epoch 10 Batch 100 Loss 0.9018 Accuracy 0.2899\n",
            "Epoch 10 Batch 150 Loss 0.9129 Accuracy 0.2911\n",
            "Epoch 10 Batch 200 Loss 0.9144 Accuracy 0.2912\n",
            "Epoch 10 Batch 250 Loss 0.9142 Accuracy 0.2903\n",
            "Epoch 10 Batch 300 Loss 0.9196 Accuracy 0.2901\n",
            "Epoch 10 Batch 350 Loss 0.9254 Accuracy 0.2905\n",
            "Epoch 10 Batch 400 Loss 0.9254 Accuracy 0.2910\n",
            "Epoch 10 Batch 450 Loss 0.9264 Accuracy 0.2904\n",
            "Epoch 10 Batch 500 Loss 0.9285 Accuracy 0.2903\n",
            "Epoch 10 Batch 550 Loss 0.9309 Accuracy 0.2905\n",
            "Epoch 10 Batch 600 Loss 0.9326 Accuracy 0.2905\n",
            "Epoch 10 Batch 650 Loss 0.9338 Accuracy 0.2902\n",
            "Epoch 10 Batch 700 Loss 0.9354 Accuracy 0.2902\n",
            "Saving checkpoint for epoch 10 at ./checkpoints/train/ckpt-2\n",
            "Epoch 10 Loss 0.9357 Accuracy 0.2902\n",
            "Time taken for 1 epoch: 93.14252591133118 secs\n",
            "\n",
            "Epoch 11 Batch 0 Loss 0.8044 Accuracy 0.3187\n",
            "Epoch 11 Batch 50 Loss 0.8146 Accuracy 0.2974\n",
            "Epoch 11 Batch 100 Loss 0.8337 Accuracy 0.2992\n",
            "Epoch 11 Batch 150 Loss 0.8389 Accuracy 0.3002\n",
            "Epoch 11 Batch 200 Loss 0.8474 Accuracy 0.3008\n",
            "Epoch 11 Batch 250 Loss 0.8500 Accuracy 0.3008\n",
            "Epoch 11 Batch 300 Loss 0.8534 Accuracy 0.3008\n",
            "Epoch 11 Batch 350 Loss 0.8525 Accuracy 0.3001\n",
            "Epoch 11 Batch 400 Loss 0.8536 Accuracy 0.2999\n",
            "Epoch 11 Batch 450 Loss 0.8538 Accuracy 0.2997\n",
            "Epoch 11 Batch 500 Loss 0.8559 Accuracy 0.2993\n",
            "Epoch 11 Batch 550 Loss 0.8596 Accuracy 0.2995\n",
            "Epoch 11 Batch 600 Loss 0.8606 Accuracy 0.2990\n",
            "Epoch 11 Batch 650 Loss 0.8632 Accuracy 0.2989\n",
            "Epoch 11 Batch 700 Loss 0.8647 Accuracy 0.2985\n",
            "Epoch 11 Loss 0.8647 Accuracy 0.2985\n",
            "Time taken for 1 epoch: 92.68551206588745 secs\n",
            "\n",
            "Epoch 12 Batch 0 Loss 0.8125 Accuracy 0.3429\n",
            "Epoch 12 Batch 50 Loss 0.7645 Accuracy 0.3096\n",
            "Epoch 12 Batch 100 Loss 0.7736 Accuracy 0.3100\n",
            "Epoch 12 Batch 150 Loss 0.7796 Accuracy 0.3103\n",
            "Epoch 12 Batch 200 Loss 0.7859 Accuracy 0.3100\n",
            "Epoch 12 Batch 250 Loss 0.7884 Accuracy 0.3095\n",
            "Epoch 12 Batch 300 Loss 0.7945 Accuracy 0.3087\n",
            "Epoch 12 Batch 350 Loss 0.7959 Accuracy 0.3085\n",
            "Epoch 12 Batch 400 Loss 0.7994 Accuracy 0.3086\n",
            "Epoch 12 Batch 450 Loss 0.8017 Accuracy 0.3083\n",
            "Epoch 12 Batch 500 Loss 0.8031 Accuracy 0.3079\n",
            "Epoch 12 Batch 550 Loss 0.8044 Accuracy 0.3077\n",
            "Epoch 12 Batch 600 Loss 0.8059 Accuracy 0.3070\n",
            "Epoch 12 Batch 650 Loss 0.8085 Accuracy 0.3066\n",
            "Epoch 12 Batch 700 Loss 0.8099 Accuracy 0.3064\n",
            "Epoch 12 Loss 0.8099 Accuracy 0.3064\n",
            "Time taken for 1 epoch: 92.93263721466064 secs\n",
            "\n",
            "Epoch 13 Batch 0 Loss 0.6588 Accuracy 0.3091\n",
            "Epoch 13 Batch 50 Loss 0.7251 Accuracy 0.3231\n",
            "Epoch 13 Batch 100 Loss 0.7312 Accuracy 0.3211\n",
            "Epoch 13 Batch 150 Loss 0.7336 Accuracy 0.3188\n",
            "Epoch 13 Batch 200 Loss 0.7350 Accuracy 0.3177\n",
            "Epoch 13 Batch 250 Loss 0.7414 Accuracy 0.3167\n",
            "Epoch 13 Batch 300 Loss 0.7465 Accuracy 0.3169\n",
            "Epoch 13 Batch 350 Loss 0.7468 Accuracy 0.3159\n",
            "Epoch 13 Batch 400 Loss 0.7470 Accuracy 0.3153\n",
            "Epoch 13 Batch 450 Loss 0.7498 Accuracy 0.3150\n",
            "Epoch 13 Batch 500 Loss 0.7534 Accuracy 0.3150\n",
            "Epoch 13 Batch 550 Loss 0.7562 Accuracy 0.3149\n",
            "Epoch 13 Batch 600 Loss 0.7592 Accuracy 0.3144\n",
            "Epoch 13 Batch 650 Loss 0.7615 Accuracy 0.3141\n",
            "Epoch 13 Batch 700 Loss 0.7632 Accuracy 0.3134\n",
            "Epoch 13 Loss 0.7635 Accuracy 0.3134\n",
            "Time taken for 1 epoch: 92.77151727676392 secs\n",
            "\n",
            "Epoch 14 Batch 0 Loss 0.6006 Accuracy 0.3309\n",
            "Epoch 14 Batch 50 Loss 0.6880 Accuracy 0.3275\n",
            "Epoch 14 Batch 100 Loss 0.6904 Accuracy 0.3246\n",
            "Epoch 14 Batch 150 Loss 0.6987 Accuracy 0.3238\n",
            "Epoch 14 Batch 200 Loss 0.7004 Accuracy 0.3244\n",
            "Epoch 14 Batch 250 Loss 0.7032 Accuracy 0.3230\n",
            "Epoch 14 Batch 300 Loss 0.7034 Accuracy 0.3216\n",
            "Epoch 14 Batch 350 Loss 0.7038 Accuracy 0.3216\n",
            "Epoch 14 Batch 400 Loss 0.7061 Accuracy 0.3215\n",
            "Epoch 14 Batch 450 Loss 0.7091 Accuracy 0.3213\n",
            "Epoch 14 Batch 500 Loss 0.7111 Accuracy 0.3206\n",
            "Epoch 14 Batch 550 Loss 0.7148 Accuracy 0.3200\n",
            "Epoch 14 Batch 600 Loss 0.7178 Accuracy 0.3199\n",
            "Epoch 14 Batch 650 Loss 0.7195 Accuracy 0.3196\n",
            "Epoch 14 Batch 700 Loss 0.7210 Accuracy 0.3193\n",
            "Epoch 14 Loss 0.7211 Accuracy 0.3193\n",
            "Time taken for 1 epoch: 92.36823344230652 secs\n",
            "\n",
            "Epoch 15 Batch 0 Loss 0.6589 Accuracy 0.3419\n",
            "Epoch 15 Batch 50 Loss 0.6397 Accuracy 0.3315\n",
            "Epoch 15 Batch 100 Loss 0.6491 Accuracy 0.3298\n",
            "Epoch 15 Batch 150 Loss 0.6483 Accuracy 0.3267\n",
            "Epoch 15 Batch 200 Loss 0.6534 Accuracy 0.3266\n",
            "Epoch 15 Batch 250 Loss 0.6566 Accuracy 0.3253\n",
            "Epoch 15 Batch 300 Loss 0.6603 Accuracy 0.3257\n",
            "Epoch 15 Batch 350 Loss 0.6646 Accuracy 0.3254\n",
            "Epoch 15 Batch 400 Loss 0.6677 Accuracy 0.3253\n",
            "Epoch 15 Batch 450 Loss 0.6697 Accuracy 0.3250\n",
            "Epoch 15 Batch 500 Loss 0.6733 Accuracy 0.3248\n",
            "Epoch 15 Batch 550 Loss 0.6764 Accuracy 0.3248\n",
            "Epoch 15 Batch 600 Loss 0.6792 Accuracy 0.3248\n",
            "Epoch 15 Batch 650 Loss 0.6823 Accuracy 0.3248\n",
            "Epoch 15 Batch 700 Loss 0.6859 Accuracy 0.3245\n",
            "Saving checkpoint for epoch 15 at ./checkpoints/train/ckpt-3\n",
            "Epoch 15 Loss 0.6859 Accuracy 0.3245\n",
            "Time taken for 1 epoch: 92.65057063102722 secs\n",
            "\n",
            "Epoch 16 Batch 0 Loss 0.6197 Accuracy 0.3509\n",
            "Epoch 16 Batch 50 Loss 0.6134 Accuracy 0.3350\n",
            "Epoch 16 Batch 100 Loss 0.6091 Accuracy 0.3352\n",
            "Epoch 16 Batch 150 Loss 0.6187 Accuracy 0.3313\n",
            "Epoch 16 Batch 200 Loss 0.6260 Accuracy 0.3319\n",
            "Epoch 16 Batch 250 Loss 0.6292 Accuracy 0.3314\n",
            "Epoch 16 Batch 300 Loss 0.6312 Accuracy 0.3306\n",
            "Epoch 16 Batch 350 Loss 0.6347 Accuracy 0.3304\n",
            "Epoch 16 Batch 400 Loss 0.6372 Accuracy 0.3303\n",
            "Epoch 16 Batch 450 Loss 0.6397 Accuracy 0.3302\n",
            "Epoch 16 Batch 500 Loss 0.6435 Accuracy 0.3304\n",
            "Epoch 16 Batch 550 Loss 0.6463 Accuracy 0.3306\n",
            "Epoch 16 Batch 600 Loss 0.6485 Accuracy 0.3297\n",
            "Epoch 16 Batch 650 Loss 0.6513 Accuracy 0.3293\n",
            "Epoch 16 Batch 700 Loss 0.6528 Accuracy 0.3286\n",
            "Epoch 16 Loss 0.6530 Accuracy 0.3286\n",
            "Time taken for 1 epoch: 92.45542120933533 secs\n",
            "\n",
            "Epoch 17 Batch 0 Loss 0.4812 Accuracy 0.3433\n",
            "Epoch 17 Batch 50 Loss 0.5767 Accuracy 0.3422\n",
            "Epoch 17 Batch 100 Loss 0.5773 Accuracy 0.3392\n",
            "Epoch 17 Batch 150 Loss 0.5871 Accuracy 0.3386\n",
            "Epoch 17 Batch 200 Loss 0.5898 Accuracy 0.3363\n",
            "Epoch 17 Batch 250 Loss 0.5957 Accuracy 0.3365\n",
            "Epoch 17 Batch 300 Loss 0.6017 Accuracy 0.3361\n",
            "Epoch 17 Batch 350 Loss 0.6040 Accuracy 0.3349\n",
            "Epoch 17 Batch 400 Loss 0.6068 Accuracy 0.3351\n",
            "Epoch 17 Batch 450 Loss 0.6108 Accuracy 0.3351\n",
            "Epoch 17 Batch 500 Loss 0.6137 Accuracy 0.3350\n",
            "Epoch 17 Batch 550 Loss 0.6165 Accuracy 0.3349\n",
            "Epoch 17 Batch 600 Loss 0.6186 Accuracy 0.3344\n",
            "Epoch 17 Batch 650 Loss 0.6209 Accuracy 0.3339\n",
            "Epoch 17 Batch 700 Loss 0.6248 Accuracy 0.3334\n",
            "Epoch 17 Loss 0.6250 Accuracy 0.3334\n",
            "Time taken for 1 epoch: 92.54417324066162 secs\n",
            "\n",
            "Epoch 18 Batch 0 Loss 0.5300 Accuracy 0.3105\n",
            "Epoch 18 Batch 50 Loss 0.5533 Accuracy 0.3390\n",
            "Epoch 18 Batch 100 Loss 0.5586 Accuracy 0.3417\n",
            "Epoch 18 Batch 150 Loss 0.5641 Accuracy 0.3427\n",
            "Epoch 18 Batch 200 Loss 0.5675 Accuracy 0.3413\n",
            "Epoch 18 Batch 250 Loss 0.5711 Accuracy 0.3399\n",
            "Epoch 18 Batch 300 Loss 0.5732 Accuracy 0.3392\n",
            "Epoch 18 Batch 350 Loss 0.5786 Accuracy 0.3390\n",
            "Epoch 18 Batch 400 Loss 0.5829 Accuracy 0.3388\n",
            "Epoch 18 Batch 450 Loss 0.5849 Accuracy 0.3381\n",
            "Epoch 18 Batch 500 Loss 0.5871 Accuracy 0.3377\n",
            "Epoch 18 Batch 550 Loss 0.5911 Accuracy 0.3376\n",
            "Epoch 18 Batch 600 Loss 0.5943 Accuracy 0.3375\n",
            "Epoch 18 Batch 650 Loss 0.5979 Accuracy 0.3375\n",
            "Epoch 18 Batch 700 Loss 0.6004 Accuracy 0.3371\n",
            "Epoch 18 Loss 0.6004 Accuracy 0.3371\n",
            "Time taken for 1 epoch: 141.925687789917 secs\n",
            "\n",
            "Epoch 19 Batch 0 Loss 0.5205 Accuracy 0.3534\n",
            "Epoch 19 Batch 50 Loss 0.5311 Accuracy 0.3452\n",
            "Epoch 19 Batch 100 Loss 0.5323 Accuracy 0.3434\n",
            "Epoch 19 Batch 150 Loss 0.5436 Accuracy 0.3436\n",
            "Epoch 19 Batch 200 Loss 0.5462 Accuracy 0.3432\n",
            "Epoch 19 Batch 250 Loss 0.5498 Accuracy 0.3424\n",
            "Epoch 19 Batch 300 Loss 0.5525 Accuracy 0.3424\n",
            "Epoch 19 Batch 350 Loss 0.5550 Accuracy 0.3422\n",
            "Epoch 19 Batch 400 Loss 0.5577 Accuracy 0.3420\n",
            "Epoch 19 Batch 450 Loss 0.5612 Accuracy 0.3417\n",
            "Epoch 19 Batch 500 Loss 0.5645 Accuracy 0.3414\n",
            "Epoch 19 Batch 550 Loss 0.5679 Accuracy 0.3410\n",
            "Epoch 19 Batch 600 Loss 0.5707 Accuracy 0.3405\n",
            "Epoch 19 Batch 650 Loss 0.5732 Accuracy 0.3406\n",
            "Epoch 19 Batch 700 Loss 0.5760 Accuracy 0.3403\n",
            "Epoch 19 Loss 0.5763 Accuracy 0.3404\n",
            "Time taken for 1 epoch: 92.92151713371277 secs\n",
            "\n",
            "Epoch 20 Batch 0 Loss 0.4320 Accuracy 0.3077\n",
            "Epoch 20 Batch 50 Loss 0.5099 Accuracy 0.3505\n",
            "Epoch 20 Batch 100 Loss 0.5184 Accuracy 0.3509\n",
            "Epoch 20 Batch 150 Loss 0.5231 Accuracy 0.3496\n",
            "Epoch 20 Batch 200 Loss 0.5261 Accuracy 0.3487\n",
            "Epoch 20 Batch 250 Loss 0.5286 Accuracy 0.3471\n",
            "Epoch 20 Batch 300 Loss 0.5341 Accuracy 0.3472\n",
            "Epoch 20 Batch 350 Loss 0.5348 Accuracy 0.3464\n",
            "Epoch 20 Batch 400 Loss 0.5380 Accuracy 0.3464\n",
            "Epoch 20 Batch 450 Loss 0.5410 Accuracy 0.3464\n",
            "Epoch 20 Batch 500 Loss 0.5438 Accuracy 0.3459\n",
            "Epoch 20 Batch 550 Loss 0.5468 Accuracy 0.3453\n",
            "Epoch 20 Batch 600 Loss 0.5496 Accuracy 0.3446\n",
            "Epoch 20 Batch 650 Loss 0.5522 Accuracy 0.3444\n",
            "Epoch 20 Batch 700 Loss 0.5546 Accuracy 0.3439\n",
            "Saving checkpoint for epoch 20 at ./checkpoints/train/ckpt-4\n",
            "Epoch 20 Loss 0.5546 Accuracy 0.3439\n",
            "Time taken for 1 epoch: 92.83775067329407 secs\n",
            "\n"
          ]
        }
      ]
    },
    {
      "cell_type": "markdown",
      "metadata": {
        "id": "c9fzJtZPE9VR"
      },
      "source": [
        "## 評価\n",
        "評価は次のステップで行われる。\n",
        "- ポルトガル語のトークナイザー(tokenizer_pt)を使用して入力文をエンコードする。\n",
        "さらに、モデルの訓練に使用されたものと同様に、開始及び終了トークンを追加する。\n",
        "これが入力のエンコード。\n",
        "- デコーダーの入力は、start token == tokenizer_en.vocab_sizeである。\n",
        "- パディングマスクとルックアヘッドマスクを計算する。\n",
        "- decoderはencoder outputと自分自身の出力（セルフアテンション）を見て、予測値を出力する。\n",
        "- 最後の単語を選択し、そのargmaxを計算する。\n",
        "- デコーダーの入力に予測された単語を結合し、デコーダーに渡す。\n",
        "- このアプローチでは、デコーダーは自分自身が予測した過去の単語に基づいて次の単語を予測する。"
      ]
    },
    {
      "cell_type": "code",
      "metadata": {
        "id": "5D5fpi8jE5MJ"
      },
      "source": [
        "def evaluate(inp_sentence):\n",
        "    start_token = [tokenizer_pt.vocab_size]\n",
        "    end_token = [tokenizer_pt.vocab_size + 1]\n",
        "\n",
        "    # inp文はポルトガル語、開始及び終了トークンを追加\n",
        "    inp_sentence = start_token + tokenizer_pt.encode(inp_sentence) + end_token\n",
        "    encoder_input = tf.expand_dims(inp_sentence, 0)\n",
        "\n",
        "    # ターゲットは英語であるため、Transformerに与える最初の単語は英語の開始トークンとなる\n",
        "    decoder_input = [tokenizer_en.vocab_size]\n",
        "    output = tf.expand_dims(decoder_input, 0)\n",
        "\n",
        "    for i in range(MAX_LENGTH):\n",
        "        enc_padding_mask, combined_mask, dec_padding_mask = create_masks(\n",
        "            encoder_input, output)\n",
        "        \n",
        "        # predictions.shape == (batch_size, seq_len, vocab_size)\n",
        "        predictions, attention_weights = transformer(encoder_input,\n",
        "                                                     output, \n",
        "                                                     False,\n",
        "                                                     enc_padding_mask,\n",
        "                                                     combined_mask,\n",
        "                                                     dec_padding_mask)\n",
        "        \n",
        "        # seq_len次元から最後の単語を選択\n",
        "        predictions = predictions[:, -1:, :] # (batch_size, 1, vocab_size)\n",
        "\n",
        "        predicted_id = tf.cast(tf.argmax(predictions, axis=-1), tf.int32)\n",
        "\n",
        "        # predicted_idが終了トークンと等しいなら結果を返す。\n",
        "        if predicted_id == tokenizer_en.vocab_size+1:\n",
        "            return tf.squeeze(output, axis=0), attention_weights\n",
        "        \n",
        "        # 出力にpredicted_idを結合し、デコーダーへの入力とする。\n",
        "        output = tf.concat([output, predicted_id], axis=-1)\n",
        "    \n",
        "    return tf.squeeze(output, axis=0), attention_weights"
      ],
      "execution_count": 61,
      "outputs": []
    },
    {
      "cell_type": "code",
      "metadata": {
        "id": "QbfHrdyjJwy1"
      },
      "source": [
        "def plot_attention_weights(attention, sentence, result, layer):\n",
        "    fig =plt.figure(figsize=(16, 8))\n",
        "\n",
        "    sentence = tokenizer_pt.encode(sentence)\n",
        "\n",
        "    attention = tf.squeeze(attention[layer], axis=0)\n",
        "\n",
        "    for head in range(attention.shape[0]):\n",
        "        ax = fig.add_subplot(2, 4, head+1)\n",
        "\n",
        "        # アテンションの重みをプロット\n",
        "        ax.matshow(attention[head][:-1, :], cmap='viridis')\n",
        "\n",
        "        fontdict = {'fontsize': 10}\n",
        "\n",
        "        ax.set_xticks(range(len(sentence)+2))\n",
        "        ax.set_yticks(range(len(result)))\n",
        "\n",
        "        ax.set_ylim(len(result)-1.5, -0.5)\n",
        "\n",
        "        ax.set_xticklabels(\n",
        "            ['<start>']+[tokenizer_pt.decode([i]) for i in sentence]+['<end>'],\n",
        "            fontdict=fontdict, rotation=90)\n",
        "        \n",
        "        ax.set_yticklabels([tokenizer_en.decode([i])for i in result\n",
        "                            if i < tokenizer_en.vocab_size],\n",
        "                           fontdict=fontdict)\n",
        "        \n",
        "        ax.set_xlabel('Head {}'.format(head+1))\n",
        "\n",
        "    plt.tight_layout()\n",
        "    plt.show()"
      ],
      "execution_count": 66,
      "outputs": []
    },
    {
      "cell_type": "code",
      "metadata": {
        "id": "o5JbKehILOeS"
      },
      "source": [
        "def translate(sentence, plot=''):\n",
        "    result, attention_weights = evaluate(sentence)\n",
        "\n",
        "    predicted_sentence = tokenizer_en.decode([i for i in result\n",
        "                                              if i < tokenizer_en.vocab_size])\n",
        "    \n",
        "    print('Input: {}'.format(sentence))\n",
        "    print('Predicted translation: {}'.format(predicted_sentence))\n",
        "\n",
        "    if plot:\n",
        "        plot_attention_weights(attention_weights, sentence, result, plot)"
      ],
      "execution_count": 57,
      "outputs": []
    },
    {
      "cell_type": "code",
      "metadata": {
        "colab": {
          "base_uri": "https://localhost:8080/"
        },
        "id": "Rh88t8uOLxk8",
        "outputId": "57316829-9e45-494c-bf9f-20a5ebe79e9c"
      },
      "source": [
        "translate(\"este é um problema que temos que resolver.\")\n",
        "print (\"Real translation: this is a problem we have to solve .\")"
      ],
      "execution_count": 62,
      "outputs": [
        {
          "output_type": "stream",
          "name": "stdout",
          "text": [
            "Input: este é um problema que temos que resolver.\n",
            "Predicted translation: this is a problem that we have to solve the world .\n",
            "Real translation: this is a problem we have to solve .\n"
          ]
        }
      ]
    },
    {
      "cell_type": "code",
      "metadata": {
        "colab": {
          "base_uri": "https://localhost:8080/"
        },
        "id": "-ldMydJDS90T",
        "outputId": "cb620b19-7d3f-4bf5-87b0-43a652bfba43"
      },
      "source": [
        "translate(\"os meus vizinhos ouviram sobre esta ideia.\")\n",
        "print (\"Real translation: and my neighboring homes heard about this idea .\")"
      ],
      "execution_count": 63,
      "outputs": [
        {
          "output_type": "stream",
          "name": "stdout",
          "text": [
            "Input: os meus vizinhos ouviram sobre esta ideia.\n",
            "Predicted translation: my neighbors heard about this idea .\n",
            "Real translation: and my neighboring homes heard about this idea .\n"
          ]
        }
      ]
    },
    {
      "cell_type": "code",
      "metadata": {
        "colab": {
          "base_uri": "https://localhost:8080/"
        },
        "id": "BYuHrBRkTAO6",
        "outputId": "b5203bec-5711-4e5b-c7d6-c1b043cfe014"
      },
      "source": [
        "translate(\"vou então muito rapidamente partilhar convosco algumas histórias de algumas coisas mágicas que aconteceram.\")\n",
        "print (\"Real translation: so i 'll just share with you some stories very quickly of some magical things that have happened .\")"
      ],
      "execution_count": 64,
      "outputs": [
        {
          "output_type": "stream",
          "name": "stdout",
          "text": [
            "Input: vou então muito rapidamente partilhar convosco algumas histórias de algumas coisas mágicas que aconteceram.\n",
            "Predicted translation: so i 'm going to be very quickly with some magic stories that happened to you .\n",
            "Real translation: so i 'll just share with you some stories very quickly of some magical things that have happened .\n"
          ]
        }
      ]
    },
    {
      "cell_type": "code",
      "metadata": {
        "colab": {
          "base_uri": "https://localhost:8080/",
          "height": 419
        },
        "id": "xmbFsLHoTJpK",
        "outputId": "42b98d90-9af2-42c8-a4ae-521e1258777e"
      },
      "source": [
        "translate(\"este é o primeiro livro que eu fiz.\", plot='decoder_layer4_block2')\n",
        "print (\"Real translation: this is the first book i've ever done.\")"
      ],
      "execution_count": 67,
      "outputs": [
        {
          "output_type": "stream",
          "name": "stdout",
          "text": [
            "Input: este é o primeiro livro que eu fiz.\n",
            "Predicted translation: this is the first book that i did have .\n"
          ]
        },
        {
          "output_type": "display_data",
          "data": {
            "image/png": "[encoded data removed]",
            "text/plain": [
              "<Figure size 1152x576 with 8 Axes>"
            ]
          },
          "metadata": {
            "needs_background": "light"
          }
        },
        {
          "output_type": "stream",
          "name": "stdout",
          "text": [
            "Real translation: this is the first book i've ever done.\n"
          ]
        }
      ]
    }
  ]
}